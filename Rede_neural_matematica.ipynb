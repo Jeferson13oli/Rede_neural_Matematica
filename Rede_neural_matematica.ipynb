{
 "cells": [
  {
   "cell_type": "markdown",
   "metadata": {},
   "source": [
    "# <font color='blue'>Machine Learning</font>\n",
    "\n",
    "# <font color='blue'>Rede Neurais Artificiais</font>"
   ]
  },
  {
   "cell_type": "code",
   "execution_count": 1,
   "metadata": {},
   "outputs": [
    {
     "name": "stdout",
     "output_type": "stream",
     "text": [
      "Versão da Linguagem Python Usada Neste Jupyter Notebook: 3.13.2\n"
     ]
    }
   ],
   "source": [
    "# Versão da Linguagem Python\n",
    "from platform import python_version\n",
    "print('Versão da Linguagem Python Usada Neste Jupyter Notebook:', python_version())"
   ]
  },
  {
   "cell_type": "markdown",
   "metadata": {},
   "source": [
    "## A Matemática das Redes Neurais Artificiais\n",
    "\n",
    "Este notebook tem como objetivo demonstrar a implementação de uma rede neural do zero, utilizando apenas conceitos matemáticos e a biblioteca NumPy. \n",
    "\n",
    "O foco está em entender os fundamentos de redes neurais sem depender de frameworks avançados como TensorFlow ou PyTorch.\n",
    "\n",
    "Vamos percorrer desde a inicialização dos pesos até o treinamento e avaliação da rede. Ao final, você terá uma compreensão clara dos cálculos internos de uma rede neural.\n",
    "\n",
    "### Construindo a Rede Neural com Programação e Matemática"
   ]
  },
  {
   "cell_type": "markdown",
   "metadata": {},
   "source": [
    "Teremos 2 Partes:\n",
    "\n",
    "- Parte 1 - Vamos construir uma rede neural artificial somente com operações matemáticas\n",
    "- Parte 2 - Vamos treinar a rede para Prever a Ocorrência de Câncer"
   ]
  },
  {
   "cell_type": "markdown",
   "metadata": {},
   "source": [
    "## A Arquitetura de Redes Neurais Artificiais"
   ]
  },
  {
   "cell_type": "markdown",
   "metadata": {},
   "source": [
    "Uma rede neural típica é constituída por um conjunto de neurônios interligados, infuenciando uns aos outros formando um sistema maior, capaz de armazenar conhecimento adquirido por meio de exemplos apresentados e, assim, podendo realizar inferências sobre novos conjuntos de dados. Vejamos a arquitetura de redes neurais artificiais.\n",
    "\n",
    "As redes neurais são comumente apresentadas como um grafo orientado, onde os vértices são os neurônios e as arestas as sinapses. A direção das arestas informa o tipo de alimentação, ou seja, como os neurônios são alimentados (recebem sinais de entrada). As redes neurais derivam seu poder devido a sua estrutura massiva e paralela e a habilidade de aprender por experiência. Essa experiência é transmitida por meio de exemplos obtidos do mundo real, definidos como um conjunto de características formados por dados de entrada e de saída. Se apresentamos esses dados de entrada e saída à rede, estamos diante de aprendizagem supervsionada e caso apresentemos apenas os dados de entrada, estamos diante de aprendizagem não supervisionada!\n",
    "\n",
    "O conhecimento obtido pela rede através dos exemplos é armazenado na forma de pesos das conexões, os quais serão ajustados a fim de tomar decisões corretas a partir de novas entradas, ou seja, novas situações do mundo real não conhecidas pela rede. O processo de ajuste dos pesos sinapticos é realizado pelo algoritmo de aprendizagem, responsável em armazenar na rede o conhecimento do mundo real obtido atraves de exemplos. Existem vários algoritmos de aprendizagem, dentre eles o backpropagation que é o algoritmo mais utilizado.\n",
    "\n",
    "![title](imagens/nnet.png)"
   ]
  },
  {
   "cell_type": "markdown",
   "metadata": {},
   "source": [
    "### Importando os Pacotes"
   ]
  },
  {
   "cell_type": "code",
   "execution_count": 2,
   "metadata": {},
   "outputs": [],
   "source": [
    "# Por enquanto precisaremos somente do NumPy\n",
    "import numpy as np"
   ]
  },
  {
   "cell_type": "code",
   "execution_count": 3,
   "metadata": {},
   "outputs": [
    {
     "name": "stdout",
     "output_type": "stream",
     "text": [
      "Author: Jeferson Oliveira\n",
      "\n",
      "platform: 1.0.8\n",
      "numpy   : 2.2.3\n",
      "\n"
     ]
    }
   ],
   "source": [
    "# Versões dos pacotes usados neste jupyter notebook\n",
    "%reload_ext watermark\n",
    "%watermark -a \"Jeferson Oliveira\" --iversions"
   ]
  },
  {
   "cell_type": "markdown",
   "metadata": {},
   "source": [
    "### Parte 1 - Implementando Uma Rede Neural Artificial Somente com Fórmulas Matemáticas (Sem Frameworks)"
   ]
  },
  {
   "cell_type": "markdown",
   "metadata": {},
   "source": [
    "Faça a leitura do manual em pdf no próximo item de aprendizagem: Parâmetros x Hiperparâmetros.\n",
    "\n",
    "O material esta em ingles, mas é um material rapido sobre a matematica envolvida no algoritmo de rede neural\n",
    "\n",
    "https://arxiv.org/pdf/1905.07490.pdf"
   ]
  },
  {
   "cell_type": "markdown",
   "metadata": {},
   "source": [
    "### Parte 1A - Forward Propagation"
   ]
  },
  {
   "cell_type": "markdown",
   "metadata": {},
   "source": [
    "![title](imagens/nn.png)"
   ]
  },
  {
   "cell_type": "markdown",
   "metadata": {},
   "source": [
    "### Desenvolvendo a Função Para Inicialização de Pesos"
   ]
  },
  {
   "cell_type": "markdown",
   "metadata": {},
   "source": [
    "Para que a rede neural aprenda padrões nos dados, precisamos inicializar os pesos de maneira aleatória e atribuir valores aos bias. \n",
    "\n",
    "Isso evita que todos os neurônios comecem com os mesmos valores e garante que o aprendizado ocorra de forma eficaz.\n",
    "\n",
    "Utilizaremos uma distribuição normal para os pesos, pois isso ajuda na estabilidade do treinamento."
   ]
  },
  {
   "cell_type": "code",
   "execution_count": 4,
   "metadata": {},
   "outputs": [],
   "source": [
    "# Função para inicialização randômica dos parâmetros do modelo\n",
    "def inicializa_parametros(dims_camada_entrada):\n",
    "    \n",
    "    # Dicionário para os parâmetros\n",
    "    parameters = {}\n",
    "    \n",
    "    # Comprimento das dimensões das camadas\n",
    "    comp = len(dims_camada_entrada)\n",
    "    \n",
    "    # Loop pelo comprimento\n",
    "    for i in range(1, comp):\n",
    "        \n",
    "        # Inicialização da matriz de pesos\n",
    "        parameters[\"W\" + str(i)] = np.random.randn(dims_camada_entrada[i], dims_camada_entrada[i - 1]) * 0.01\n",
    "        \n",
    "        # Inicialização do bias\n",
    "        parameters[\"b\" + str(i)] = np.zeros((dims_camada_entrada[i], 1))\n",
    "    \n",
    "    return parameters"
   ]
  },
  {
   "cell_type": "markdown",
   "metadata": {},
   "source": [
    "### Desenvolvendo a Função Sigmóide\n",
    "\n",
    "A principal razão pela qual usamos a função sigmóide é porque ela permite converter números para valores entre 0 e 1. \n",
    "\n",
    "Portanto, é especialmente usada para modelos em que temos que prever a probabilidade como uma saída. Como a probabilidade de qualquer coisa existir apenas entre o intervalo de 0 e 1, sigmoide é a escolha certa. Algumas caracterísiticas da função sigmóide:\n",
    "\n",
    "- A função é diferenciável. Isso significa que podemos encontrar a inclinação da curva sigmóide em dois pontos.\n",
    "- A função sigmóide logística pode fazer com que uma rede neural fique presa no momento do treinamento.\n",
    "- A função softmax é uma função de ativação logística mais generalizada, utilizada para a classificação em várias classes."
   ]
  },
  {
   "cell_type": "markdown",
   "metadata": {},
   "source": [
    "![title](imagens/sigmoid.png)"
   ]
  },
  {
   "cell_type": "markdown",
   "metadata": {},
   "source": [
    "Se a função parecer muito abstrata ou estranha para você, não se preocupe muito com detalhes como o número de Euler e ou como alguém criou essa função. Para aqueles que não são conhecedores de matemática, a única coisa importante sobre a função sigmóide é primeiro, sua curva e, segundo, sua derivada. Aqui estão mais alguns detalhes:\n",
    "\n",
    "- **A função sigmóide produz resultados semelhantes aos da função de passo (Step Function) em que a saída está entre 0 e 1. A curva cruza 0,5 a z = 0, e podemos definir regras para a função de ativação, como: Se a saída do neurônio sigmóide for maior que ou igual a 0,5, gera 1; se a saída for menor que 0,5, gera 0.**\n",
    "\n",
    "\n",
    "- A função sigmóide é suave e possui uma derivada simples de σ(z) * (1 - σ (z)), que é diferenciável em qualquer lugar da curva. \n",
    "\n",
    "\n",
    "- Se z for muito negativo, a saída será aproximadamente 0; se z for muito positivo, a saída é aproximadamente 1; mas em torno de z = 0, onde z não é muito grande nem muito pequeno, temos um desvio relativamente maior à medida que z muda."
   ]
  },
  {
   "cell_type": "markdown",
   "metadata": {},
   "source": [
    "**Afinal, O Que é Derivada?**\n",
    "\n",
    "![title](imagens/derivada.png)"
   ]
  },
  {
   "cell_type": "markdown",
   "metadata": {},
   "source": [
    "No Cálculo, a derivada em um ponto de uma função y = f(x) representa a taxa de variação instantânea de y em relação a x neste ponto. \n",
    "\n",
    "Um exemplo típico é a função velocidade que representa a taxa de variação (derivada) da função espaço. Do mesmo modo, a função aceleração é a derivada da função velocidade. Geometricamente, a derivada no ponto x = a de y = f(x) representa a inclinação da reta tangente ao gráfico desta função no ponto (a, f(a)).\n",
    "\n",
    "A função que a cada ponto x associa a derivada neste ponto de f(x) é chamada de função derivada de f(x)."
   ]
  },
  {
   "cell_type": "markdown",
   "metadata": {},
   "source": [
    "![title](imagens/derivada.gif)"
   ]
  },
  {
   "cell_type": "markdown",
   "metadata": {},
   "source": [
    "Em cada ponto, a derivada de f(x) é a tangente do ângulo que a reta tangente à curva faz em relação ao eixo das abscissas. A reta é sempre tangente à curva azul; a tangente do ângulo que ela faz com o eixo das abscissas é a derivada. Note-se que a derivada é positiva quando verde, negativa quando vermelha, e zero quando preta.\n",
    "\n",
    "A derivada de uma função y = f(x) num ponto x = x0, é igual ao valor da tangente trigonométrica do ângulo formado pela tangente geométrica à curva representativa de y=f(x), no ponto x = x0, ou seja, a derivada é o coeficiente angular da reta tangente ao gráfico da função no ponto x0.\n",
    "\n",
    "A função derivada é representada por f'(x)."
   ]
  },
  {
   "cell_type": "code",
   "execution_count": 5,
   "metadata": {},
   "outputs": [],
   "source": [
    "# Função sigmóide\n",
    "def sigmoid(Z):\n",
    "    A = 1 / (1 + np.exp(-Z))\n",
    "    return A, Z"
   ]
  },
  {
   "cell_type": "markdown",
   "metadata": {},
   "source": [
    "### Desenvolvendo a Função ReLU\n",
    "\n",
    "Para usar a descida de gradiente estocástico com retropropagação de erros para treinar redes neurais profundas, é necessária uma função de ativação que se assemelhe e atue como uma função linear, mas é, de fato, uma função não linear que permite que relacionamentos complexos nos dados sejam aprendidos.\n",
    "\n",
    "A solução é usar a função de ativação linear retificada ou ReL para abreviar. Um nó ou unidade que implementa essa função de ativação é chamado de unidade de ativação linear retificada ou ReLU, para abreviar. Frequentemente, as redes que usam a função retificadora para as camadas ocultas são chamadas de redes retificadas.\n",
    "\n",
    "A função ReLU é definida como 𝑓(𝑥) = max (0, 𝑥). Normalmente, ela é aplicada elemento a elemento à saída de alguma outra função, como um produto de vetor e matriz. \n",
    "\n",
    "A adoção da ReLU pode ser facilmente considerada um dos marcos na revolução do aprendizado profundo, por ex. as técnicas que agora permitem o desenvolvimento rotineiro de redes neurais muito profundas.\n",
    "\n",
    "A derivada da função linear retificada também é fácil de calcular. **A derivada da função de ativação é necessária ao atualizar os pesos de um nó como parte da retropropagação de erro.**\n",
    "\n",
    "A derivada da função é a inclinação. A inclinação para valores negativos é 0,0 e a inclinação para valores positivos é 1,0.\n",
    "\n",
    "Tradicionalmente, o campo das redes neurais evitou qualquer função de ativação que não fosse completamente diferenciável, talvez adiando a adoção da função linear retificada e de outras funções lineares. Tecnicamente, não podemos calcular a derivada quando a entrada é 0,0; portanto, podemos assumir que é zero. Este não é um problema na prática.\n",
    "\n",
    "Os gradientes das ativações tangentes e hiperbólicas são menores que a porção positiva da ReLU. Isso significa que a parte positiva é atualizada mais rapidamente à medida que o treinamento avança. No entanto, isso tem um custo. O gradiente 0 no lado esquerdo tem seu próprio problema, chamado \"neurônios mortos\", no qual uma atualização de gradiente define os valores recebidos para uma ReLU, de modo que a saída é sempre zero; unidades ReLU modificadas, como ELU (ou Leaky ReLU, ou PReLU, etc.) podem melhorar isso."
   ]
  },
  {
   "cell_type": "markdown",
   "metadata": {},
   "source": [
    "![title](imagens/relu.png)"
   ]
  },
  {
   "cell_type": "code",
   "execution_count": 6,
   "metadata": {},
   "outputs": [],
   "source": [
    "# Função de ativação ReLu (Rectified Linear Unit)\n",
    "def relu(Z):\n",
    "    A = abs(Z * (Z > 0))\n",
    "    return A, Z"
   ]
  },
  {
   "cell_type": "markdown",
   "metadata": {},
   "source": [
    "![title](imagens/net-relu.png)"
   ]
  },
  {
   "cell_type": "markdown",
   "metadata": {},
   "source": [
    "### Desenvolvendo a Ativação Linear"
   ]
  },
  {
   "cell_type": "code",
   "execution_count": 7,
   "metadata": {},
   "outputs": [],
   "source": [
    "# Operação de ativação\n",
    "# A é a matriz com os dados de entrada\n",
    "# W é a matriz de pesos\n",
    "# b é o bias\n",
    "def linear_activation(A, W, b):\n",
    "    Z = np.dot(W, A) + b\n",
    "    cache = (A, W, b)\n",
    "    return Z, cache"
   ]
  },
  {
   "cell_type": "markdown",
   "metadata": {},
   "source": [
    "### Construindo o Processo de Forward Propagation"
   ]
  },
  {
   "cell_type": "markdown",
   "metadata": {},
   "source": [
    "No forward propagation, os dados percorrem a rede desde a entrada até a saída final. Esse processo envolve o cálculo de ativações para cada camada oculta utilizando uma função de ativação. \n",
    "\n",
    "Aqui utilizaremos a função Sigmoid (ou ReLU, dependendo do caso), pois elas ajudam a modelar relações não lineares entre os dados."
   ]
  },
  {
   "cell_type": "code",
   "execution_count": 8,
   "metadata": {},
   "outputs": [],
   "source": [
    "# Movimento para frente (forward)\n",
    "def forward(A_prev, W, b, activation):\n",
    "    \n",
    "    # Se a função de ativação for Sigmoid, entramos neste bloco\n",
    "    if activation == \"sigmoid\":\n",
    "        Z, linear_cache = linear_activation(A_prev, W, b)\n",
    "        A, activation_cache = sigmoid(Z)\n",
    "        \n",
    "    # Se não, se for ReLu, entramos neste bloco    \n",
    "    elif activation == \"relu\":\n",
    "        Z, linear_cache = linear_activation(A_prev, W, b)\n",
    "        A, activation_cache = relu(Z)\n",
    "        \n",
    "    cache = (linear_cache, activation_cache)\n",
    "    \n",
    "    return A, cache"
   ]
  },
  {
   "cell_type": "markdown",
   "metadata": {},
   "source": [
    "### Combinando Ativação e Propagação"
   ]
  },
  {
   "cell_type": "code",
   "execution_count": 9,
   "metadata": {},
   "outputs": [],
   "source": [
    "# Propagação para frente\n",
    "def forward_propagation(X, parameters):\n",
    "    \n",
    "    # Lista de valores anteriores (cache)\n",
    "    caches = []\n",
    "    \n",
    "    # Dados de entrada\n",
    "    A = X\n",
    "    \n",
    "    # Comprimento dos parâmetros\n",
    "    L = len(parameters) // 2\n",
    "   \n",
    "    # Loop\n",
    "    for i in range(1, L):\n",
    "      \n",
    "        # Guarda o valor prévio de A\n",
    "        A_prev = A\n",
    "        \n",
    "        # Executa o forward\n",
    "        A, cache = forward(A_prev, parameters[\"W\" + str(i)], parameters[\"b\" + str(i)], activation = \"relu\")\n",
    "        \n",
    "        # Grava o cache\n",
    "        caches.append(cache)\n",
    "    \n",
    "    # Saída na última camada\n",
    "    A_last, cache = forward(A, parameters[\"W\" + str(L)], parameters[\"b\" + str(L)], activation = \"sigmoid\")\n",
    "    \n",
    "    # Grava o cache\n",
    "    caches.append(cache)\n",
    "    \n",
    "    return(A_last, caches)"
   ]
  },
  {
   "cell_type": "markdown",
   "metadata": {},
   "source": [
    "### Desenvolvendo a Função de Custo"
   ]
  },
  {
   "cell_type": "markdown",
   "metadata": {},
   "source": [
    "![title](imagens/custo.png)"
   ]
  },
  {
   "cell_type": "code",
   "execution_count": 10,
   "metadata": {},
   "outputs": [],
   "source": [
    "# Função de custo (ou função de erro)\n",
    "def calcula_custo(A_last, Y):\n",
    "    \n",
    "    # Ajusta o shape de Y para obter seu comprimento (total de elementos)\n",
    "    m = Y.shape[1]\n",
    "    \n",
    "    # Calcula o custo comparando valor real e previso\n",
    "    custo = (-1 / m) * np.sum((Y * np.log(A_last)) + ((1 - Y) * np.log(1 - A_last)))\n",
    "    \n",
    "    # Ajusta o shape do custo\n",
    "    custo = np.squeeze(custo)\n",
    "    \n",
    "    return(custo)"
   ]
  },
  {
   "cell_type": "markdown",
   "metadata": {},
   "source": [
    "### Parte 1B - Backward Propagation"
   ]
  },
  {
   "cell_type": "markdown",
   "metadata": {},
   "source": [
    "O backpropagation é o coração do aprendizado da rede neural. Ele calcula o gradiente da função de perda em relação aos pesos e os ajusta utilizando o método do gradiente descendente. \n",
    "\n",
    "Esse processo garante que a rede aprenda padrões a cada iteração, reduzindo gradativamente o erro."
   ]
  },
  {
   "cell_type": "markdown",
   "metadata": {},
   "source": [
    "![title](imagens/backpropagation.png)"
   ]
  },
  {
   "cell_type": "markdown",
   "metadata": {},
   "source": [
    "### Desenvolvendo o Backward Propagation - Função Sigmóide Backward"
   ]
  },
  {
   "cell_type": "code",
   "execution_count": 11,
   "metadata": {},
   "outputs": [],
   "source": [
    "# Função sigmoid para o backpropagation \n",
    "# Fazemos o cálculo da derivada pois não queremos o valor completo da função, mas sim sua variação\n",
    "def sigmoid_backward(da, Z):\n",
    "    \n",
    "    # Calculamos a derivada de Z\n",
    "    dg = (1 / (1 + np.exp(-Z))) * (1 - (1 / (1 + np.exp(-Z))))\n",
    "    \n",
    "    # Encontramos a mudança na derivada de z\n",
    "    dz = da * dg\n",
    "    return dz\n",
    "\n",
    "# Compare com a função sigmoid do forward propagation\n",
    "# A = 1 / (1 + np.exp(-Z))"
   ]
  },
  {
   "cell_type": "markdown",
   "metadata": {},
   "source": [
    "### Desenvolvendo o Backward Propagation - Função ReLu Backward"
   ]
  },
  {
   "cell_type": "code",
   "execution_count": 12,
   "metadata": {},
   "outputs": [],
   "source": [
    "# Função relu para o backpropagation \n",
    "# Fazemos o cálculo da derivada pois não queremos o valor completo da função, mas sim sua variação\n",
    "def relu_backward(da, Z):\n",
    "    \n",
    "    dg = 1 * ( Z >= 0)\n",
    "    dz = da * dg\n",
    "    return dz\n",
    "\n",
    "# Compare com a função relu do forward propagation:\n",
    "# A = abs(Z * (Z > 0))"
   ]
  },
  {
   "cell_type": "markdown",
   "metadata": {},
   "source": [
    "### Desenvolvendo o Backward Propagation - Ativação Linear Backward"
   ]
  },
  {
   "cell_type": "code",
   "execution_count": 13,
   "metadata": {},
   "outputs": [],
   "source": [
    "# Ativação linear para o backpropagation\n",
    "def linear_backward_function(dz, cache):\n",
    "    \n",
    "    # Recebe os valores do cache (memória)\n",
    "    A_prev, W, b = cache\n",
    "    \n",
    "    # Shape de m\n",
    "    m = A_prev.shape[1]\n",
    "    \n",
    "    # Calcula a derivada de W (resultado da operação com dz)\n",
    "    dW = (1 / m) * np.dot(dz, A_prev.T)\n",
    "    \n",
    "    # Calcula a derivada de b (resultado da operação com dz)\n",
    "    db = (1 / m) * np.sum(dz, axis = 1, keepdims = True)\n",
    "    \n",
    "    # Calcula a derivada da operação\n",
    "    dA_prev = np.dot(W.T, dz)\n",
    "    \n",
    "    return dA_prev, dW, db"
   ]
  },
  {
   "cell_type": "markdown",
   "metadata": {},
   "source": [
    "### Desenvolvendo o Backward Propagation - Ativação Linear Backward"
   ]
  },
  {
   "cell_type": "code",
   "execution_count": 14,
   "metadata": {},
   "outputs": [],
   "source": [
    "# Função que define o tipo de ativação (relu ou sigmoid)\n",
    "def linear_activation_backward(dA, cache, activation):\n",
    "    \n",
    "    # Extrai o cache\n",
    "    linear_cache, activation_cache = cache\n",
    "    \n",
    "    # Verifica se a ativação é relu\n",
    "    if activation == \"relu\":\n",
    "        dZ = relu_backward(dA, activation_cache)\n",
    "        dA_prev, dW, db = linear_backward_function(dZ, linear_cache)\n",
    "        \n",
    "    # Verifica se a ativação é sigmoid\n",
    "    if activation == \"sigmoid\":\n",
    "        dZ = sigmoid_backward(dA, activation_cache)\n",
    "        dA_prev, dW, db = linear_backward_function(dZ, linear_cache)\n",
    "        \n",
    "    return dA_prev, dW, db"
   ]
  },
  {
   "cell_type": "markdown",
   "metadata": {},
   "source": [
    "### Combinando Ativação e Retropropagação - Algoritmo Backpropagation"
   ]
  },
  {
   "cell_type": "code",
   "execution_count": 15,
   "metadata": {},
   "outputs": [],
   "source": [
    "# Algoritmo Backpropagation (calcula os gradientes para atualização dos pesos)\n",
    "# AL = Valor previsto no Forward\n",
    "# Y = Valor real\n",
    "def backward_propagation(AL, Y, caches):\n",
    "    \n",
    "    # Dicionário para os gradientes\n",
    "    grads = {}\n",
    "    \n",
    "    # Comprimento dos dados (que estão no cache)\n",
    "    L = len(caches)\n",
    "    \n",
    "    # Extrai o comprimento para o valor de m\n",
    "    m = AL.shape[1]\n",
    "    \n",
    "    # Ajusta o shape de Y\n",
    "    Y = Y.reshape(AL.shape)\n",
    "    \n",
    "    # Calcula a derivada da previsão final da rede (feita ao final do Forward Propagation)\n",
    "    dAL = -((Y / AL) - ((1 - Y) / (1 - AL)))\n",
    "    \n",
    "    # Captura o valor corrente do cache\n",
    "    current_cache = caches[L - 1]\n",
    "    \n",
    "    # Gera a lista de gradiente para os dados, os pesos e o bias\n",
    "    # Fazemos isso uma vez, pois estamos na parte final da rede, iniciando o caminho de volta\n",
    "    grads[\"dA\" + str(L - 1)], grads[\"dW\" + str(L)], grads[\"db\" + str(L)] = linear_activation_backward(dAL, current_cache, activation = \"sigmoid\")\n",
    "    \n",
    "    # Loop para calcular a derivada durante as ativações lineares com a relu\n",
    "    for l in reversed(range(L - 1)):\n",
    "        \n",
    "        # Cache atual\n",
    "        current_cache = caches[l]\n",
    "        \n",
    "        # Calcula as derivadas\n",
    "        dA_prev, dW, db = linear_activation_backward(grads[\"dA\" + str(l + 1)], current_cache, activation = \"relu\")\n",
    "        \n",
    "        # Alimenta os gradientes na lista, usando o índice respectivo\n",
    "        grads[\"dA\" + str(l)] = dA_prev\n",
    "        grads[\"dW\" + str(l + 1)] = dW\n",
    "        grads[\"db\" + str(l + 1)] = db\n",
    "        \n",
    "    return grads"
   ]
  },
  {
   "cell_type": "markdown",
   "metadata": {},
   "source": [
    "### Gradientes e Atualização dos Pesos"
   ]
  },
  {
   "cell_type": "code",
   "execution_count": 16,
   "metadata": {},
   "outputs": [],
   "source": [
    "# Função de atualização de pesos\n",
    "def atualiza_pesos(parameters, grads, learning_rate):\n",
    "    \n",
    "    # Comprimento da estrutura de dados com os parâmetros (pesos e bias)\n",
    "    L = len(parameters)//2\n",
    "    \n",
    "    # Loop para atualização dos pesos\n",
    "    for l in range(L):\n",
    "        \n",
    "        # Atualização dos pesos\n",
    "        parameters[\"W\" + str(l + 1)] = parameters[\"W\" + str(l + 1)] - (learning_rate * grads[\"dW\" + str(l + 1)])\n",
    "        \n",
    "        # Atualização do bias\n",
    "        parameters[\"b\" + str(l + 1)] = parameters[\"b\" + str(l + 1)] - (learning_rate * grads[\"db\" + str(l + 1)])\n",
    "    \n",
    "    return parameters"
   ]
  },
  {
   "cell_type": "markdown",
   "metadata": {},
   "source": [
    "### Implementando a Rede Completa"
   ]
  },
  {
   "cell_type": "code",
   "execution_count": 17,
   "metadata": {},
   "outputs": [],
   "source": [
    "# Modelo completo da rede neural\n",
    "def modeloNN(X, Y, dims_camada_entrada, learning_rate = 0.0075, num_iterations = 100):\n",
    "    \n",
    "    # Lista para receber o custo a cada época de treinamento\n",
    "    custos = []\n",
    "    \n",
    "    # Inicializa os parâmetros\n",
    "    parametros = inicializa_parametros(dims_camada_entrada)\n",
    "    \n",
    "    # Loop pelo número de iterações (épocas)\n",
    "    for i in range(num_iterations):\n",
    "        \n",
    "        # Forward Propagation\n",
    "        AL, caches = forward_propagation(X, parametros)\n",
    "        \n",
    "        # Calcula o custo\n",
    "        custo = calcula_custo(AL, Y)\n",
    "        \n",
    "        # Backward Propagation\n",
    "        # Nota: ao invés de AL e Y, poderíamos passar somente o valor do custo\n",
    "        # Estamos passando o valor de AL e Y para fique claro didaticamente o que está sendo feito\n",
    "        gradientes = backward_propagation(AL, Y, caches)\n",
    "        \n",
    "        # Atualiza os pesos\n",
    "        parametros = atualiza_pesos(parametros, gradientes, learning_rate)\n",
    "        \n",
    "        # Print do valor intermediário do custo\n",
    "        # A redução do custo indica o aprendizado do modelo\n",
    "        if i % 10 == 0:\n",
    "            print(\"Custo Após \" + str(i) + \" iterações é \" + str(custo))\n",
    "            custos.append(custo)\n",
    "            \n",
    "    return parametros, custos "
   ]
  },
  {
   "cell_type": "code",
   "execution_count": 18,
   "metadata": {},
   "outputs": [],
   "source": [
    "# Função para fazer as previsões\n",
    "# Não precisamos do Backpropagation pois ao fazer previsões como o modelo treinado, \n",
    "# teremos os melhores valores de pesos (parametros)\n",
    "def predict(X, parametros):\n",
    "    AL, caches = forward_propagation(X, parametros)\n",
    "    return AL"
   ]
  },
  {
   "cell_type": "markdown",
   "metadata": {},
   "source": [
    "### Parte 2 - Vamos treinar a rede para Prever a Ocorrência de Câncer"
   ]
  },
  {
   "cell_type": "markdown",
   "metadata": {},
   "source": [
    "### Mini-Projeto 4 - Usando a Rede Neural Para Prever a Ocorrência de Câncer"
   ]
  },
  {
   "cell_type": "code",
   "execution_count": 19,
   "metadata": {},
   "outputs": [],
   "source": [
    "# Imports\n",
    "import sklearn\n",
    "import numpy as np\n",
    "import pandas as pd\n",
    "import matplotlib\n",
    "import matplotlib.pyplot as plt\n",
    "from sklearn.datasets import load_breast_cancer\n",
    "from sklearn.model_selection import train_test_split\n",
    "from sklearn.metrics import classification_report"
   ]
  },
  {
   "cell_type": "code",
   "execution_count": 20,
   "metadata": {},
   "outputs": [
    {
     "name": "stdout",
     "output_type": "stream",
     "text": [
      "Author: Jeferson Oliveira\n",
      "\n",
      "pandas    : 2.2.3\n",
      "platform  : 1.0.8\n",
      "sklearn   : 1.6.1\n",
      "matplotlib: 3.10.0\n",
      "numpy     : 2.2.3\n",
      "\n"
     ]
    }
   ],
   "source": [
    "# Versões dos pacotes usados neste jupyter notebook\n",
    "%reload_ext watermark\n",
    "%watermark -a \"Jeferson Oliveira\" --iversions"
   ]
  },
  {
   "cell_type": "markdown",
   "metadata": {},
   "source": [
    "### Carregando os Dados\n",
    "\n",
    "https://scikit-learn.org/stable/datasets/index.html#breast-cancer-dataset"
   ]
  },
  {
   "cell_type": "code",
   "execution_count": 21,
   "metadata": {},
   "outputs": [],
   "source": [
    "# Carregamos o objeto completo\n",
    "temp = load_breast_cancer()"
   ]
  },
  {
   "cell_type": "code",
   "execution_count": 22,
   "metadata": {},
   "outputs": [
    {
     "data": {
      "text/plain": [
       "sklearn.utils._bunch.Bunch"
      ]
     },
     "execution_count": 22,
     "metadata": {},
     "output_type": "execute_result"
    }
   ],
   "source": [
    "# Tipo do objeto\n",
    "type(temp)"
   ]
  },
  {
   "cell_type": "code",
   "execution_count": 23,
   "metadata": {},
   "outputs": [
    {
     "data": {
      "text/plain": [
       "{'data': array([[1.799e+01, 1.038e+01, 1.228e+02, ..., 2.654e-01, 4.601e-01,\n",
       "         1.189e-01],\n",
       "        [2.057e+01, 1.777e+01, 1.329e+02, ..., 1.860e-01, 2.750e-01,\n",
       "         8.902e-02],\n",
       "        [1.969e+01, 2.125e+01, 1.300e+02, ..., 2.430e-01, 3.613e-01,\n",
       "         8.758e-02],\n",
       "        ...,\n",
       "        [1.660e+01, 2.808e+01, 1.083e+02, ..., 1.418e-01, 2.218e-01,\n",
       "         7.820e-02],\n",
       "        [2.060e+01, 2.933e+01, 1.401e+02, ..., 2.650e-01, 4.087e-01,\n",
       "         1.240e-01],\n",
       "        [7.760e+00, 2.454e+01, 4.792e+01, ..., 0.000e+00, 2.871e-01,\n",
       "         7.039e-02]], shape=(569, 30)),\n",
       " 'target': array([0, 0, 0, 0, 0, 0, 0, 0, 0, 0, 0, 0, 0, 0, 0, 0, 0, 0, 0, 1, 1, 1,\n",
       "        0, 0, 0, 0, 0, 0, 0, 0, 0, 0, 0, 0, 0, 0, 0, 1, 0, 0, 0, 0, 0, 0,\n",
       "        0, 0, 1, 0, 1, 1, 1, 1, 1, 0, 0, 1, 0, 0, 1, 1, 1, 1, 0, 1, 0, 0,\n",
       "        1, 1, 1, 1, 0, 1, 0, 0, 1, 0, 1, 0, 0, 1, 1, 1, 0, 0, 1, 0, 0, 0,\n",
       "        1, 1, 1, 0, 1, 1, 0, 0, 1, 1, 1, 0, 0, 1, 1, 1, 1, 0, 1, 1, 0, 1,\n",
       "        1, 1, 1, 1, 1, 1, 1, 0, 0, 0, 1, 0, 0, 1, 1, 1, 0, 0, 1, 0, 1, 0,\n",
       "        0, 1, 0, 0, 1, 1, 0, 1, 1, 0, 1, 1, 1, 1, 0, 1, 1, 1, 1, 1, 1, 1,\n",
       "        1, 1, 0, 1, 1, 1, 1, 0, 0, 1, 0, 1, 1, 0, 0, 1, 1, 0, 0, 1, 1, 1,\n",
       "        1, 0, 1, 1, 0, 0, 0, 1, 0, 1, 0, 1, 1, 1, 0, 1, 1, 0, 0, 1, 0, 0,\n",
       "        0, 0, 1, 0, 0, 0, 1, 0, 1, 0, 1, 1, 0, 1, 0, 0, 0, 0, 1, 1, 0, 0,\n",
       "        1, 1, 1, 0, 1, 1, 1, 1, 1, 0, 0, 1, 1, 0, 1, 1, 0, 0, 1, 0, 1, 1,\n",
       "        1, 1, 0, 1, 1, 1, 1, 1, 0, 1, 0, 0, 0, 0, 0, 0, 0, 0, 0, 0, 0, 0,\n",
       "        0, 0, 1, 1, 1, 1, 1, 1, 0, 1, 0, 1, 1, 0, 1, 1, 0, 1, 0, 0, 1, 1,\n",
       "        1, 1, 1, 1, 1, 1, 1, 1, 1, 1, 1, 0, 1, 1, 0, 1, 0, 1, 1, 1, 1, 1,\n",
       "        1, 1, 1, 1, 1, 1, 1, 1, 1, 0, 1, 1, 1, 0, 1, 0, 1, 1, 1, 1, 0, 0,\n",
       "        0, 1, 1, 1, 1, 0, 1, 0, 1, 0, 1, 1, 1, 0, 1, 1, 1, 1, 1, 1, 1, 0,\n",
       "        0, 0, 1, 1, 1, 1, 1, 1, 1, 1, 1, 1, 1, 0, 0, 1, 0, 0, 0, 1, 0, 0,\n",
       "        1, 1, 1, 1, 1, 0, 1, 1, 1, 1, 1, 0, 1, 1, 1, 0, 1, 1, 0, 0, 1, 1,\n",
       "        1, 1, 1, 1, 0, 1, 1, 1, 1, 1, 1, 1, 0, 1, 1, 1, 1, 1, 0, 1, 1, 0,\n",
       "        1, 1, 1, 1, 1, 1, 1, 1, 1, 1, 1, 1, 0, 1, 0, 0, 1, 0, 1, 1, 1, 1,\n",
       "        1, 0, 1, 1, 0, 1, 0, 1, 1, 0, 1, 0, 1, 1, 1, 1, 1, 1, 1, 1, 0, 0,\n",
       "        1, 1, 1, 1, 1, 1, 0, 1, 1, 1, 1, 1, 1, 1, 1, 1, 1, 0, 1, 1, 1, 1,\n",
       "        1, 1, 1, 0, 1, 0, 1, 1, 0, 1, 1, 1, 1, 1, 0, 0, 1, 0, 1, 0, 1, 1,\n",
       "        1, 1, 1, 0, 1, 1, 0, 1, 0, 1, 0, 0, 1, 1, 1, 0, 1, 1, 1, 1, 1, 1,\n",
       "        1, 1, 1, 1, 1, 0, 1, 0, 0, 1, 1, 1, 1, 1, 1, 1, 1, 1, 1, 1, 1, 1,\n",
       "        1, 1, 1, 1, 1, 1, 1, 1, 1, 1, 1, 1, 0, 0, 0, 0, 0, 0, 1]),\n",
       " 'frame': None,\n",
       " 'target_names': array(['malignant', 'benign'], dtype='<U9'),\n",
       " 'DESCR': '.. _breast_cancer_dataset:\\n\\nBreast cancer wisconsin (diagnostic) dataset\\n--------------------------------------------\\n\\n**Data Set Characteristics:**\\n\\n:Number of Instances: 569\\n\\n:Number of Attributes: 30 numeric, predictive attributes and the class\\n\\n:Attribute Information:\\n    - radius (mean of distances from center to points on the perimeter)\\n    - texture (standard deviation of gray-scale values)\\n    - perimeter\\n    - area\\n    - smoothness (local variation in radius lengths)\\n    - compactness (perimeter^2 / area - 1.0)\\n    - concavity (severity of concave portions of the contour)\\n    - concave points (number of concave portions of the contour)\\n    - symmetry\\n    - fractal dimension (\"coastline approximation\" - 1)\\n\\n    The mean, standard error, and \"worst\" or largest (mean of the three\\n    worst/largest values) of these features were computed for each image,\\n    resulting in 30 features.  For instance, field 0 is Mean Radius, field\\n    10 is Radius SE, field 20 is Worst Radius.\\n\\n    - class:\\n            - WDBC-Malignant\\n            - WDBC-Benign\\n\\n:Summary Statistics:\\n\\n===================================== ====== ======\\n                                        Min    Max\\n===================================== ====== ======\\nradius (mean):                        6.981  28.11\\ntexture (mean):                       9.71   39.28\\nperimeter (mean):                     43.79  188.5\\narea (mean):                          143.5  2501.0\\nsmoothness (mean):                    0.053  0.163\\ncompactness (mean):                   0.019  0.345\\nconcavity (mean):                     0.0    0.427\\nconcave points (mean):                0.0    0.201\\nsymmetry (mean):                      0.106  0.304\\nfractal dimension (mean):             0.05   0.097\\nradius (standard error):              0.112  2.873\\ntexture (standard error):             0.36   4.885\\nperimeter (standard error):           0.757  21.98\\narea (standard error):                6.802  542.2\\nsmoothness (standard error):          0.002  0.031\\ncompactness (standard error):         0.002  0.135\\nconcavity (standard error):           0.0    0.396\\nconcave points (standard error):      0.0    0.053\\nsymmetry (standard error):            0.008  0.079\\nfractal dimension (standard error):   0.001  0.03\\nradius (worst):                       7.93   36.04\\ntexture (worst):                      12.02  49.54\\nperimeter (worst):                    50.41  251.2\\narea (worst):                         185.2  4254.0\\nsmoothness (worst):                   0.071  0.223\\ncompactness (worst):                  0.027  1.058\\nconcavity (worst):                    0.0    1.252\\nconcave points (worst):               0.0    0.291\\nsymmetry (worst):                     0.156  0.664\\nfractal dimension (worst):            0.055  0.208\\n===================================== ====== ======\\n\\n:Missing Attribute Values: None\\n\\n:Class Distribution: 212 - Malignant, 357 - Benign\\n\\n:Creator:  Dr. William H. Wolberg, W. Nick Street, Olvi L. Mangasarian\\n\\n:Donor: Nick Street\\n\\n:Date: November, 1995\\n\\nThis is a copy of UCI ML Breast Cancer Wisconsin (Diagnostic) datasets.\\nhttps://goo.gl/U2Uwz2\\n\\nFeatures are computed from a digitized image of a fine needle\\naspirate (FNA) of a breast mass.  They describe\\ncharacteristics of the cell nuclei present in the image.\\n\\nSeparating plane described above was obtained using\\nMultisurface Method-Tree (MSM-T) [K. P. Bennett, \"Decision Tree\\nConstruction Via Linear Programming.\" Proceedings of the 4th\\nMidwest Artificial Intelligence and Cognitive Science Society,\\npp. 97-101, 1992], a classification method which uses linear\\nprogramming to construct a decision tree.  Relevant features\\nwere selected using an exhaustive search in the space of 1-4\\nfeatures and 1-3 separating planes.\\n\\nThe actual linear program used to obtain the separating plane\\nin the 3-dimensional space is that described in:\\n[K. P. Bennett and O. L. Mangasarian: \"Robust Linear\\nProgramming Discrimination of Two Linearly Inseparable Sets\",\\nOptimization Methods and Software 1, 1992, 23-34].\\n\\nThis database is also available through the UW CS ftp server:\\n\\nftp ftp.cs.wisc.edu\\ncd math-prog/cpo-dataset/machine-learn/WDBC/\\n\\n.. dropdown:: References\\n\\n  - W.N. Street, W.H. Wolberg and O.L. Mangasarian. Nuclear feature extraction\\n    for breast tumor diagnosis. IS&T/SPIE 1993 International Symposium on\\n    Electronic Imaging: Science and Technology, volume 1905, pages 861-870,\\n    San Jose, CA, 1993.\\n  - O.L. Mangasarian, W.N. Street and W.H. Wolberg. Breast cancer diagnosis and\\n    prognosis via linear programming. Operations Research, 43(4), pages 570-577,\\n    July-August 1995.\\n  - W.H. Wolberg, W.N. Street, and O.L. Mangasarian. Machine learning techniques\\n    to diagnose breast cancer from fine-needle aspirates. Cancer Letters 77 (1994)\\n    163-171.\\n',\n",
       " 'feature_names': array(['mean radius', 'mean texture', 'mean perimeter', 'mean area',\n",
       "        'mean smoothness', 'mean compactness', 'mean concavity',\n",
       "        'mean concave points', 'mean symmetry', 'mean fractal dimension',\n",
       "        'radius error', 'texture error', 'perimeter error', 'area error',\n",
       "        'smoothness error', 'compactness error', 'concavity error',\n",
       "        'concave points error', 'symmetry error',\n",
       "        'fractal dimension error', 'worst radius', 'worst texture',\n",
       "        'worst perimeter', 'worst area', 'worst smoothness',\n",
       "        'worst compactness', 'worst concavity', 'worst concave points',\n",
       "        'worst symmetry', 'worst fractal dimension'], dtype='<U23'),\n",
       " 'filename': 'breast_cancer.csv',\n",
       " 'data_module': 'sklearn.datasets.data'}"
      ]
     },
     "execution_count": 23,
     "metadata": {},
     "output_type": "execute_result"
    }
   ],
   "source": [
    "# Visualiza o objeto\n",
    "temp"
   ]
  },
  {
   "cell_type": "code",
   "execution_count": 24,
   "metadata": {},
   "outputs": [],
   "source": [
    "# Carregamos o dataset\n",
    "dados = pd.DataFrame(columns = load_breast_cancer()[\"feature_names\"], data = load_breast_cancer()[\"data\"])"
   ]
  },
  {
   "cell_type": "code",
   "execution_count": 25,
   "metadata": {},
   "outputs": [
    {
     "data": {
      "text/plain": [
       "(569, 30)"
      ]
     },
     "execution_count": 25,
     "metadata": {},
     "output_type": "execute_result"
    }
   ],
   "source": [
    "# Shape\n",
    "dados.shape"
   ]
  },
  {
   "cell_type": "code",
   "execution_count": 26,
   "metadata": {},
   "outputs": [
    {
     "data": {
      "text/html": [
       "<div>\n",
       "<style scoped>\n",
       "    .dataframe tbody tr th:only-of-type {\n",
       "        vertical-align: middle;\n",
       "    }\n",
       "\n",
       "    .dataframe tbody tr th {\n",
       "        vertical-align: top;\n",
       "    }\n",
       "\n",
       "    .dataframe thead th {\n",
       "        text-align: right;\n",
       "    }\n",
       "</style>\n",
       "<table border=\"1\" class=\"dataframe\">\n",
       "  <thead>\n",
       "    <tr style=\"text-align: right;\">\n",
       "      <th></th>\n",
       "      <th>mean radius</th>\n",
       "      <th>mean texture</th>\n",
       "      <th>mean perimeter</th>\n",
       "      <th>mean area</th>\n",
       "      <th>mean smoothness</th>\n",
       "      <th>mean compactness</th>\n",
       "      <th>mean concavity</th>\n",
       "      <th>mean concave points</th>\n",
       "      <th>mean symmetry</th>\n",
       "      <th>mean fractal dimension</th>\n",
       "      <th>...</th>\n",
       "      <th>worst radius</th>\n",
       "      <th>worst texture</th>\n",
       "      <th>worst perimeter</th>\n",
       "      <th>worst area</th>\n",
       "      <th>worst smoothness</th>\n",
       "      <th>worst compactness</th>\n",
       "      <th>worst concavity</th>\n",
       "      <th>worst concave points</th>\n",
       "      <th>worst symmetry</th>\n",
       "      <th>worst fractal dimension</th>\n",
       "    </tr>\n",
       "  </thead>\n",
       "  <tbody>\n",
       "    <tr>\n",
       "      <th>0</th>\n",
       "      <td>17.99</td>\n",
       "      <td>10.38</td>\n",
       "      <td>122.80</td>\n",
       "      <td>1001.0</td>\n",
       "      <td>0.11840</td>\n",
       "      <td>0.27760</td>\n",
       "      <td>0.3001</td>\n",
       "      <td>0.14710</td>\n",
       "      <td>0.2419</td>\n",
       "      <td>0.07871</td>\n",
       "      <td>...</td>\n",
       "      <td>25.38</td>\n",
       "      <td>17.33</td>\n",
       "      <td>184.60</td>\n",
       "      <td>2019.0</td>\n",
       "      <td>0.1622</td>\n",
       "      <td>0.6656</td>\n",
       "      <td>0.7119</td>\n",
       "      <td>0.2654</td>\n",
       "      <td>0.4601</td>\n",
       "      <td>0.11890</td>\n",
       "    </tr>\n",
       "    <tr>\n",
       "      <th>1</th>\n",
       "      <td>20.57</td>\n",
       "      <td>17.77</td>\n",
       "      <td>132.90</td>\n",
       "      <td>1326.0</td>\n",
       "      <td>0.08474</td>\n",
       "      <td>0.07864</td>\n",
       "      <td>0.0869</td>\n",
       "      <td>0.07017</td>\n",
       "      <td>0.1812</td>\n",
       "      <td>0.05667</td>\n",
       "      <td>...</td>\n",
       "      <td>24.99</td>\n",
       "      <td>23.41</td>\n",
       "      <td>158.80</td>\n",
       "      <td>1956.0</td>\n",
       "      <td>0.1238</td>\n",
       "      <td>0.1866</td>\n",
       "      <td>0.2416</td>\n",
       "      <td>0.1860</td>\n",
       "      <td>0.2750</td>\n",
       "      <td>0.08902</td>\n",
       "    </tr>\n",
       "    <tr>\n",
       "      <th>2</th>\n",
       "      <td>19.69</td>\n",
       "      <td>21.25</td>\n",
       "      <td>130.00</td>\n",
       "      <td>1203.0</td>\n",
       "      <td>0.10960</td>\n",
       "      <td>0.15990</td>\n",
       "      <td>0.1974</td>\n",
       "      <td>0.12790</td>\n",
       "      <td>0.2069</td>\n",
       "      <td>0.05999</td>\n",
       "      <td>...</td>\n",
       "      <td>23.57</td>\n",
       "      <td>25.53</td>\n",
       "      <td>152.50</td>\n",
       "      <td>1709.0</td>\n",
       "      <td>0.1444</td>\n",
       "      <td>0.4245</td>\n",
       "      <td>0.4504</td>\n",
       "      <td>0.2430</td>\n",
       "      <td>0.3613</td>\n",
       "      <td>0.08758</td>\n",
       "    </tr>\n",
       "    <tr>\n",
       "      <th>3</th>\n",
       "      <td>11.42</td>\n",
       "      <td>20.38</td>\n",
       "      <td>77.58</td>\n",
       "      <td>386.1</td>\n",
       "      <td>0.14250</td>\n",
       "      <td>0.28390</td>\n",
       "      <td>0.2414</td>\n",
       "      <td>0.10520</td>\n",
       "      <td>0.2597</td>\n",
       "      <td>0.09744</td>\n",
       "      <td>...</td>\n",
       "      <td>14.91</td>\n",
       "      <td>26.50</td>\n",
       "      <td>98.87</td>\n",
       "      <td>567.7</td>\n",
       "      <td>0.2098</td>\n",
       "      <td>0.8663</td>\n",
       "      <td>0.6869</td>\n",
       "      <td>0.2575</td>\n",
       "      <td>0.6638</td>\n",
       "      <td>0.17300</td>\n",
       "    </tr>\n",
       "    <tr>\n",
       "      <th>4</th>\n",
       "      <td>20.29</td>\n",
       "      <td>14.34</td>\n",
       "      <td>135.10</td>\n",
       "      <td>1297.0</td>\n",
       "      <td>0.10030</td>\n",
       "      <td>0.13280</td>\n",
       "      <td>0.1980</td>\n",
       "      <td>0.10430</td>\n",
       "      <td>0.1809</td>\n",
       "      <td>0.05883</td>\n",
       "      <td>...</td>\n",
       "      <td>22.54</td>\n",
       "      <td>16.67</td>\n",
       "      <td>152.20</td>\n",
       "      <td>1575.0</td>\n",
       "      <td>0.1374</td>\n",
       "      <td>0.2050</td>\n",
       "      <td>0.4000</td>\n",
       "      <td>0.1625</td>\n",
       "      <td>0.2364</td>\n",
       "      <td>0.07678</td>\n",
       "    </tr>\n",
       "  </tbody>\n",
       "</table>\n",
       "<p>5 rows × 30 columns</p>\n",
       "</div>"
      ],
      "text/plain": [
       "   mean radius  mean texture  mean perimeter  mean area  mean smoothness  \\\n",
       "0        17.99         10.38          122.80     1001.0          0.11840   \n",
       "1        20.57         17.77          132.90     1326.0          0.08474   \n",
       "2        19.69         21.25          130.00     1203.0          0.10960   \n",
       "3        11.42         20.38           77.58      386.1          0.14250   \n",
       "4        20.29         14.34          135.10     1297.0          0.10030   \n",
       "\n",
       "   mean compactness  mean concavity  mean concave points  mean symmetry  \\\n",
       "0           0.27760          0.3001              0.14710         0.2419   \n",
       "1           0.07864          0.0869              0.07017         0.1812   \n",
       "2           0.15990          0.1974              0.12790         0.2069   \n",
       "3           0.28390          0.2414              0.10520         0.2597   \n",
       "4           0.13280          0.1980              0.10430         0.1809   \n",
       "\n",
       "   mean fractal dimension  ...  worst radius  worst texture  worst perimeter  \\\n",
       "0                 0.07871  ...         25.38          17.33           184.60   \n",
       "1                 0.05667  ...         24.99          23.41           158.80   \n",
       "2                 0.05999  ...         23.57          25.53           152.50   \n",
       "3                 0.09744  ...         14.91          26.50            98.87   \n",
       "4                 0.05883  ...         22.54          16.67           152.20   \n",
       "\n",
       "   worst area  worst smoothness  worst compactness  worst concavity  \\\n",
       "0      2019.0            0.1622             0.6656           0.7119   \n",
       "1      1956.0            0.1238             0.1866           0.2416   \n",
       "2      1709.0            0.1444             0.4245           0.4504   \n",
       "3       567.7            0.2098             0.8663           0.6869   \n",
       "4      1575.0            0.1374             0.2050           0.4000   \n",
       "\n",
       "   worst concave points  worst symmetry  worst fractal dimension  \n",
       "0                0.2654          0.4601                  0.11890  \n",
       "1                0.1860          0.2750                  0.08902  \n",
       "2                0.2430          0.3613                  0.08758  \n",
       "3                0.2575          0.6638                  0.17300  \n",
       "4                0.1625          0.2364                  0.07678  \n",
       "\n",
       "[5 rows x 30 columns]"
      ]
     },
     "execution_count": 26,
     "metadata": {},
     "output_type": "execute_result"
    }
   ],
   "source": [
    "# Visualiza os dados\n",
    "dados.head()"
   ]
  },
  {
   "cell_type": "code",
   "execution_count": 27,
   "metadata": {},
   "outputs": [
    {
     "data": {
      "text/plain": [
       "mean radius                False\n",
       "mean texture               False\n",
       "mean perimeter             False\n",
       "mean area                  False\n",
       "mean smoothness            False\n",
       "mean compactness           False\n",
       "mean concavity             False\n",
       "mean concave points        False\n",
       "mean symmetry              False\n",
       "mean fractal dimension     False\n",
       "radius error               False\n",
       "texture error              False\n",
       "perimeter error            False\n",
       "area error                 False\n",
       "smoothness error           False\n",
       "compactness error          False\n",
       "concavity error            False\n",
       "concave points error       False\n",
       "symmetry error             False\n",
       "fractal dimension error    False\n",
       "worst radius               False\n",
       "worst texture              False\n",
       "worst perimeter            False\n",
       "worst area                 False\n",
       "worst smoothness           False\n",
       "worst compactness          False\n",
       "worst concavity            False\n",
       "worst concave points       False\n",
       "worst symmetry             False\n",
       "worst fractal dimension    False\n",
       "dtype: bool"
      ]
     },
     "execution_count": 27,
     "metadata": {},
     "output_type": "execute_result"
    }
   ],
   "source": [
    "# Verifica se temos valores ausentes\n",
    "dados.isnull().any()"
   ]
  },
  {
   "cell_type": "code",
   "execution_count": 28,
   "metadata": {},
   "outputs": [],
   "source": [
    "# Separa a variável target\n",
    "target = load_breast_cancer()[\"target\"]"
   ]
  },
  {
   "cell_type": "code",
   "execution_count": 29,
   "metadata": {},
   "outputs": [
    {
     "data": {
      "text/plain": [
       "numpy.ndarray"
      ]
     },
     "execution_count": 29,
     "metadata": {},
     "output_type": "execute_result"
    }
   ],
   "source": [
    "type(target)"
   ]
  },
  {
   "cell_type": "code",
   "execution_count": 30,
   "metadata": {},
   "outputs": [
    {
     "data": {
      "text/plain": [
       "array([0, 0, 0, 0, 0, 0, 0, 0, 0, 0, 0, 0, 0, 0, 0, 0, 0, 0, 0, 1, 1, 1,\n",
       "       0, 0, 0, 0, 0, 0, 0, 0, 0, 0, 0, 0, 0, 0, 0, 1, 0, 0, 0, 0, 0, 0,\n",
       "       0, 0, 1, 0, 1, 1, 1, 1, 1, 0, 0, 1, 0, 0, 1, 1, 1, 1, 0, 1, 0, 0,\n",
       "       1, 1, 1, 1, 0, 1, 0, 0, 1, 0, 1, 0, 0, 1, 1, 1, 0, 0, 1, 0, 0, 0,\n",
       "       1, 1, 1, 0, 1, 1, 0, 0, 1, 1, 1, 0, 0, 1, 1, 1, 1, 0, 1, 1, 0, 1,\n",
       "       1, 1, 1, 1, 1, 1, 1, 0, 0, 0, 1, 0, 0, 1, 1, 1, 0, 0, 1, 0, 1, 0,\n",
       "       0, 1, 0, 0, 1, 1, 0, 1, 1, 0, 1, 1, 1, 1, 0, 1, 1, 1, 1, 1, 1, 1,\n",
       "       1, 1, 0, 1, 1, 1, 1, 0, 0, 1, 0, 1, 1, 0, 0, 1, 1, 0, 0, 1, 1, 1,\n",
       "       1, 0, 1, 1, 0, 0, 0, 1, 0, 1, 0, 1, 1, 1, 0, 1, 1, 0, 0, 1, 0, 0,\n",
       "       0, 0, 1, 0, 0, 0, 1, 0, 1, 0, 1, 1, 0, 1, 0, 0, 0, 0, 1, 1, 0, 0,\n",
       "       1, 1, 1, 0, 1, 1, 1, 1, 1, 0, 0, 1, 1, 0, 1, 1, 0, 0, 1, 0, 1, 1,\n",
       "       1, 1, 0, 1, 1, 1, 1, 1, 0, 1, 0, 0, 0, 0, 0, 0, 0, 0, 0, 0, 0, 0,\n",
       "       0, 0, 1, 1, 1, 1, 1, 1, 0, 1, 0, 1, 1, 0, 1, 1, 0, 1, 0, 0, 1, 1,\n",
       "       1, 1, 1, 1, 1, 1, 1, 1, 1, 1, 1, 0, 1, 1, 0, 1, 0, 1, 1, 1, 1, 1,\n",
       "       1, 1, 1, 1, 1, 1, 1, 1, 1, 0, 1, 1, 1, 0, 1, 0, 1, 1, 1, 1, 0, 0,\n",
       "       0, 1, 1, 1, 1, 0, 1, 0, 1, 0, 1, 1, 1, 0, 1, 1, 1, 1, 1, 1, 1, 0,\n",
       "       0, 0, 1, 1, 1, 1, 1, 1, 1, 1, 1, 1, 1, 0, 0, 1, 0, 0, 0, 1, 0, 0,\n",
       "       1, 1, 1, 1, 1, 0, 1, 1, 1, 1, 1, 0, 1, 1, 1, 0, 1, 1, 0, 0, 1, 1,\n",
       "       1, 1, 1, 1, 0, 1, 1, 1, 1, 1, 1, 1, 0, 1, 1, 1, 1, 1, 0, 1, 1, 0,\n",
       "       1, 1, 1, 1, 1, 1, 1, 1, 1, 1, 1, 1, 0, 1, 0, 0, 1, 0, 1, 1, 1, 1,\n",
       "       1, 0, 1, 1, 0, 1, 0, 1, 1, 0, 1, 0, 1, 1, 1, 1, 1, 1, 1, 1, 0, 0,\n",
       "       1, 1, 1, 1, 1, 1, 0, 1, 1, 1, 1, 1, 1, 1, 1, 1, 1, 0, 1, 1, 1, 1,\n",
       "       1, 1, 1, 0, 1, 0, 1, 1, 0, 1, 1, 1, 1, 1, 0, 0, 1, 0, 1, 0, 1, 1,\n",
       "       1, 1, 1, 0, 1, 1, 0, 1, 0, 1, 0, 0, 1, 1, 1, 0, 1, 1, 1, 1, 1, 1,\n",
       "       1, 1, 1, 1, 1, 0, 1, 0, 0, 1, 1, 1, 1, 1, 1, 1, 1, 1, 1, 1, 1, 1,\n",
       "       1, 1, 1, 1, 1, 1, 1, 1, 1, 1, 1, 1, 0, 0, 0, 0, 0, 0, 1])"
      ]
     },
     "execution_count": 30,
     "metadata": {},
     "output_type": "execute_result"
    }
   ],
   "source": [
    "# Visualiza a variável\n",
    "target"
   ]
  },
  {
   "cell_type": "code",
   "execution_count": 31,
   "metadata": {},
   "outputs": [
    {
     "data": {
      "text/plain": [
       "357"
      ]
     },
     "execution_count": 31,
     "metadata": {},
     "output_type": "execute_result"
    }
   ],
   "source": [
    "# Total de registros por classe - Câncer Benigno\n",
    "np.count_nonzero(target == 1)"
   ]
  },
  {
   "cell_type": "code",
   "execution_count": 32,
   "metadata": {},
   "outputs": [
    {
     "data": {
      "text/plain": [
       "212"
      ]
     },
     "execution_count": 32,
     "metadata": {},
     "output_type": "execute_result"
    }
   ],
   "source": [
    "# Total de registros por classe - Câncer Maligno\n",
    "np.count_nonzero(target == 0)"
   ]
  },
  {
   "cell_type": "code",
   "execution_count": 33,
   "metadata": {},
   "outputs": [],
   "source": [
    "# Vamos extrair os labels\n",
    "\n",
    "# Dicionário para os labels\n",
    "labels = {}\n",
    "\n",
    "# Nomes das classes da variável target\n",
    "target_names = load_breast_cancer()[\"target_names\"]\n",
    "\n",
    "# Mapeamento\n",
    "for i in range(len(target_names)):\n",
    "    labels.update({i:target_names[i]})"
   ]
  },
  {
   "cell_type": "code",
   "execution_count": 34,
   "metadata": {},
   "outputs": [
    {
     "data": {
      "text/plain": [
       "{0: np.str_('malignant'), 1: np.str_('benign')}"
      ]
     },
     "execution_count": 34,
     "metadata": {},
     "output_type": "execute_result"
    }
   ],
   "source": [
    "# Visualiza os labels\n",
    "labels"
   ]
  },
  {
   "cell_type": "code",
   "execution_count": 35,
   "metadata": {},
   "outputs": [],
   "source": [
    "# Agora preparamos as variáveis preditoras em X\n",
    "X = np.array(dados)"
   ]
  },
  {
   "cell_type": "code",
   "execution_count": 36,
   "metadata": {},
   "outputs": [
    {
     "data": {
      "text/plain": [
       "array([[1.799e+01, 1.038e+01, 1.228e+02, ..., 2.654e-01, 4.601e-01,\n",
       "        1.189e-01],\n",
       "       [2.057e+01, 1.777e+01, 1.329e+02, ..., 1.860e-01, 2.750e-01,\n",
       "        8.902e-02],\n",
       "       [1.969e+01, 2.125e+01, 1.300e+02, ..., 2.430e-01, 3.613e-01,\n",
       "        8.758e-02],\n",
       "       ...,\n",
       "       [1.660e+01, 2.808e+01, 1.083e+02, ..., 1.418e-01, 2.218e-01,\n",
       "        7.820e-02],\n",
       "       [2.060e+01, 2.933e+01, 1.401e+02, ..., 2.650e-01, 4.087e-01,\n",
       "        1.240e-01],\n",
       "       [7.760e+00, 2.454e+01, 4.792e+01, ..., 0.000e+00, 2.871e-01,\n",
       "        7.039e-02]], shape=(569, 30))"
      ]
     },
     "execution_count": 36,
     "metadata": {},
     "output_type": "execute_result"
    }
   ],
   "source": [
    "# Visualiza os dados de entrada\n",
    "X"
   ]
  },
  {
   "cell_type": "code",
   "execution_count": 37,
   "metadata": {},
   "outputs": [],
   "source": [
    "# Dividimos os dados de entrada e saída em treino e teste\n",
    "X_treino, X_teste, y_treino, y_teste = train_test_split(X, target, test_size = 0.15, shuffle = True)"
   ]
  },
  {
   "cell_type": "code",
   "execution_count": 38,
   "metadata": {},
   "outputs": [
    {
     "name": "stdout",
     "output_type": "stream",
     "text": [
      "(483, 30)\n",
      "(483,)\n"
     ]
    }
   ],
   "source": [
    "# Shape dos dados de treino\n",
    "print(X_treino.shape)\n",
    "print(y_treino.shape)"
   ]
  },
  {
   "cell_type": "code",
   "execution_count": 39,
   "metadata": {},
   "outputs": [
    {
     "name": "stdout",
     "output_type": "stream",
     "text": [
      "(86, 30)\n",
      "(86,)\n"
     ]
    }
   ],
   "source": [
    "# Shape dos dados de teste\n",
    "print(X_teste.shape)\n",
    "print(y_teste.shape)"
   ]
  },
  {
   "cell_type": "code",
   "execution_count": 40,
   "metadata": {},
   "outputs": [],
   "source": [
    "# Ajusta o shape dos dados de entrada\n",
    "X_treino = X_treino.T\n",
    "X_teste = X_teste.T"
   ]
  },
  {
   "cell_type": "code",
   "execution_count": 41,
   "metadata": {},
   "outputs": [
    {
     "name": "stdout",
     "output_type": "stream",
     "text": [
      "(30, 483)\n",
      "(30, 86)\n"
     ]
    }
   ],
   "source": [
    "print(X_treino.shape)\n",
    "print(X_teste.shape)"
   ]
  },
  {
   "cell_type": "code",
   "execution_count": 42,
   "metadata": {},
   "outputs": [],
   "source": [
    "# Precisamos ajustar também os dados de saída\n",
    "y_treino = y_treino.reshape(1, len(y_treino))\n",
    "y_teste = y_teste.reshape(1, len(y_teste))"
   ]
  },
  {
   "cell_type": "code",
   "execution_count": 43,
   "metadata": {},
   "outputs": [
    {
     "name": "stdout",
     "output_type": "stream",
     "text": [
      "(1, 483)\n",
      "(1, 86)\n"
     ]
    }
   ],
   "source": [
    "print(y_treino.shape)\n",
    "print(y_teste.shape)"
   ]
  },
  {
   "cell_type": "code",
   "execution_count": 44,
   "metadata": {},
   "outputs": [],
   "source": [
    "# Variável com as dimensões de entrada para oo número de neurônios \n",
    "dims_camada_entrada = [X_treino.shape[0], 50, 20, 5, 1]"
   ]
  },
  {
   "cell_type": "code",
   "execution_count": 45,
   "metadata": {},
   "outputs": [
    {
     "data": {
      "text/plain": [
       "[30, 50, 20, 5, 1]"
      ]
     },
     "execution_count": 45,
     "metadata": {},
     "output_type": "execute_result"
    }
   ],
   "source": [
    "dims_camada_entrada"
   ]
  },
  {
   "cell_type": "markdown",
   "metadata": {},
   "source": [
    "Após definir todas as funções da rede, precisamos treiná-la. Isso envolve iterar várias vezes sobre os dados, ajustando os pesos para minimizar a função de perda. \n",
    "\n",
    "Durante a avaliação, aplicamos os dados de teste para verificar se a rede generalizou bem ou se está apenas decorando os exemplos de treino."
   ]
  },
  {
   "cell_type": "code",
   "execution_count": 46,
   "metadata": {},
   "outputs": [
    {
     "name": "stdout",
     "output_type": "stream",
     "text": [
      "\n",
      "Iniciando o Treinamento.\n",
      "\n",
      "Custo Após 0 iterações é 0.6931493840781573\n",
      "Custo Após 10 iterações é 0.6920290945093092\n",
      "Custo Após 20 iterações é 0.6909497872392654\n",
      "Custo Após 30 iterações é 0.689909970535485\n",
      "Custo Após 40 iterações é 0.688908208653603\n",
      "Custo Após 50 iterações é 0.6879430868636165\n",
      "Custo Após 60 iterações é 0.6870132222761752\n",
      "Custo Após 70 iterações é 0.6861172868989424\n",
      "Custo Após 80 iterações é 0.6852539924818695\n",
      "Custo Após 90 iterações é 0.6844221012252018\n",
      "Custo Após 100 iterações é 0.6836204232651194\n",
      "Custo Após 110 iterações é 0.6828477970640779\n",
      "Custo Após 120 iterações é 0.6821031024115783\n",
      "Custo Após 130 iterações é 0.6813852737420076\n",
      "Custo Após 140 iterações é 0.6806932673462727\n",
      "Custo Após 150 iterações é 0.6800260395871058\n",
      "Custo Após 160 iterações é 0.6793825820261161\n",
      "Custo Após 170 iterações é 0.6787619330845421\n",
      "Custo Após 180 iterações é 0.6781631855163909\n",
      "Custo Após 190 iterações é 0.6775856376977076\n",
      "Custo Após 200 iterações é 0.6770286327165315\n",
      "Custo Após 210 iterações é 0.676491266651878\n",
      "Custo Após 220 iterações é 0.6759726760058379\n",
      "Custo Após 230 iterações é 0.6754719938610222\n",
      "Custo Após 240 iterações é 0.6749884166367105\n",
      "Custo Após 250 iterações é 0.6745211464809768\n",
      "Custo Após 260 iterações é 0.674069411328607\n",
      "Custo Após 270 iterações é 0.673632456123663\n",
      "Custo Após 280 iterações é 0.6732095036409897\n",
      "Custo Após 290 iterações é 0.6727997872335151\n",
      "Custo Após 300 iterações é 0.6724025032648697\n",
      "Custo Após 310 iterações é 0.6720168298818163\n",
      "Custo Após 320 iterações é 0.6716418999383625\n",
      "Custo Após 330 iterações é 0.6712768014603322\n",
      "Custo Após 340 iterações é 0.6709205490930524\n",
      "Custo Após 350 iterações é 0.670572070763052\n",
      "Custo Após 360 iterações é 0.6702301706761491\n",
      "Custo Após 370 iterações é 0.6698934819899748\n",
      "Custo Após 380 iterações é 0.6695604253358909\n",
      "Custo Após 390 iterações é 0.6692291174376198\n",
      "Custo Após 400 iterações é 0.6688972906436763\n",
      "Custo Após 410 iterações é 0.6685621526657215\n",
      "Custo Após 420 iterações é 0.6682202329162722\n",
      "Custo Após 430 iterações é 0.6678670680542387\n",
      "Custo Após 440 iterações é 0.667496497607119\n",
      "Custo Após 450 iterações é 0.667100350060845\n",
      "Custo Após 460 iterações é 0.6666672643458673\n",
      "Custo Após 470 iterações é 0.6661808730598414\n",
      "Custo Após 480 iterações é 0.6656172462719514\n",
      "Custo Após 490 iterações é 0.6649419603038416\n",
      "Custo Após 500 iterações é 0.6641006409946484\n",
      "Custo Após 510 iterações é 0.6630047740005384\n",
      "Custo Após 520 iterações é 0.6615073079284072\n",
      "Custo Após 530 iterações é 0.6593545465407853\n",
      "Custo Após 540 iterações é 0.6561002788473098\n",
      "Custo Após 550 iterações é 0.6509858351027973\n",
      "Custo Após 560 iterações é 0.6429852777481497\n",
      "Custo Após 570 iterações é 0.6319945306531859\n",
      "Custo Após 580 iterações é 0.6216069788198798\n",
      "Custo Após 590 iterações é 0.6157028735583877\n",
      "Custo Após 600 iterações é 0.6123784638939872\n",
      "Custo Após 610 iterações é 0.6095372413872391\n",
      "Custo Após 620 iterações é 0.6067185827512146\n",
      "Custo Após 630 iterações é 0.6038644276877017\n",
      "Custo Após 640 iterações é 0.6009614224952592\n",
      "Custo Após 650 iterações é 0.5979981347202113\n",
      "Custo Após 660 iterações é 0.5949604317689812\n",
      "Custo Após 670 iterações é 0.591830746112882\n",
      "Custo Após 680 iterações é 0.5885862763349162\n",
      "Custo Após 690 iterações é 0.5851974635349267\n",
      "Custo Após 700 iterações é 0.5816224293392773\n",
      "Custo Após 710 iterações é 0.5778036619801362\n",
      "Custo Após 720 iterações é 0.5736820161215094\n",
      "Custo Após 730 iterações é 0.5691564673674021\n",
      "Custo Após 740 iterações é 0.5640830742516635\n",
      "Custo Após 750 iterações é 0.558261203896914\n",
      "Custo Após 760 iterações é 0.5514186501022277\n",
      "Custo Após 770 iterações é 0.543191404392549\n",
      "Custo Após 780 iterações é 0.5330545534533473\n",
      "Custo Após 790 iterações é 0.5204586438540165\n",
      "Custo Após 800 iterações é 0.5050099267178639\n",
      "Custo Após 810 iterações é 0.4866207238220247\n",
      "Custo Após 820 iterações é 0.4662767429539406\n",
      "Custo Após 830 iterações é 0.44776016762224913\n",
      "Custo Após 840 iterações é 0.4904401379528455\n",
      "Custo Após 850 iterações é 0.4749804816097051\n",
      "Custo Após 860 iterações é 0.46210469445860164\n",
      "Custo Após 870 iterações é 0.45386138075314936\n",
      "Custo Após 880 iterações é 0.44514023644201584\n",
      "Custo Após 890 iterações é 0.43801846470567257\n",
      "Custo Após 900 iterações é 0.42902037137357146\n",
      "Custo Após 910 iterações é 0.42188875928393726\n",
      "Custo Após 920 iterações é 0.4140260712138716\n",
      "Custo Após 930 iterações é 0.40868503959039604\n",
      "Custo Após 940 iterações é 0.40315304391948015\n",
      "Custo Após 950 iterações é 0.39927605559854323\n",
      "Custo Após 960 iterações é 0.3943331244039795\n",
      "Custo Após 970 iterações é 0.39079644234267835\n",
      "Custo Após 980 iterações é 0.3886111937949199\n",
      "Custo Após 990 iterações é 0.38517261769049277\n",
      "Custo Após 1000 iterações é 0.380297096611562\n",
      "Custo Após 1010 iterações é 0.37738944017307585\n",
      "Custo Após 1020 iterações é 0.37346565210325483\n",
      "Custo Após 1030 iterações é 0.37246179468798496\n",
      "Custo Após 1040 iterações é 0.3697309805804461\n",
      "Custo Após 1050 iterações é 0.3676067172745954\n",
      "Custo Após 1060 iterações é 0.3642490631098486\n",
      "Custo Após 1070 iterações é 0.3619624409842113\n",
      "Custo Após 1080 iterações é 0.3582774033325965\n",
      "Custo Após 1090 iterações é 0.3561224214752046\n",
      "Custo Após 1100 iterações é 0.3525174664092406\n",
      "Custo Após 1110 iterações é 0.348780058820252\n",
      "Custo Após 1120 iterações é 0.34624300401105024\n",
      "Custo Após 1130 iterações é 0.34601299953144843\n",
      "Custo Após 1140 iterações é 0.3426849706031251\n",
      "Custo Após 1150 iterações é 0.340943697271967\n",
      "Custo Após 1160 iterações é 0.3382000190682521\n",
      "Custo Após 1170 iterações é 0.33775144210966684\n",
      "Custo Após 1180 iterações é 0.33666594134262445\n",
      "Custo Após 1190 iterações é 0.33399422767011927\n",
      "Custo Após 1200 iterações é 0.3341629206854159\n",
      "Custo Após 1210 iterações é 0.3301279784612168\n",
      "Custo Após 1220 iterações é 0.3303239543608008\n",
      "Custo Após 1230 iterações é 0.3278122382752972\n",
      "Custo Após 1240 iterações é 0.3269917166479736\n",
      "Custo Após 1250 iterações é 0.32529980441678297\n",
      "Custo Após 1260 iterações é 0.32344686137480105\n",
      "Custo Após 1270 iterações é 0.32306545733944714\n",
      "Custo Após 1280 iterações é 0.322084511631996\n",
      "Custo Após 1290 iterações é 0.32188772079321365\n",
      "Custo Após 1300 iterações é 0.31794336207768137\n",
      "Custo Após 1310 iterações é 0.3189380663951815\n",
      "Custo Após 1320 iterações é 0.3178066521948016\n",
      "Custo Após 1330 iterações é 0.31649267640381745\n",
      "Custo Após 1340 iterações é 0.31405678588891556\n",
      "Custo Após 1350 iterações é 0.31376106439611945\n",
      "Custo Após 1360 iterações é 0.31221630019492774\n",
      "Custo Após 1370 iterações é 0.31210907156590134\n",
      "Custo Após 1380 iterações é 0.3103460426970806\n",
      "Custo Após 1390 iterações é 0.3101307661269934\n",
      "Custo Após 1400 iterações é 0.30698520499015536\n",
      "Custo Após 1410 iterações é 0.3091067008331583\n",
      "Custo Após 1420 iterações é 0.30604203423907766\n",
      "Custo Após 1430 iterações é 0.3046045089281539\n",
      "Custo Após 1440 iterações é 0.3051238114191379\n",
      "Custo Após 1450 iterações é 0.30251771007400374\n",
      "Custo Após 1460 iterações é 0.3032137737265493\n",
      "Custo Após 1470 iterações é 0.3028637312141208\n",
      "Custo Após 1480 iterações é 0.3014878256265464\n",
      "Custo Após 1490 iterações é 0.2991722104166601\n",
      "Custo Após 1500 iterações é 0.2982647686748374\n",
      "Custo Após 1510 iterações é 0.2980317540199441\n",
      "Custo Após 1520 iterações é 0.2905551565233058\n",
      "Custo Após 1530 iterações é 0.289493724129899\n",
      "Custo Após 1540 iterações é 0.2884092973502655\n",
      "Custo Após 1550 iterações é 0.28739909906004707\n",
      "Custo Após 1560 iterações é 0.28596599477133083\n",
      "Custo Após 1570 iterações é 0.2857593862692953\n",
      "Custo Após 1580 iterações é 0.2846969403224999\n",
      "Custo Após 1590 iterações é 0.28501264523997544\n",
      "Custo Após 1600 iterações é 0.2853595043824203\n",
      "Custo Após 1610 iterações é 0.28383576143875083\n",
      "Custo Após 1620 iterações é 0.2817062238690192\n",
      "Custo Após 1630 iterações é 0.2824851704366189\n",
      "Custo Após 1640 iterações é 0.28996665297696333\n",
      "Custo Após 1650 iterações é 0.28895866409359106\n",
      "Custo Após 1660 iterações é 0.2868779526276226\n",
      "Custo Após 1670 iterações é 0.2846557948488263\n",
      "Custo Após 1680 iterações é 0.2798782624168282\n",
      "Custo Após 1690 iterações é 0.2765894649672903\n",
      "Custo Após 1700 iterações é 0.27615690697846257\n",
      "Custo Após 1710 iterações é 0.2736964187824554\n",
      "Custo Após 1720 iterações é 0.2748147294355417\n",
      "Custo Após 1730 iterações é 0.27440223373644035\n",
      "Custo Após 1740 iterações é 0.273026105179604\n",
      "Custo Após 1750 iterações é 0.2757784531614402\n",
      "Custo Após 1760 iterações é 0.2793200188722415\n",
      "Custo Após 1770 iterações é 0.2779226578413563\n",
      "Custo Após 1780 iterações é 0.2774419215156212\n",
      "Custo Após 1790 iterações é 0.27499633348702746\n",
      "Custo Após 1800 iterações é 0.26889099555310353\n",
      "Custo Após 1810 iterações é 0.26755975680492217\n",
      "Custo Após 1820 iterações é 0.2684318931243295\n",
      "Custo Após 1830 iterações é 0.2709803737781394\n",
      "Custo Após 1840 iterações é 0.270256671334683\n",
      "Custo Após 1850 iterações é 0.2700719061111734\n",
      "Custo Após 1860 iterações é 0.26867062956686627\n",
      "Custo Após 1870 iterações é 0.2695968160321666\n",
      "Custo Após 1880 iterações é 0.2679333705368539\n",
      "Custo Após 1890 iterações é 0.26365907957756907\n",
      "Custo Após 1900 iterações é 0.2654508522539648\n",
      "Custo Após 1910 iterações é 0.2642335195761695\n",
      "Custo Após 1920 iterações é 0.26276699657748903\n",
      "Custo Após 1930 iterações é 0.26263955020465723\n",
      "Custo Após 1940 iterações é 0.26142532915969185\n",
      "Custo Após 1950 iterações é 0.26521637034725637\n",
      "Custo Após 1960 iterações é 0.2641022095073758\n",
      "Custo Após 1970 iterações é 0.2630479297906749\n",
      "Custo Após 1980 iterações é 0.2581169727208021\n",
      "Custo Após 1990 iterações é 0.2582729501677508\n",
      "Custo Após 2000 iterações é 0.26230284945930354\n",
      "Custo Após 2010 iterações é 0.26264368868362037\n",
      "Custo Após 2020 iterações é 0.25865275383124947\n",
      "Custo Após 2030 iterações é 0.2581213982436648\n",
      "Custo Após 2040 iterações é 0.26000205813356314\n",
      "Custo Após 2050 iterações é 0.2581685624025185\n",
      "Custo Após 2060 iterações é 0.25523576984617263\n",
      "Custo Após 2070 iterações é 0.25839736466569324\n",
      "Custo Após 2080 iterações é 0.2557945349952854\n",
      "Custo Após 2090 iterações é 0.2558547751514471\n",
      "Custo Após 2100 iterações é 0.25645854207132773\n",
      "Custo Após 2110 iterações é 0.25262114231683064\n",
      "Custo Após 2120 iterações é 0.25376394398265023\n",
      "Custo Após 2130 iterações é 0.2592529644079495\n",
      "Custo Após 2140 iterações é 0.25677710297648004\n",
      "Custo Após 2150 iterações é 0.2511570559873068\n",
      "Custo Após 2160 iterações é 0.2512262029730508\n",
      "Custo Após 2170 iterações é 0.25777094867944395\n",
      "Custo Após 2180 iterações é 0.2570245615764003\n",
      "Custo Após 2190 iterações é 0.2542521261989121\n",
      "Custo Após 2200 iterações é 0.24820096531233313\n",
      "Custo Após 2210 iterações é 0.24782997320253444\n",
      "Custo Após 2220 iterações é 0.2515295066622097\n",
      "Custo Após 2230 iterações é 0.25368290983820874\n",
      "Custo Após 2240 iterações é 0.24872780179389986\n",
      "Custo Após 2250 iterações é 0.24680995281547702\n",
      "Custo Após 2260 iterações é 0.24826580307142757\n",
      "Custo Após 2270 iterações é 0.2513014431910348\n",
      "Custo Após 2280 iterações é 0.24595781140710146\n",
      "Custo Após 2290 iterações é 0.24727619546748025\n",
      "Custo Após 2300 iterações é 0.2491748478127592\n",
      "Custo Após 2310 iterações é 0.2459474987364073\n",
      "Custo Após 2320 iterações é 0.24483292455536682\n",
      "Custo Após 2330 iterações é 0.24733698163587758\n",
      "Custo Após 2340 iterações é 0.24510888094459857\n",
      "Custo Após 2350 iterações é 0.24159879639020196\n",
      "Custo Após 2360 iterações é 0.24503577222011674\n",
      "Custo Após 2370 iterações é 0.24579676091036218\n",
      "Custo Após 2380 iterações é 0.24455248533884782\n",
      "Custo Após 2390 iterações é 0.2435414993561905\n",
      "Custo Após 2400 iterações é 0.24051711487094724\n",
      "Custo Após 2410 iterações é 0.24492236937083947\n",
      "Custo Após 2420 iterações é 0.24479123757035845\n",
      "Custo Após 2430 iterações é 0.2423998286776801\n",
      "Custo Após 2440 iterações é 0.2387434061130835\n",
      "Custo Após 2450 iterações é 0.24116675247368563\n",
      "Custo Após 2460 iterações é 0.2455499019189227\n",
      "Custo Após 2470 iterações é 0.24189969272053363\n",
      "Custo Após 2480 iterações é 0.24189699961277947\n",
      "Custo Após 2490 iterações é 0.242473765112517\n",
      "Custo Após 2500 iterações é 0.23964350017604086\n",
      "Custo Após 2510 iterações é 0.23705680539854815\n",
      "Custo Após 2520 iterações é 0.23733052566193125\n",
      "Custo Após 2530 iterações é 0.24336009681740178\n",
      "Custo Após 2540 iterações é 0.24630549914854455\n",
      "Custo Após 2550 iterações é 0.2402112960718082\n",
      "Custo Após 2560 iterações é 0.23982511987229727\n",
      "Custo Após 2570 iterações é 0.23771434164992689\n",
      "Custo Após 2580 iterações é 0.23470978697375658\n",
      "Custo Após 2590 iterações é 0.23503253228038679\n",
      "Custo Após 2600 iterações é 0.23455756085940888\n",
      "Custo Após 2610 iterações é 0.23438662226448984\n",
      "Custo Após 2620 iterações é 0.2334425220414711\n",
      "Custo Após 2630 iterações é 0.23351688356580394\n",
      "Custo Após 2640 iterações é 0.2401194497006077\n",
      "Custo Após 2650 iterações é 0.24283363784014386\n",
      "Custo Após 2660 iterações é 0.23762904748525943\n",
      "Custo Após 2670 iterações é 0.2357442124059046\n",
      "Custo Após 2680 iterações é 0.23738772619099344\n",
      "Custo Após 2690 iterações é 0.2360035964150802\n",
      "Custo Após 2700 iterações é 0.23405282753836434\n",
      "Custo Após 2710 iterações é 0.2315901442528955\n",
      "Custo Após 2720 iterações é 0.2313050104180182\n",
      "Custo Após 2730 iterações é 0.23597756225896074\n",
      "Custo Após 2740 iterações é 0.23516362398197582\n",
      "Custo Após 2750 iterações é 0.23488603913369469\n",
      "Custo Após 2760 iterações é 0.23393552189043051\n",
      "Custo Após 2770 iterações é 0.23347183595525442\n",
      "Custo Após 2780 iterações é 0.23342719913517418\n",
      "Custo Após 2790 iterações é 0.2339672857548932\n",
      "Custo Após 2800 iterações é 0.23393784733864775\n",
      "Custo Após 2810 iterações é 0.23289592875490395\n",
      "Custo Após 2820 iterações é 0.23329694831329661\n",
      "Custo Após 2830 iterações é 0.2333830798019887\n",
      "Custo Após 2840 iterações é 0.23249210722094035\n",
      "Custo Após 2850 iterações é 0.23077574279017235\n",
      "Custo Após 2860 iterações é 0.23082919218962283\n",
      "Custo Após 2870 iterações é 0.2300669970191523\n",
      "Custo Após 2880 iterações é 0.22972602765081726\n",
      "Custo Após 2890 iterações é 0.22886922910260074\n",
      "Custo Após 2900 iterações é 0.22951936889112484\n",
      "Custo Após 2910 iterações é 0.229258781910561\n",
      "Custo Após 2920 iterações é 0.22940187122110292\n",
      "Custo Após 2930 iterações é 0.22839984883237707\n",
      "Custo Após 2940 iterações é 0.22852301100340722\n",
      "Custo Após 2950 iterações é 0.2271753379074989\n",
      "Custo Após 2960 iterações é 0.22798902417217687\n",
      "Custo Após 2970 iterações é 0.2277769502748512\n",
      "Custo Após 2980 iterações é 0.2284457217795069\n",
      "Custo Após 2990 iterações é 0.22637557577599435\n",
      "\n",
      "Treinamento Concluído.\n",
      "\n"
     ]
    }
   ],
   "source": [
    "# Treinamento do modelo\n",
    "\n",
    "print(\"\\nIniciando o Treinamento.\\n\")\n",
    "\n",
    "parametros, custo = modeloNN(X = X_treino, \n",
    "                             Y = y_treino, \n",
    "                             dims_camada_entrada = dims_camada_entrada, \n",
    "                             num_iterations = 3000, \n",
    "                             learning_rate = 0.0075)\n",
    "\n",
    "print(\"\\nTreinamento Concluído.\\n\")"
   ]
  },
  {
   "cell_type": "code",
   "execution_count": 47,
   "metadata": {},
   "outputs": [
    {
     "data": {
      "text/plain": [
       "[<matplotlib.lines.Line2D at 0x1fbe35151d0>]"
      ]
     },
     "execution_count": 47,
     "metadata": {},
     "output_type": "execute_result"
    },
    {
     "data": {
      "image/png": "[encoded data removed]",
      "text/plain": [
       "<Figure size 640x480 with 1 Axes>"
      ]
     },
     "metadata": {},
     "output_type": "display_data"
    }
   ],
   "source": [
    "# Plot do erro durante o treinamento\n",
    "plt.plot(custo)"
   ]
  },
  {
   "cell_type": "code",
   "execution_count": 48,
   "metadata": {},
   "outputs": [],
   "source": [
    "# Previsões com os dados de treino\n",
    "y_pred_treino = predict(X_treino, parametros)"
   ]
  },
  {
   "cell_type": "code",
   "execution_count": 49,
   "metadata": {},
   "outputs": [
    {
     "data": {
      "text/plain": [
       "array([[1.04252143e-05, 9.80449778e-04, 8.81171420e-01, 8.81171420e-01,\n",
       "        8.81171420e-01, 7.95468237e-01, 8.81171420e-01, 8.27315633e-01,\n",
       "        8.57058135e-01, 8.47046236e-01, 8.70711789e-01, 8.39631653e-01,\n",
       "        5.60084998e-14, 5.13982262e-01, 8.25076697e-01, 8.80609707e-01,\n",
       "        8.81130454e-01, 4.75650651e-06, 1.16401326e-16, 8.81152305e-01,\n",
       "        8.15207618e-01, 7.98391391e-01, 8.81164378e-01, 8.81171420e-01,\n",
       "        4.97310118e-01, 8.57072144e-01, 8.67721923e-01, 8.81155221e-01,\n",
       "        7.73001734e-01, 7.82706949e-01, 3.42658518e-19, 4.46428516e-18,\n",
       "        5.49933315e-01, 1.64686893e-17, 8.30423217e-01, 2.42219529e-02,\n",
       "        8.81164992e-01, 8.81171420e-01, 8.69573318e-01, 8.21793002e-09,\n",
       "        1.00101509e-05, 8.81171420e-01, 5.29171213e-02, 2.38511280e-18,\n",
       "        8.23860625e-01, 8.79455191e-01, 8.81171420e-01, 1.78869096e-10,\n",
       "        8.81171420e-01, 8.81170346e-01, 1.46299996e-09, 8.81171420e-01,\n",
       "        7.96490913e-01, 8.53550768e-01, 8.81162827e-01, 8.81171420e-01,\n",
       "        8.81171420e-01, 8.18811465e-01, 8.81171420e-01, 7.56873260e-01,\n",
       "        3.67086947e-03, 8.51780525e-01, 8.81171420e-01, 7.43029185e-25,\n",
       "        6.75625594e-04, 8.63652294e-01, 8.81171420e-01, 1.43285238e-10,\n",
       "        3.80172279e-05, 8.81171420e-01, 8.13545309e-01, 8.61155906e-01,\n",
       "        8.78698037e-01, 1.89034881e-07, 8.63960340e-01, 5.85999686e-01,\n",
       "        8.81167529e-01, 2.36139166e-04, 3.60106150e-01, 8.81171420e-01,\n",
       "        1.99425036e-04, 8.81171420e-01, 6.08748412e-01, 8.81171420e-01,\n",
       "        2.54878770e-14, 5.69406076e-03, 8.81171420e-01, 1.07879973e-03,\n",
       "        8.81171420e-01, 3.78834309e-14, 5.66764920e-01, 8.81171420e-01,\n",
       "        8.46611705e-01, 8.71659426e-01, 5.79913280e-01, 7.30979910e-01,\n",
       "        8.63922141e-01, 8.30325090e-01, 3.91039110e-01, 8.81171420e-01,\n",
       "        8.81171420e-01, 5.97409789e-01, 5.63072298e-03, 2.31173442e-03,\n",
       "        8.81171420e-01, 8.81159399e-01, 1.46395937e-01, 2.44489570e-01,\n",
       "        7.32654203e-02, 1.40989931e-02, 3.81047133e-01, 1.98344117e-01,\n",
       "        8.60638415e-01, 6.62042525e-01, 8.78273897e-01, 5.78966872e-07,\n",
       "        7.93855015e-01, 5.00680848e-03, 5.12950802e-01, 8.81171420e-01,\n",
       "        8.81155852e-01, 3.62642704e-01, 8.79326329e-01, 1.61726412e-01,\n",
       "        8.81171420e-01, 1.03758737e-01, 5.31734396e-02, 8.15017587e-01,\n",
       "        4.76565211e-03, 8.72352974e-01, 7.78857641e-01, 1.60968778e-01,\n",
       "        2.99195592e-02, 1.44188024e-05, 5.81032109e-01, 1.83413771e-08,\n",
       "        8.65501049e-01, 8.81171420e-01, 8.81171420e-01, 1.40840745e-02,\n",
       "        8.69693590e-01, 5.75001571e-01, 8.81171420e-01, 6.75849835e-12,\n",
       "        3.15002289e-08, 7.87411857e-06, 1.46360535e-01, 1.44514469e-02,\n",
       "        7.21941656e-01, 6.97471137e-01, 8.79279137e-01, 8.60484749e-01,\n",
       "        8.81171420e-01, 8.70260953e-01, 7.55793324e-01, 7.45378703e-01,\n",
       "        7.64267522e-01, 8.81171420e-01, 8.52414511e-01, 8.66807199e-01,\n",
       "        8.81171420e-01, 1.70856669e-01, 1.12880579e-01, 8.81171420e-01,\n",
       "        7.13222572e-01, 7.77085104e-01, 6.24345454e-01, 1.92711328e-03,\n",
       "        8.35335621e-01, 8.81171420e-01, 1.87793244e-02, 8.76688186e-01,\n",
       "        9.20263737e-05, 8.59142750e-01, 8.51638802e-01, 5.46966886e-07,\n",
       "        6.49441919e-01, 8.81171420e-01, 4.49422549e-02, 8.66145396e-01,\n",
       "        8.81171420e-01, 8.81171420e-01, 8.81171420e-01, 1.04720461e-06,\n",
       "        8.02418055e-01, 8.78235933e-01, 8.81156283e-01, 3.75603219e-01,\n",
       "        6.80288104e-01, 5.86368398e-01, 6.51819472e-01, 8.81171420e-01,\n",
       "        6.92103377e-04, 2.48507456e-02, 1.05184703e-09, 4.44269693e-01,\n",
       "        8.19385419e-01, 8.44042127e-01, 8.01477704e-01, 1.24413444e-05,\n",
       "        5.57211769e-04, 5.28165790e-02, 8.05272547e-01, 9.14864457e-07,\n",
       "        8.79190928e-01, 8.55533143e-01, 9.52926104e-18, 6.92435487e-01,\n",
       "        8.81171420e-01, 1.24893734e-01, 5.45011459e-10, 4.27932928e-02,\n",
       "        4.98949501e-04, 1.20696821e-03, 8.81171420e-01, 4.98944514e-06,\n",
       "        8.54852028e-01, 4.92116873e-01, 8.18435538e-01, 6.45205743e-01,\n",
       "        7.21106950e-01, 8.69193825e-01, 8.31837862e-01, 6.59851095e-01,\n",
       "        6.70411119e-01, 8.16949287e-01, 5.89648035e-04, 7.54363449e-06,\n",
       "        7.00311018e-01, 8.07850220e-01, 1.65174863e-01, 2.76416564e-08,\n",
       "        8.81171420e-01, 8.26423721e-01, 8.72558703e-01, 8.81171420e-01,\n",
       "        8.54703287e-01, 8.30767880e-01, 8.81171420e-01, 8.81163093e-01,\n",
       "        7.44925260e-01, 8.81171420e-01, 8.81171420e-01, 1.20987869e-04,\n",
       "        3.73436887e-31, 8.81171420e-01, 8.10563389e-01, 1.74770735e-06,\n",
       "        8.48300100e-01, 7.22321651e-01, 6.75593248e-01, 2.44158101e-03,\n",
       "        8.81130143e-01, 2.94967631e-16, 5.11013571e-13, 1.69810407e-13,\n",
       "        8.52293715e-01, 8.81171420e-01, 5.45519542e-01, 8.81171420e-01,\n",
       "        7.84182161e-01, 1.65050970e-02, 7.57195744e-01, 8.71978604e-01,\n",
       "        8.01469128e-01, 1.91422987e-05, 8.77821707e-01, 8.42719725e-01,\n",
       "        6.53853610e-05, 4.12233119e-07, 3.19078366e-02, 8.81171420e-01,\n",
       "        7.69157128e-04, 2.08422451e-07, 3.73016521e-01, 8.81171420e-01,\n",
       "        8.20478104e-01, 8.81171420e-01, 7.75754398e-01, 8.74093261e-01,\n",
       "        8.57581432e-01, 8.77481870e-01, 3.59274987e-09, 8.81171420e-01,\n",
       "        8.00361592e-01, 8.18324779e-01, 1.16519151e-08, 2.86853406e-04,\n",
       "        3.29804219e-02, 8.22587076e-01, 7.20469336e-01, 1.91883726e-01,\n",
       "        8.81171420e-01, 4.21163078e-05, 2.85858202e-06, 8.81171420e-01,\n",
       "        1.27567457e-04, 6.94289745e-01, 8.73785872e-01, 8.81158127e-01,\n",
       "        8.72091421e-01, 8.81171420e-01, 8.49485580e-01, 8.16214541e-01,\n",
       "        8.81171420e-01, 5.90417807e-04, 8.65470067e-01, 1.55662885e-01,\n",
       "        2.93700179e-01, 8.39945167e-03, 8.81171420e-01, 2.75478319e-01,\n",
       "        1.28534511e-01, 8.65520727e-10, 6.78330222e-07, 5.28682734e-01,\n",
       "        8.17672349e-01, 2.37752553e-05, 5.76583679e-12, 8.81171420e-01,\n",
       "        4.62406930e-06, 8.60615041e-01, 8.50183788e-01, 8.81171420e-01,\n",
       "        6.84132470e-11, 8.81171420e-01, 8.72996751e-01, 7.81561924e-01,\n",
       "        5.56917426e-06, 8.81171420e-01, 8.48636688e-01, 8.66270533e-01,\n",
       "        8.81171420e-01, 8.24932918e-01, 7.44411847e-01, 8.76511661e-01,\n",
       "        8.81168776e-01, 1.11427477e-03, 3.87691499e-03, 2.77707124e-02,\n",
       "        6.55788559e-01, 6.57703034e-01, 8.76581311e-01, 8.81171420e-01,\n",
       "        8.81166640e-01, 3.22036534e-02, 1.28387758e-01, 8.81171420e-01,\n",
       "        7.78924282e-01, 3.95366607e-09, 8.81171420e-01, 1.06730261e-03,\n",
       "        8.73949439e-01, 1.92558881e-10, 1.56433585e-06, 8.81171420e-01,\n",
       "        2.80816661e-07, 5.62162209e-01, 8.81171420e-01, 8.81171420e-01,\n",
       "        7.34107626e-01, 1.39304336e-06, 3.09887493e-01, 8.81171420e-01,\n",
       "        6.86786015e-01, 3.19230759e-08, 2.62439296e-02, 7.82235122e-01,\n",
       "        5.92945862e-01, 8.54036149e-01, 8.81171420e-01, 8.81171420e-01,\n",
       "        7.74982653e-04, 8.81171420e-01, 8.81171420e-01, 6.15004108e-01,\n",
       "        3.07538564e-06, 8.43746147e-01, 8.79303370e-01, 7.37197993e-01,\n",
       "        8.81171420e-01, 8.76205801e-01, 8.81171420e-01, 8.74146804e-01,\n",
       "        3.02925889e-03, 8.81171420e-01, 6.18737564e-01, 5.45577213e-02,\n",
       "        2.07466781e-01, 1.48885785e-30, 8.68929636e-01, 4.68374830e-06,\n",
       "        8.80810645e-01, 8.81170394e-01, 8.81171420e-01, 8.70258391e-01,\n",
       "        2.20557047e-01, 8.81171420e-01, 8.76492398e-01, 7.69468452e-01,\n",
       "        9.67067526e-05, 8.81171420e-01, 7.69999875e-01, 8.81171420e-01,\n",
       "        4.25473063e-01, 2.05702630e-04, 8.81171420e-01, 7.18634012e-03,\n",
       "        8.81164102e-01, 1.76255500e-05, 1.32613808e-18, 8.81171420e-01,\n",
       "        5.26700038e-01, 2.17621235e-02, 5.14334825e-01, 8.81171420e-01,\n",
       "        8.81171420e-01, 2.14142868e-05, 8.70236543e-01, 9.52640558e-09,\n",
       "        6.39420863e-01, 8.81171420e-01, 8.81171420e-01, 8.81171420e-01,\n",
       "        8.81166722e-01, 8.81171420e-01, 9.42172584e-07, 1.25483439e-02,\n",
       "        1.71473012e-01, 7.62849748e-01, 1.78674141e-07, 4.82689505e-01,\n",
       "        7.11094717e-01, 6.84148210e-01, 8.63804499e-01, 8.41742820e-01,\n",
       "        9.46980063e-03, 5.64479340e-11, 5.71443931e-03, 8.81171420e-01,\n",
       "        6.00831336e-10, 3.62254937e-01, 8.81171420e-01, 7.95422093e-01,\n",
       "        3.21478076e-01, 7.49804662e-05, 4.96457957e-06, 7.13412855e-01,\n",
       "        5.73108618e-05, 8.64844997e-01, 7.59551272e-01, 7.30339877e-01,\n",
       "        1.86142013e-10, 4.53023089e-03, 8.81171420e-01, 7.03017786e-01,\n",
       "        5.53866784e-01, 2.16056691e-06, 8.81171420e-01, 8.81171420e-01,\n",
       "        7.98790771e-01, 8.11876593e-01, 8.81171420e-01, 8.81165600e-01,\n",
       "        8.13717220e-01, 6.44959863e-01, 7.65051786e-10, 7.85705448e-01,\n",
       "        1.92529227e-06, 1.14459136e-01, 8.81171420e-01, 1.37156464e-01,\n",
       "        8.81171420e-01, 8.08033717e-01, 8.75917924e-01, 8.38345563e-01,\n",
       "        3.20978529e-12, 1.86835293e-03, 8.81167356e-01, 8.21994371e-01,\n",
       "        4.66128798e-01, 2.01448190e-06, 8.81171420e-01]])"
      ]
     },
     "execution_count": 49,
     "metadata": {},
     "output_type": "execute_result"
    }
   ],
   "source": [
    "# Visualiza as previsões\n",
    "y_pred_treino"
   ]
  },
  {
   "cell_type": "code",
   "execution_count": 50,
   "metadata": {},
   "outputs": [],
   "source": [
    "# Ajustamos o shape em treino\n",
    "y_pred_treino = y_pred_treino.reshape(-1)\n",
    "y_treino = y_treino.reshape(-1)"
   ]
  },
  {
   "cell_type": "code",
   "execution_count": 51,
   "metadata": {},
   "outputs": [
    {
     "data": {
      "text/plain": [
       "array([False, False,  True,  True,  True,  True,  True,  True,  True,\n",
       "        True,  True,  True, False,  True,  True,  True,  True, False,\n",
       "       False,  True,  True,  True,  True,  True, False,  True,  True,\n",
       "        True,  True,  True, False, False,  True, False,  True, False,\n",
       "        True,  True,  True, False, False,  True, False, False,  True,\n",
       "        True,  True, False,  True,  True, False,  True,  True,  True,\n",
       "        True,  True,  True,  True,  True,  True, False,  True,  True,\n",
       "       False, False,  True,  True, False, False,  True,  True,  True,\n",
       "        True, False,  True,  True,  True, False, False,  True, False,\n",
       "        True,  True,  True, False, False,  True, False,  True, False,\n",
       "        True,  True,  True,  True,  True,  True,  True,  True, False,\n",
       "        True,  True,  True, False, False,  True,  True, False, False,\n",
       "       False, False, False, False,  True,  True,  True, False,  True,\n",
       "       False,  True,  True,  True, False,  True, False,  True, False,\n",
       "       False,  True, False,  True,  True, False, False, False,  True,\n",
       "       False,  True,  True,  True, False,  True,  True,  True, False,\n",
       "       False, False, False, False,  True,  True,  True,  True,  True,\n",
       "        True,  True,  True,  True,  True,  True,  True,  True, False,\n",
       "       False,  True,  True,  True,  True, False,  True,  True, False,\n",
       "        True, False,  True,  True, False,  True,  True, False,  True,\n",
       "        True,  True,  True, False,  True,  True,  True, False,  True,\n",
       "        True,  True,  True, False, False, False, False,  True,  True,\n",
       "        True, False, False, False,  True, False,  True,  True, False,\n",
       "        True,  True, False, False, False, False, False,  True, False,\n",
       "        True, False,  True,  True,  True,  True,  True,  True,  True,\n",
       "        True, False, False,  True,  True, False, False,  True,  True,\n",
       "        True,  True,  True,  True,  True,  True,  True,  True,  True,\n",
       "       False, False,  True,  True, False,  True,  True,  True, False,\n",
       "        True, False, False, False,  True,  True,  True,  True,  True,\n",
       "       False,  True,  True,  True, False,  True,  True, False, False,\n",
       "       False,  True, False, False, False,  True,  True,  True,  True,\n",
       "        True,  True,  True, False,  True,  True,  True, False, False,\n",
       "       False,  True,  True, False,  True, False, False,  True, False,\n",
       "        True,  True,  True,  True,  True,  True,  True,  True, False,\n",
       "        True, False, False, False,  True, False, False, False, False,\n",
       "        True,  True, False, False,  True, False,  True,  True,  True,\n",
       "       False,  True,  True,  True, False,  True,  True,  True,  True,\n",
       "        True,  True,  True,  True, False, False, False,  True,  True,\n",
       "        True,  True,  True, False, False,  True,  True, False,  True,\n",
       "       False,  True, False, False,  True, False,  True,  True,  True,\n",
       "        True, False, False,  True,  True, False, False,  True,  True,\n",
       "        True,  True,  True, False,  True,  True,  True, False,  True,\n",
       "        True,  True,  True,  True,  True,  True, False,  True,  True,\n",
       "       False, False, False,  True, False,  True,  True,  True,  True,\n",
       "       False,  True,  True,  True, False,  True,  True,  True, False,\n",
       "       False,  True, False,  True, False, False,  True,  True, False,\n",
       "        True,  True,  True, False,  True, False,  True,  True,  True,\n",
       "        True,  True,  True, False, False, False,  True, False, False,\n",
       "        True,  True,  True,  True, False, False, False,  True, False,\n",
       "       False,  True,  True, False, False, False,  True, False,  True,\n",
       "        True,  True, False, False,  True,  True,  True, False,  True,\n",
       "        True,  True,  True,  True,  True,  True,  True, False,  True,\n",
       "       False, False,  True, False,  True,  True,  True,  True, False,\n",
       "       False,  True,  True, False, False,  True])"
      ]
     },
     "execution_count": 51,
     "metadata": {},
     "output_type": "execute_result"
    }
   ],
   "source": [
    "y_pred_treino > 0.5"
   ]
  },
  {
   "cell_type": "code",
   "execution_count": 52,
   "metadata": {},
   "outputs": [],
   "source": [
    "# Convertemos as previsões para o valor binário de classe \n",
    "# (0 ou 1, usando como threshold o valor de 0.5 da probabilidade)\n",
    "y_pred_treino = 1 * (y_pred_treino > 0.5)"
   ]
  },
  {
   "cell_type": "code",
   "execution_count": 53,
   "metadata": {},
   "outputs": [
    {
     "data": {
      "text/plain": [
       "array([0, 0, 1, 1, 1, 1, 1, 1, 1, 1, 1, 1, 0, 1, 1, 1, 1, 0, 0, 1, 1, 1,\n",
       "       1, 1, 0, 1, 1, 1, 1, 1, 0, 0, 1, 0, 1, 0, 1, 1, 1, 0, 0, 1, 0, 0,\n",
       "       1, 1, 1, 0, 1, 1, 0, 1, 1, 1, 1, 1, 1, 1, 1, 1, 0, 1, 1, 0, 0, 1,\n",
       "       1, 0, 0, 1, 1, 1, 1, 0, 1, 1, 1, 0, 0, 1, 0, 1, 1, 1, 0, 0, 1, 0,\n",
       "       1, 0, 1, 1, 1, 1, 1, 1, 1, 1, 0, 1, 1, 1, 0, 0, 1, 1, 0, 0, 0, 0,\n",
       "       0, 0, 1, 1, 1, 0, 1, 0, 1, 1, 1, 0, 1, 0, 1, 0, 0, 1, 0, 1, 1, 0,\n",
       "       0, 0, 1, 0, 1, 1, 1, 0, 1, 1, 1, 0, 0, 0, 0, 0, 1, 1, 1, 1, 1, 1,\n",
       "       1, 1, 1, 1, 1, 1, 1, 0, 0, 1, 1, 1, 1, 0, 1, 1, 0, 1, 0, 1, 1, 0,\n",
       "       1, 1, 0, 1, 1, 1, 1, 0, 1, 1, 1, 0, 1, 1, 1, 1, 0, 0, 0, 0, 1, 1,\n",
       "       1, 0, 0, 0, 1, 0, 1, 1, 0, 1, 1, 0, 0, 0, 0, 0, 1, 0, 1, 0, 1, 1,\n",
       "       1, 1, 1, 1, 1, 1, 0, 0, 1, 1, 0, 0, 1, 1, 1, 1, 1, 1, 1, 1, 1, 1,\n",
       "       1, 0, 0, 1, 1, 0, 1, 1, 1, 0, 1, 0, 0, 0, 1, 1, 1, 1, 1, 0, 1, 1,\n",
       "       1, 0, 1, 1, 0, 0, 0, 1, 0, 0, 0, 1, 1, 1, 1, 1, 1, 1, 0, 1, 1, 1,\n",
       "       0, 0, 0, 1, 1, 0, 1, 0, 0, 1, 0, 1, 1, 1, 1, 1, 1, 1, 1, 0, 1, 0,\n",
       "       0, 0, 1, 0, 0, 0, 0, 1, 1, 0, 0, 1, 0, 1, 1, 1, 0, 1, 1, 1, 0, 1,\n",
       "       1, 1, 1, 1, 1, 1, 1, 0, 0, 0, 1, 1, 1, 1, 1, 0, 0, 1, 1, 0, 1, 0,\n",
       "       1, 0, 0, 1, 0, 1, 1, 1, 1, 0, 0, 1, 1, 0, 0, 1, 1, 1, 1, 1, 0, 1,\n",
       "       1, 1, 0, 1, 1, 1, 1, 1, 1, 1, 0, 1, 1, 0, 0, 0, 1, 0, 1, 1, 1, 1,\n",
       "       0, 1, 1, 1, 0, 1, 1, 1, 0, 0, 1, 0, 1, 0, 0, 1, 1, 0, 1, 1, 1, 0,\n",
       "       1, 0, 1, 1, 1, 1, 1, 1, 0, 0, 0, 1, 0, 0, 1, 1, 1, 1, 0, 0, 0, 1,\n",
       "       0, 0, 1, 1, 0, 0, 0, 1, 0, 1, 1, 1, 0, 0, 1, 1, 1, 0, 1, 1, 1, 1,\n",
       "       1, 1, 1, 1, 0, 1, 0, 0, 1, 0, 1, 1, 1, 1, 0, 0, 1, 1, 0, 0, 1])"
      ]
     },
     "execution_count": 53,
     "metadata": {},
     "output_type": "execute_result"
    }
   ],
   "source": [
    "y_pred_treino"
   ]
  },
  {
   "cell_type": "code",
   "execution_count": 54,
   "metadata": {},
   "outputs": [],
   "source": [
    "# Calculamos a acurácia comparando valor real com valor previsto\n",
    "acc_treino = sum(1 * (y_pred_treino == y_treino)) / len(y_pred_treino) * 100"
   ]
  },
  {
   "cell_type": "code",
   "execution_count": 55,
   "metadata": {},
   "outputs": [
    {
     "name": "stdout",
     "output_type": "stream",
     "text": [
      "Acurácia nos dados de treino: 92.13250517598344\n"
     ]
    }
   ],
   "source": [
    "print(\"Acurácia nos dados de treino: \" + str(acc_treino))"
   ]
  },
  {
   "cell_type": "code",
   "execution_count": 56,
   "metadata": {},
   "outputs": [
    {
     "name": "stdout",
     "output_type": "stream",
     "text": [
      "              precision    recall  f1-score   support\n",
      "\n",
      "     Maligno       0.91      0.88      0.89       182\n",
      "     Benigno       0.93      0.95      0.94       301\n",
      "\n",
      "    accuracy                           0.92       483\n",
      "   macro avg       0.92      0.91      0.92       483\n",
      "weighted avg       0.92      0.92      0.92       483\n",
      "\n"
     ]
    }
   ],
   "source": [
    "print(classification_report(y_treino, y_pred_treino, target_names = ['Maligno', 'Benigno']))"
   ]
  },
  {
   "cell_type": "code",
   "execution_count": 57,
   "metadata": {},
   "outputs": [],
   "source": [
    "# Previsões com o modelo usando dados de teste\n",
    "y_pred_teste = predict(X_teste, parametros)"
   ]
  },
  {
   "cell_type": "code",
   "execution_count": 58,
   "metadata": {},
   "outputs": [
    {
     "data": {
      "text/plain": [
       "array([[8.77596783e-01, 7.75351173e-03, 1.32535131e-02, 8.43658255e-01,\n",
       "        4.23220304e-15, 8.81171420e-01, 8.72869058e-01, 8.81160707e-01,\n",
       "        7.15122762e-01, 2.45076394e-09, 5.15298469e-01, 7.15798004e-06,\n",
       "        8.81171420e-01, 7.57840818e-01, 2.43048169e-01, 8.81145361e-01,\n",
       "        8.55951233e-01, 7.46693779e-01, 8.18950832e-01, 1.45358840e-07,\n",
       "        8.68635859e-01, 1.01571666e-05, 8.81171420e-01, 8.81171420e-01,\n",
       "        3.08169804e-04, 1.51468758e-06, 8.81171420e-01, 4.74390057e-06,\n",
       "        9.79983346e-05, 8.76615947e-01, 8.81171420e-01, 8.81171420e-01,\n",
       "        8.76592166e-01, 1.09204855e-06, 5.47138108e-01, 5.46076489e-02,\n",
       "        8.81171420e-01, 8.64598595e-01, 1.12777170e-06, 2.34023890e-03,\n",
       "        1.57435778e-01, 1.07912059e-01, 5.93716538e-03, 7.72570828e-01,\n",
       "        8.81170427e-01, 3.29680774e-05, 8.81171420e-01, 8.80863099e-01,\n",
       "        7.77553835e-01, 8.81171420e-01, 8.81162149e-01, 8.55529089e-01,\n",
       "        8.81100064e-01, 1.78890057e-04, 8.81171420e-01, 2.59750318e-05,\n",
       "        7.69081619e-01, 1.67821565e-05, 8.42854572e-01, 8.81171420e-01,\n",
       "        6.85384196e-01, 7.68542280e-01, 8.81171420e-01, 8.28089380e-01,\n",
       "        7.80812357e-01, 8.70657840e-01, 8.75647514e-01, 4.32853794e-05,\n",
       "        8.81171420e-01, 8.04761771e-01, 7.91959931e-01, 1.09033444e-02,\n",
       "        7.38103442e-04, 5.20141469e-02, 8.81171420e-01, 6.89273517e-01,\n",
       "        4.29132282e-05, 6.11203382e-05, 8.36589777e-01, 8.16793931e-01,\n",
       "        3.19140001e-01, 3.85423854e-03, 6.89064956e-01, 4.29548119e-01,\n",
       "        2.74180783e-02, 8.36875612e-01]])"
      ]
     },
     "execution_count": 58,
     "metadata": {},
     "output_type": "execute_result"
    }
   ],
   "source": [
    "# Visualiza os dados\n",
    "y_pred_teste"
   ]
  },
  {
   "cell_type": "code",
   "execution_count": 59,
   "metadata": {},
   "outputs": [],
   "source": [
    "# Ajustamos os shapes\n",
    "y_pred_teste = y_pred_teste.reshape(-1)\n",
    "y_teste = y_teste.reshape(-1)"
   ]
  },
  {
   "cell_type": "code",
   "execution_count": 60,
   "metadata": {},
   "outputs": [],
   "source": [
    "# Convertemos as previsões para o valor binário de classe\n",
    "y_pred_teste = 1 * (y_pred_teste > 0.5)"
   ]
  },
  {
   "cell_type": "code",
   "execution_count": 61,
   "metadata": {},
   "outputs": [
    {
     "data": {
      "text/plain": [
       "array([1, 0, 0, 1, 0, 1, 1, 1, 1, 0, 1, 0, 1, 1, 0, 1, 1, 1, 1, 0, 1, 0,\n",
       "       1, 1, 0, 0, 1, 0, 0, 1, 1, 1, 1, 0, 1, 0, 1, 1, 0, 0, 0, 0, 0, 1,\n",
       "       1, 0, 1, 1, 1, 1, 1, 1, 1, 0, 1, 0, 1, 0, 1, 1, 1, 1, 1, 1, 1, 1,\n",
       "       1, 0, 1, 1, 1, 0, 0, 0, 1, 1, 0, 0, 1, 1, 0, 0, 1, 0, 0, 1])"
      ]
     },
     "execution_count": 61,
     "metadata": {},
     "output_type": "execute_result"
    }
   ],
   "source": [
    "# Visualizamos as previsões\n",
    "y_pred_teste"
   ]
  },
  {
   "cell_type": "code",
   "execution_count": 62,
   "metadata": {},
   "outputs": [],
   "source": [
    "# Calculamos a acurácia\n",
    "acuracia = sum(1 * (y_pred_teste == y_teste)) / len(y_pred_teste) * 100"
   ]
  },
  {
   "cell_type": "code",
   "execution_count": 63,
   "metadata": {},
   "outputs": [
    {
     "name": "stdout",
     "output_type": "stream",
     "text": [
      "Acurácia nos dados de teste: 91.86046511627907\n"
     ]
    }
   ],
   "source": [
    "print(\"Acurácia nos dados de teste: \" + str(acuracia))"
   ]
  },
  {
   "cell_type": "code",
   "execution_count": 64,
   "metadata": {},
   "outputs": [
    {
     "name": "stdout",
     "output_type": "stream",
     "text": [
      "              precision    recall  f1-score   support\n",
      "\n",
      "     Maligno       0.85      0.93      0.89        30\n",
      "     Benigno       0.96      0.91      0.94        56\n",
      "\n",
      "    accuracy                           0.92        86\n",
      "   macro avg       0.91      0.92      0.91        86\n",
      "weighted avg       0.92      0.92      0.92        86\n",
      "\n"
     ]
    }
   ],
   "source": [
    "print(classification_report(y_teste, y_pred_teste, target_names = ['Maligno', 'Benigno']))"
   ]
  },
  {
   "cell_type": "markdown",
   "metadata": {},
   "source": [
    "## Conclusão\n",
    "\n",
    "Neste notebook, implementamos uma rede neural do zero utilizando apenas operações matemáticas e a biblioteca NumPy. Passamos por todas as etapas fundamentais do funcionamento de uma rede neural, incluindo a inicialização dos pesos, forward propagation, cálculo da função de perda, backpropagation e atualização dos pesos com gradiente descendente.\n",
    "\n",
    "Ao construir a rede manualmente, conseguimos visualizar como cada etapa contribui para o aprendizado do modelo, oferecendo uma compreensão mais profunda do que acontece por trás dos frameworks populares como TensorFlow e PyTorch.\n",
    "\n",
    "### Próximos Passos\n",
    "Se quiser expandir este projeto, aqui estão algumas sugestões:\n",
    "\n",
    "- Implementar outras funções de ativação, como Tanh ou Leaky ReLU.\n",
    "- Testar diferentes funções de perda para problemas específicos.\n",
    "- Adicionar suporte para múltiplas camadas ocultas e diferentes quantidades de neurônios.\n",
    "- Explorar técnicas de otimização mais avançadas, como Adam ou RMSprop.\n",
    "\n",
    "Essa abordagem didática permite uma base sólida para quem deseja avançar no estudo de redes neurais e machine learning.\n"
   ]
  },
  {
   "cell_type": "markdown",
   "metadata": {},
   "source": [
    "# Fim"
   ]
  }
 ],
 "metadata": {
  "kernelspec": {
   "display_name": "Python 3",
   "language": "python",
   "name": "python3"
  },
  "language_info": {
   "codemirror_mode": {
    "name": "ipython",
    "version": 3
   },
   "file_extension": ".py",
   "mimetype": "text/x-python",
   "name": "python",
   "nbconvert_exporter": "python",
   "pygments_lexer": "ipython3",
   "version": "3.13.2"
  }
 },
 "nbformat": 4,
 "nbformat_minor": 4
}
