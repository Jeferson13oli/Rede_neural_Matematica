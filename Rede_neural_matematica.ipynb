{
 "cells": [
  {
   "cell_type": "markdown",
   "metadata": {},
   "source": [
    "# <font color='blue'>Machine Learning</font>\n",
    "\n",
    "# <font color='blue'>Rede Neurais Artificiais</font>"
   ]
  },
  {
   "cell_type": "code",
   "execution_count": 1,
   "metadata": {},
   "outputs": [
    {
     "name": "stdout",
     "output_type": "stream",
     "text": [
      "Versão da Linguagem Python Usada Neste Jupyter Notebook: 3.9.13\n"
     ]
    }
   ],
   "source": [
    "# Versão da Linguagem Python\n",
    "from platform import python_version\n",
    "print('Versão da Linguagem Python Usada Neste Jupyter Notebook:', python_version())"
   ]
  },
  {
   "cell_type": "markdown",
   "metadata": {},
   "source": [
    "## A Matemática das Redes Neurais Artificiais\n",
    "\n",
    "Este notebook tem como objetivo demonstrar a implementação de uma rede neural do zero, utilizando apenas conceitos matemáticos e a biblioteca NumPy. \n",
    "\n",
    "O foco está em entender os fundamentos de redes neurais sem depender de frameworks avançados como TensorFlow ou PyTorch.\n",
    "\n",
    "Vamos percorrer desde a inicialização dos pesos até o treinamento e avaliação da rede. Ao final, você terá uma compreensão clara dos cálculos internos de uma rede neural.\n",
    "\n",
    "### Construindo a Rede Neural com Programação e Matemática"
   ]
  },
  {
   "cell_type": "markdown",
   "metadata": {},
   "source": [
    "Teremos 2 Partes:\n",
    "\n",
    "- Parte 1 - Vamos construir uma rede neural artificial somente com operações matemáticas\n",
    "- Parte 2 - Vamos treinar a rede para Prever a Ocorrência de Câncer"
   ]
  },
  {
   "cell_type": "markdown",
   "metadata": {},
   "source": [
    "## A Arquitetura de Redes Neurais Artificiais"
   ]
  },
  {
   "cell_type": "markdown",
   "metadata": {},
   "source": [
    "Uma rede neural típica é constituída por um conjunto de neurônios interligados, infuenciando uns aos outros formando um sistema maior, capaz de armazenar conhecimento adquirido por meio de exemplos apresentados e, assim, podendo realizar inferências sobre novos conjuntos de dados. Vejamos a arquitetura de redes neurais artificiais.\n",
    "\n",
    "As redes neurais são comumente apresentadas como um grafo orientado, onde os vértices são os neurônios e as arestas as sinapses. A direção das arestas informa o tipo de alimentação, ou seja, como os neurônios são alimentados (recebem sinais de entrada). As redes neurais derivam seu poder devido a sua estrutura massiva e paralela e a habilidade de aprender por experiência. Essa experiência é transmitida por meio de exemplos obtidos do mundo real, definidos como um conjunto de características formados por dados de entrada e de saída. Se apresentamos esses dados de entrada e saída à rede, estamos diante de aprendizagem supervsionada e caso apresentemos apenas os dados de entrada, estamos diante de aprendizagem não supervisionada!\n",
    "\n",
    "O conhecimento obtido pela rede através dos exemplos é armazenado na forma de pesos das conexões, os quais serão ajustados a fim de tomar decisões corretas a partir de novas entradas, ou seja, novas situações do mundo real não conhecidas pela rede. O processo de ajuste dos pesos sinapticos é realizado pelo algoritmo de aprendizagem, responsável em armazenar na rede o conhecimento do mundo real obtido atraves de exemplos. Existem vários algoritmos de aprendizagem, dentre eles o backpropagation que é o algoritmo mais utilizado.\n",
    "\n",
    "![title](imagens/nnet.png)"
   ]
  },
  {
   "cell_type": "markdown",
   "metadata": {},
   "source": [
    "### Importando os Pacotes"
   ]
  },
  {
   "cell_type": "code",
   "execution_count": 2,
   "metadata": {},
   "outputs": [],
   "source": [
    "# Por enquanto precisaremos somente do NumPy\n",
    "import numpy as np"
   ]
  },
  {
   "cell_type": "code",
   "execution_count": 3,
   "metadata": {},
   "outputs": [
    {
     "name": "stdout",
     "output_type": "stream",
     "text": [
      "Author: Jeferson Oliveira\n",
      "\n",
      "numpy: 1.26.4\n",
      "\n"
     ]
    }
   ],
   "source": [
    "# Versões dos pacotes usados neste jupyter notebook\n",
    "%reload_ext watermark\n",
    "%watermark -a \"Jeferson Oliveira\" --iversions"
   ]
  },
  {
   "cell_type": "markdown",
   "metadata": {},
   "source": [
    "### Parte 1 - Implementando Uma Rede Neural Artificial Somente com Fórmulas Matemáticas (Sem Frameworks)"
   ]
  },
  {
   "cell_type": "markdown",
   "metadata": {},
   "source": [
    "Faça a leitura do manual em pdf no próximo item de aprendizagem: Parâmetros x Hiperparâmetros.\n",
    "\n",
    "O material esta em ingles, mas é um material rapido sobre a matematica envolvida no algoritmo de rede neural\n",
    "\n",
    "https://arxiv.org/pdf/1905.07490.pdf"
   ]
  },
  {
   "cell_type": "markdown",
   "metadata": {},
   "source": [
    "### Parte 1A - Forward Propagation"
   ]
  },
  {
   "cell_type": "markdown",
   "metadata": {},
   "source": [
    "![title](imagens/nn.png)"
   ]
  },
  {
   "cell_type": "markdown",
   "metadata": {},
   "source": [
    "### Desenvolvendo a Função Para Inicialização de Pesos"
   ]
  },
  {
   "cell_type": "markdown",
   "metadata": {},
   "source": [
    "Para que a rede neural aprenda padrões nos dados, precisamos inicializar os pesos de maneira aleatória e atribuir valores aos bias. \n",
    "\n",
    "Isso evita que todos os neurônios comecem com os mesmos valores e garante que o aprendizado ocorra de forma eficaz.\n",
    "\n",
    "Utilizaremos uma distribuição normal para os pesos, pois isso ajuda na estabilidade do treinamento."
   ]
  },
  {
   "cell_type": "code",
   "execution_count": 4,
   "metadata": {},
   "outputs": [],
   "source": [
    "# Função para inicialização randômica dos parâmetros do modelo\n",
    "def inicializa_parametros(dims_camada_entrada):\n",
    "    \n",
    "    # Dicionário para os parâmetros\n",
    "    parameters = {}\n",
    "    \n",
    "    # Comprimento das dimensões das camadas\n",
    "    comp = len(dims_camada_entrada)\n",
    "    \n",
    "    # Loop pelo comprimento\n",
    "    for i in range(1, comp):\n",
    "        \n",
    "        # Inicialização da matriz de pesos\n",
    "        parameters[\"W\" + str(i)] = np.random.randn(dims_camada_entrada[i], dims_camada_entrada[i - 1]) * 0.01\n",
    "        \n",
    "        # Inicialização do bias\n",
    "        parameters[\"b\" + str(i)] = np.zeros((dims_camada_entrada[i], 1))\n",
    "    \n",
    "    return parameters"
   ]
  },
  {
   "cell_type": "markdown",
   "metadata": {},
   "source": [
    "### Desenvolvendo a Função Sigmóide\n",
    "\n",
    "A principal razão pela qual usamos a função sigmóide é porque ela permite converter números para valores entre 0 e 1. \n",
    "\n",
    "Portanto, é especialmente usada para modelos em que temos que prever a probabilidade como uma saída. Como a probabilidade de qualquer coisa existir apenas entre o intervalo de 0 e 1, sigmoide é a escolha certa. Algumas caracterísiticas da função sigmóide:\n",
    "\n",
    "- A função é diferenciável. Isso significa que podemos encontrar a inclinação da curva sigmóide em dois pontos.\n",
    "- A função sigmóide logística pode fazer com que uma rede neural fique presa no momento do treinamento.\n",
    "- A função softmax é uma função de ativação logística mais generalizada, utilizada para a classificação em várias classes."
   ]
  },
  {
   "cell_type": "markdown",
   "metadata": {},
   "source": [
    "![title](imagens/sigmoid.png)"
   ]
  },
  {
   "cell_type": "markdown",
   "metadata": {},
   "source": [
    "Se a função parecer muito abstrata ou estranha para você, não se preocupe muito com detalhes como o número de Euler e ou como alguém criou essa função. Para aqueles que não são conhecedores de matemática, a única coisa importante sobre a função sigmóide é primeiro, sua curva e, segundo, sua derivada. Aqui estão mais alguns detalhes:\n",
    "\n",
    "- **A função sigmóide produz resultados semelhantes aos da função de passo (Step Function) em que a saída está entre 0 e 1. A curva cruza 0,5 a z = 0, e podemos definir regras para a função de ativação, como: Se a saída do neurônio sigmóide for maior que ou igual a 0,5, gera 1; se a saída for menor que 0,5, gera 0.**\n",
    "\n",
    "\n",
    "- A função sigmóide é suave e possui uma derivada simples de σ(z) * (1 - σ (z)), que é diferenciável em qualquer lugar da curva. \n",
    "\n",
    "\n",
    "- Se z for muito negativo, a saída será aproximadamente 0; se z for muito positivo, a saída é aproximadamente 1; mas em torno de z = 0, onde z não é muito grande nem muito pequeno, temos um desvio relativamente maior à medida que z muda."
   ]
  },
  {
   "cell_type": "markdown",
   "metadata": {},
   "source": [
    "**Afinal, O Que é Derivada?**\n",
    "\n",
    "![title](imagens/derivada.png)"
   ]
  },
  {
   "cell_type": "markdown",
   "metadata": {},
   "source": [
    "No Cálculo, a derivada em um ponto de uma função y = f(x) representa a taxa de variação instantânea de y em relação a x neste ponto. \n",
    "\n",
    "Um exemplo típico é a função velocidade que representa a taxa de variação (derivada) da função espaço. Do mesmo modo, a função aceleração é a derivada da função velocidade. Geometricamente, a derivada no ponto x = a de y = f(x) representa a inclinação da reta tangente ao gráfico desta função no ponto (a, f(a)).\n",
    "\n",
    "A função que a cada ponto x associa a derivada neste ponto de f(x) é chamada de função derivada de f(x)."
   ]
  },
  {
   "cell_type": "markdown",
   "metadata": {},
   "source": [
    "![title](imagens/derivada.gif)"
   ]
  },
  {
   "cell_type": "markdown",
   "metadata": {},
   "source": [
    "Em cada ponto, a derivada de f(x) é a tangente do ângulo que a reta tangente à curva faz em relação ao eixo das abscissas. A reta é sempre tangente à curva azul; a tangente do ângulo que ela faz com o eixo das abscissas é a derivada. Note-se que a derivada é positiva quando verde, negativa quando vermelha, e zero quando preta.\n",
    "\n",
    "A derivada de uma função y = f(x) num ponto x = x0, é igual ao valor da tangente trigonométrica do ângulo formado pela tangente geométrica à curva representativa de y=f(x), no ponto x = x0, ou seja, a derivada é o coeficiente angular da reta tangente ao gráfico da função no ponto x0.\n",
    "\n",
    "A função derivada é representada por f'(x)."
   ]
  },
  {
   "cell_type": "code",
   "execution_count": 5,
   "metadata": {},
   "outputs": [],
   "source": [
    "# Função sigmóide\n",
    "def sigmoid(Z):\n",
    "    A = 1 / (1 + np.exp(-Z))\n",
    "    return A, Z"
   ]
  },
  {
   "cell_type": "markdown",
   "metadata": {},
   "source": [
    "### Desenvolvendo a Função ReLU\n",
    "\n",
    "Para usar a descida de gradiente estocástico com retropropagação de erros para treinar redes neurais profundas, é necessária uma função de ativação que se assemelhe e atue como uma função linear, mas é, de fato, uma função não linear que permite que relacionamentos complexos nos dados sejam aprendidos.\n",
    "\n",
    "A solução é usar a função de ativação linear retificada ou ReL para abreviar. Um nó ou unidade que implementa essa função de ativação é chamado de unidade de ativação linear retificada ou ReLU, para abreviar. Frequentemente, as redes que usam a função retificadora para as camadas ocultas são chamadas de redes retificadas.\n",
    "\n",
    "A função ReLU é definida como 𝑓(𝑥) = max (0, 𝑥). Normalmente, ela é aplicada elemento a elemento à saída de alguma outra função, como um produto de vetor e matriz. \n",
    "\n",
    "A adoção da ReLU pode ser facilmente considerada um dos marcos na revolução do aprendizado profundo, por ex. as técnicas que agora permitem o desenvolvimento rotineiro de redes neurais muito profundas.\n",
    "\n",
    "A derivada da função linear retificada também é fácil de calcular. **A derivada da função de ativação é necessária ao atualizar os pesos de um nó como parte da retropropagação de erro.**\n",
    "\n",
    "A derivada da função é a inclinação. A inclinação para valores negativos é 0,0 e a inclinação para valores positivos é 1,0.\n",
    "\n",
    "Tradicionalmente, o campo das redes neurais evitou qualquer função de ativação que não fosse completamente diferenciável, talvez adiando a adoção da função linear retificada e de outras funções lineares. Tecnicamente, não podemos calcular a derivada quando a entrada é 0,0; portanto, podemos assumir que é zero. Este não é um problema na prática.\n",
    "\n",
    "Os gradientes das ativações tangentes e hiperbólicas são menores que a porção positiva da ReLU. Isso significa que a parte positiva é atualizada mais rapidamente à medida que o treinamento avança. No entanto, isso tem um custo. O gradiente 0 no lado esquerdo tem seu próprio problema, chamado \"neurônios mortos\", no qual uma atualização de gradiente define os valores recebidos para uma ReLU, de modo que a saída é sempre zero; unidades ReLU modificadas, como ELU (ou Leaky ReLU, ou PReLU, etc.) podem melhorar isso."
   ]
  },
  {
   "cell_type": "markdown",
   "metadata": {},
   "source": [
    "![title](imagens/relu.png)"
   ]
  },
  {
   "cell_type": "code",
   "execution_count": 6,
   "metadata": {},
   "outputs": [],
   "source": [
    "# Função de ativação ReLu (Rectified Linear Unit)\n",
    "def relu(Z):\n",
    "    A = abs(Z * (Z > 0))\n",
    "    return A, Z"
   ]
  },
  {
   "cell_type": "markdown",
   "metadata": {},
   "source": [
    "![title](imagens/net-relu.png)"
   ]
  },
  {
   "cell_type": "markdown",
   "metadata": {},
   "source": [
    "### Desenvolvendo a Ativação Linear"
   ]
  },
  {
   "cell_type": "code",
   "execution_count": 7,
   "metadata": {},
   "outputs": [],
   "source": [
    "# Operação de ativação\n",
    "# A é a matriz com os dados de entrada\n",
    "# W é a matriz de pesos\n",
    "# b é o bias\n",
    "def linear_activation(A, W, b):\n",
    "    Z = np.dot(W, A) + b\n",
    "    cache = (A, W, b)\n",
    "    return Z, cache"
   ]
  },
  {
   "cell_type": "markdown",
   "metadata": {},
   "source": [
    "### Construindo o Processo de Forward Propagation"
   ]
  },
  {
   "cell_type": "markdown",
   "metadata": {},
   "source": [
    "No forward propagation, os dados percorrem a rede desde a entrada até a saída final. Esse processo envolve o cálculo de ativações para cada camada oculta utilizando uma função de ativação. \n",
    "\n",
    "Aqui utilizaremos a função Sigmoid (ou ReLU, dependendo do caso), pois elas ajudam a modelar relações não lineares entre os dados."
   ]
  },
  {
   "cell_type": "code",
   "execution_count": 8,
   "metadata": {},
   "outputs": [],
   "source": [
    "# Movimento para frente (forward)\n",
    "def forward(A_prev, W, b, activation):\n",
    "    \n",
    "    # Se a função de ativação for Sigmoid, entramos neste bloco\n",
    "    if activation == \"sigmoid\":\n",
    "        Z, linear_cache = linear_activation(A_prev, W, b)\n",
    "        A, activation_cache = sigmoid(Z)\n",
    "        \n",
    "    # Se não, se for ReLu, entramos neste bloco    \n",
    "    elif activation == \"relu\":\n",
    "        Z, linear_cache = linear_activation(A_prev, W, b)\n",
    "        A, activation_cache = relu(Z)\n",
    "        \n",
    "    cache = (linear_cache, activation_cache)\n",
    "    \n",
    "    return A, cache"
   ]
  },
  {
   "cell_type": "markdown",
   "metadata": {},
   "source": [
    "### Combinando Ativação e Propagação"
   ]
  },
  {
   "cell_type": "code",
   "execution_count": 9,
   "metadata": {},
   "outputs": [],
   "source": [
    "# Propagação para frente\n",
    "def forward_propagation(X, parameters):\n",
    "    \n",
    "    # Lista de valores anteriores (cache)\n",
    "    caches = []\n",
    "    \n",
    "    # Dados de entrada\n",
    "    A = X\n",
    "    \n",
    "    # Comprimento dos parâmetros\n",
    "    L = len(parameters) // 2\n",
    "   \n",
    "    # Loop\n",
    "    for i in range(1, L):\n",
    "      \n",
    "        # Guarda o valor prévio de A\n",
    "        A_prev = A\n",
    "        \n",
    "        # Executa o forward\n",
    "        A, cache = forward(A_prev, parameters[\"W\" + str(i)], parameters[\"b\" + str(i)], activation = \"relu\")\n",
    "        \n",
    "        # Grava o cache\n",
    "        caches.append(cache)\n",
    "    \n",
    "    # Saída na última camada\n",
    "    A_last, cache = forward(A, parameters[\"W\" + str(L)], parameters[\"b\" + str(L)], activation = \"sigmoid\")\n",
    "    \n",
    "    # Grava o cache\n",
    "    caches.append(cache)\n",
    "    \n",
    "    return(A_last, caches)"
   ]
  },
  {
   "cell_type": "markdown",
   "metadata": {},
   "source": [
    "### Desenvolvendo a Função de Custo"
   ]
  },
  {
   "cell_type": "markdown",
   "metadata": {},
   "source": [
    "![title](imagens/custo.png)"
   ]
  },
  {
   "cell_type": "code",
   "execution_count": 10,
   "metadata": {},
   "outputs": [],
   "source": [
    "# Função de custo (ou função de erro)\n",
    "def calcula_custo(A_last, Y):\n",
    "    \n",
    "    # Ajusta o shape de Y para obter seu comprimento (total de elementos)\n",
    "    m = Y.shape[1]\n",
    "    \n",
    "    # Calcula o custo comparando valor real e previso\n",
    "    custo = (-1 / m) * np.sum((Y * np.log(A_last)) + ((1 - Y) * np.log(1 - A_last)))\n",
    "    \n",
    "    # Ajusta o shape do custo\n",
    "    custo = np.squeeze(custo)\n",
    "    \n",
    "    return(custo)"
   ]
  },
  {
   "cell_type": "markdown",
   "metadata": {},
   "source": [
    "### Parte 1B - Backward Propagation"
   ]
  },
  {
   "cell_type": "markdown",
   "metadata": {},
   "source": [
    "O backpropagation é o coração do aprendizado da rede neural. Ele calcula o gradiente da função de perda em relação aos pesos e os ajusta utilizando o método do gradiente descendente. \n",
    "\n",
    "Esse processo garante que a rede aprenda padrões a cada iteração, reduzindo gradativamente o erro."
   ]
  },
  {
   "cell_type": "markdown",
   "metadata": {},
   "source": [
    "![title](imagens/backpropagation.png)"
   ]
  },
  {
   "cell_type": "markdown",
   "metadata": {},
   "source": [
    "### Desenvolvendo o Backward Propagation - Função Sigmóide Backward"
   ]
  },
  {
   "cell_type": "code",
   "execution_count": 11,
   "metadata": {},
   "outputs": [],
   "source": [
    "# Função sigmoid para o backpropagation \n",
    "# Fazemos o cálculo da derivada pois não queremos o valor completo da função, mas sim sua variação\n",
    "def sigmoid_backward(da, Z):\n",
    "    \n",
    "    # Calculamos a derivada de Z\n",
    "    dg = (1 / (1 + np.exp(-Z))) * (1 - (1 / (1 + np.exp(-Z))))\n",
    "    \n",
    "    # Encontramos a mudança na derivada de z\n",
    "    dz = da * dg\n",
    "    return dz\n",
    "\n",
    "# Compare com a função sigmoid do forward propagation\n",
    "# A = 1 / (1 + np.exp(-Z))"
   ]
  },
  {
   "cell_type": "markdown",
   "metadata": {},
   "source": [
    "### Desenvolvendo o Backward Propagation - Função ReLu Backward"
   ]
  },
  {
   "cell_type": "code",
   "execution_count": 12,
   "metadata": {},
   "outputs": [],
   "source": [
    "# Função relu para o backpropagation \n",
    "# Fazemos o cálculo da derivada pois não queremos o valor completo da função, mas sim sua variação\n",
    "def relu_backward(da, Z):\n",
    "    \n",
    "    dg = 1 * ( Z >= 0)\n",
    "    dz = da * dg\n",
    "    return dz\n",
    "\n",
    "# Compare com a função relu do forward propagation:\n",
    "# A = abs(Z * (Z > 0))"
   ]
  },
  {
   "cell_type": "markdown",
   "metadata": {},
   "source": [
    "### Desenvolvendo o Backward Propagation - Ativação Linear Backward"
   ]
  },
  {
   "cell_type": "code",
   "execution_count": 13,
   "metadata": {},
   "outputs": [],
   "source": [
    "# Ativação linear para o backpropagation\n",
    "def linear_backward_function(dz, cache):\n",
    "    \n",
    "    # Recebe os valores do cache (memória)\n",
    "    A_prev, W, b = cache\n",
    "    \n",
    "    # Shape de m\n",
    "    m = A_prev.shape[1]\n",
    "    \n",
    "    # Calcula a derivada de W (resultado da operação com dz)\n",
    "    dW = (1 / m) * np.dot(dz, A_prev.T)\n",
    "    \n",
    "    # Calcula a derivada de b (resultado da operação com dz)\n",
    "    db = (1 / m) * np.sum(dz, axis = 1, keepdims = True)\n",
    "    \n",
    "    # Calcula a derivada da operação\n",
    "    dA_prev = np.dot(W.T, dz)\n",
    "    \n",
    "    return dA_prev, dW, db"
   ]
  },
  {
   "cell_type": "markdown",
   "metadata": {},
   "source": [
    "### Desenvolvendo o Backward Propagation - Ativação Linear Backward"
   ]
  },
  {
   "cell_type": "code",
   "execution_count": 14,
   "metadata": {},
   "outputs": [],
   "source": [
    "# Função que define o tipo de ativação (relu ou sigmoid)\n",
    "def linear_activation_backward(dA, cache, activation):\n",
    "    \n",
    "    # Extrai o cache\n",
    "    linear_cache, activation_cache = cache\n",
    "    \n",
    "    # Verifica se a ativação é relu\n",
    "    if activation == \"relu\":\n",
    "        dZ = relu_backward(dA, activation_cache)\n",
    "        dA_prev, dW, db = linear_backward_function(dZ, linear_cache)\n",
    "        \n",
    "    # Verifica se a ativação é sigmoid\n",
    "    if activation == \"sigmoid\":\n",
    "        dZ = sigmoid_backward(dA, activation_cache)\n",
    "        dA_prev, dW, db = linear_backward_function(dZ, linear_cache)\n",
    "        \n",
    "    return dA_prev, dW, db"
   ]
  },
  {
   "cell_type": "markdown",
   "metadata": {},
   "source": [
    "### Combinando Ativação e Retropropagação - Algoritmo Backpropagation"
   ]
  },
  {
   "cell_type": "code",
   "execution_count": 15,
   "metadata": {},
   "outputs": [],
   "source": [
    "# Algoritmo Backpropagation (calcula os gradientes para atualização dos pesos)\n",
    "# AL = Valor previsto no Forward\n",
    "# Y = Valor real\n",
    "def backward_propagation(AL, Y, caches):\n",
    "    \n",
    "    # Dicionário para os gradientes\n",
    "    grads = {}\n",
    "    \n",
    "    # Comprimento dos dados (que estão no cache)\n",
    "    L = len(caches)\n",
    "    \n",
    "    # Extrai o comprimento para o valor de m\n",
    "    m = AL.shape[1]\n",
    "    \n",
    "    # Ajusta o shape de Y\n",
    "    Y = Y.reshape(AL.shape)\n",
    "    \n",
    "    # Calcula a derivada da previsão final da rede (feita ao final do Forward Propagation)\n",
    "    dAL = -((Y / AL) - ((1 - Y) / (1 - AL)))\n",
    "    \n",
    "    # Captura o valor corrente do cache\n",
    "    current_cache = caches[L - 1]\n",
    "    \n",
    "    # Gera a lista de gradiente para os dados, os pesos e o bias\n",
    "    # Fazemos isso uma vez, pois estamos na parte final da rede, iniciando o caminho de volta\n",
    "    grads[\"dA\" + str(L - 1)], grads[\"dW\" + str(L)], grads[\"db\" + str(L)] = linear_activation_backward(dAL, current_cache, activation = \"sigmoid\")\n",
    "    \n",
    "    # Loop para calcular a derivada durante as ativações lineares com a relu\n",
    "    for l in reversed(range(L - 1)):\n",
    "        \n",
    "        # Cache atual\n",
    "        current_cache = caches[l]\n",
    "        \n",
    "        # Calcula as derivadas\n",
    "        dA_prev, dW, db = linear_activation_backward(grads[\"dA\" + str(l + 1)], current_cache, activation = \"relu\")\n",
    "        \n",
    "        # Alimenta os gradientes na lista, usando o índice respectivo\n",
    "        grads[\"dA\" + str(l)] = dA_prev\n",
    "        grads[\"dW\" + str(l + 1)] = dW\n",
    "        grads[\"db\" + str(l + 1)] = db\n",
    "        \n",
    "    return grads"
   ]
  },
  {
   "cell_type": "markdown",
   "metadata": {},
   "source": [
    "### Gradientes e Atualização dos Pesos"
   ]
  },
  {
   "cell_type": "code",
   "execution_count": 16,
   "metadata": {},
   "outputs": [],
   "source": [
    "# Função de atualização de pesos\n",
    "def atualiza_pesos(parameters, grads, learning_rate):\n",
    "    \n",
    "    # Comprimento da estrutura de dados com os parâmetros (pesos e bias)\n",
    "    L = len(parameters)//2\n",
    "    \n",
    "    # Loop para atualização dos pesos\n",
    "    for l in range(L):\n",
    "        \n",
    "        # Atualização dos pesos\n",
    "        parameters[\"W\" + str(l + 1)] = parameters[\"W\" + str(l + 1)] - (learning_rate * grads[\"dW\" + str(l + 1)])\n",
    "        \n",
    "        # Atualização do bias\n",
    "        parameters[\"b\" + str(l + 1)] = parameters[\"b\" + str(l + 1)] - (learning_rate * grads[\"db\" + str(l + 1)])\n",
    "    \n",
    "    return parameters"
   ]
  },
  {
   "cell_type": "markdown",
   "metadata": {},
   "source": [
    "### Implementando a Rede Completa"
   ]
  },
  {
   "cell_type": "code",
   "execution_count": 17,
   "metadata": {},
   "outputs": [],
   "source": [
    "# Modelo completo da rede neural\n",
    "def modeloNN(X, Y, dims_camada_entrada, learning_rate = 0.0075, num_iterations = 100):\n",
    "    \n",
    "    # Lista para receber o custo a cada época de treinamento\n",
    "    custos = []\n",
    "    \n",
    "    # Inicializa os parâmetros\n",
    "    parametros = inicializa_parametros(dims_camada_entrada)\n",
    "    \n",
    "    # Loop pelo número de iterações (épocas)\n",
    "    for i in range(num_iterations):\n",
    "        \n",
    "        # Forward Propagation\n",
    "        AL, caches = forward_propagation(X, parametros)\n",
    "        \n",
    "        # Calcula o custo\n",
    "        custo = calcula_custo(AL, Y)\n",
    "        \n",
    "        # Backward Propagation\n",
    "        # Nota: ao invés de AL e Y, poderíamos passar somente o valor do custo\n",
    "        # Estamos passando o valor de AL e Y para fique claro didaticamente o que está sendo feito\n",
    "        gradientes = backward_propagation(AL, Y, caches)\n",
    "        \n",
    "        # Atualiza os pesos\n",
    "        parametros = atualiza_pesos(parametros, gradientes, learning_rate)\n",
    "        \n",
    "        # Print do valor intermediário do custo\n",
    "        # A redução do custo indica o aprendizado do modelo\n",
    "        if i % 10 == 0:\n",
    "            print(\"Custo Após \" + str(i) + \" iterações é \" + str(custo))\n",
    "            custos.append(custo)\n",
    "            \n",
    "    return parametros, custos "
   ]
  },
  {
   "cell_type": "code",
   "execution_count": 18,
   "metadata": {},
   "outputs": [],
   "source": [
    "# Função para fazer as previsões\n",
    "# Não precisamos do Backpropagation pois ao fazer previsões como o modelo treinado, \n",
    "# teremos os melhores valores de pesos (parametros)\n",
    "def predict(X, parametros):\n",
    "    AL, caches = forward_propagation(X, parametros)\n",
    "    return AL"
   ]
  },
  {
   "cell_type": "markdown",
   "metadata": {},
   "source": [
    "### Parte 2 - Vamos treinar a rede para Prever a Ocorrência de Câncer"
   ]
  },
  {
   "cell_type": "markdown",
   "metadata": {},
   "source": [
    "### Mini-Projeto 4 - Usando a Rede Neural Para Prever a Ocorrência de Câncer"
   ]
  },
  {
   "cell_type": "code",
   "execution_count": 19,
   "metadata": {},
   "outputs": [
    {
     "name": "stderr",
     "output_type": "stream",
     "text": [
      "c:\\Users\\inha_\\anaconda3\\lib\\site-packages\\pandas\\core\\computation\\expressions.py:21: UserWarning: Pandas requires version '2.8.4' or newer of 'numexpr' (version '2.8.3' currently installed).\n",
      "  from pandas.core.computation.check import NUMEXPR_INSTALLED\n",
      "c:\\Users\\inha_\\anaconda3\\lib\\site-packages\\pandas\\core\\arrays\\masked.py:60: UserWarning: Pandas requires version '1.3.6' or newer of 'bottleneck' (version '1.3.5' currently installed).\n",
      "  from pandas.core import (\n",
      "C:\\Users\\inha_\\AppData\\Local\\Temp\\ipykernel_4644\\819148778.py:4: DeprecationWarning: \n",
      "Pyarrow will become a required dependency of pandas in the next major release of pandas (pandas 3.0),\n",
      "(to allow more performant data types, such as the Arrow string type, and better interoperability with other libraries)\n",
      "but was not found to be installed on your system.\n",
      "If this would cause problems for you,\n",
      "please provide us feedback at https://github.com/pandas-dev/pandas/issues/54466\n",
      "        \n",
      "  import pandas as pd\n"
     ]
    }
   ],
   "source": [
    "# Imports\n",
    "import sklearn\n",
    "import numpy as np\n",
    "import pandas as pd\n",
    "import matplotlib\n",
    "import matplotlib.pyplot as plt\n",
    "from sklearn.datasets import load_breast_cancer\n",
    "from sklearn.model_selection import train_test_split\n",
    "from sklearn.metrics import classification_report"
   ]
  },
  {
   "cell_type": "code",
   "execution_count": 20,
   "metadata": {},
   "outputs": [
    {
     "name": "stdout",
     "output_type": "stream",
     "text": [
      "Author: Jeferson Oliveira\n",
      "\n",
      "pandas    : 2.2.0\n",
      "sklearn   : 1.4.1.post1\n",
      "matplotlib: 3.7.1\n",
      "numpy     : 1.26.4\n",
      "\n"
     ]
    }
   ],
   "source": [
    "# Versões dos pacotes usados neste jupyter notebook\n",
    "%reload_ext watermark\n",
    "%watermark -a \"Jeferson Oliveira\" --iversions"
   ]
  },
  {
   "cell_type": "markdown",
   "metadata": {},
   "source": [
    "### Carregando os Dados\n",
    "\n",
    "https://scikit-learn.org/stable/datasets/index.html#breast-cancer-dataset"
   ]
  },
  {
   "cell_type": "code",
   "execution_count": 21,
   "metadata": {},
   "outputs": [],
   "source": [
    "# Carregamos o objeto completo\n",
    "temp = load_breast_cancer()"
   ]
  },
  {
   "cell_type": "code",
   "execution_count": 22,
   "metadata": {},
   "outputs": [
    {
     "data": {
      "text/plain": [
       "sklearn.utils._bunch.Bunch"
      ]
     },
     "execution_count": 22,
     "metadata": {},
     "output_type": "execute_result"
    }
   ],
   "source": [
    "# Tipo do objeto\n",
    "type(temp)"
   ]
  },
  {
   "cell_type": "code",
   "execution_count": 23,
   "metadata": {},
   "outputs": [
    {
     "data": {
      "text/plain": [
       "{'data': array([[1.799e+01, 1.038e+01, 1.228e+02, ..., 2.654e-01, 4.601e-01,\n",
       "         1.189e-01],\n",
       "        [2.057e+01, 1.777e+01, 1.329e+02, ..., 1.860e-01, 2.750e-01,\n",
       "         8.902e-02],\n",
       "        [1.969e+01, 2.125e+01, 1.300e+02, ..., 2.430e-01, 3.613e-01,\n",
       "         8.758e-02],\n",
       "        ...,\n",
       "        [1.660e+01, 2.808e+01, 1.083e+02, ..., 1.418e-01, 2.218e-01,\n",
       "         7.820e-02],\n",
       "        [2.060e+01, 2.933e+01, 1.401e+02, ..., 2.650e-01, 4.087e-01,\n",
       "         1.240e-01],\n",
       "        [7.760e+00, 2.454e+01, 4.792e+01, ..., 0.000e+00, 2.871e-01,\n",
       "         7.039e-02]]),\n",
       " 'target': array([0, 0, 0, 0, 0, 0, 0, 0, 0, 0, 0, 0, 0, 0, 0, 0, 0, 0, 0, 1, 1, 1,\n",
       "        0, 0, 0, 0, 0, 0, 0, 0, 0, 0, 0, 0, 0, 0, 0, 1, 0, 0, 0, 0, 0, 0,\n",
       "        0, 0, 1, 0, 1, 1, 1, 1, 1, 0, 0, 1, 0, 0, 1, 1, 1, 1, 0, 1, 0, 0,\n",
       "        1, 1, 1, 1, 0, 1, 0, 0, 1, 0, 1, 0, 0, 1, 1, 1, 0, 0, 1, 0, 0, 0,\n",
       "        1, 1, 1, 0, 1, 1, 0, 0, 1, 1, 1, 0, 0, 1, 1, 1, 1, 0, 1, 1, 0, 1,\n",
       "        1, 1, 1, 1, 1, 1, 1, 0, 0, 0, 1, 0, 0, 1, 1, 1, 0, 0, 1, 0, 1, 0,\n",
       "        0, 1, 0, 0, 1, 1, 0, 1, 1, 0, 1, 1, 1, 1, 0, 1, 1, 1, 1, 1, 1, 1,\n",
       "        1, 1, 0, 1, 1, 1, 1, 0, 0, 1, 0, 1, 1, 0, 0, 1, 1, 0, 0, 1, 1, 1,\n",
       "        1, 0, 1, 1, 0, 0, 0, 1, 0, 1, 0, 1, 1, 1, 0, 1, 1, 0, 0, 1, 0, 0,\n",
       "        0, 0, 1, 0, 0, 0, 1, 0, 1, 0, 1, 1, 0, 1, 0, 0, 0, 0, 1, 1, 0, 0,\n",
       "        1, 1, 1, 0, 1, 1, 1, 1, 1, 0, 0, 1, 1, 0, 1, 1, 0, 0, 1, 0, 1, 1,\n",
       "        1, 1, 0, 1, 1, 1, 1, 1, 0, 1, 0, 0, 0, 0, 0, 0, 0, 0, 0, 0, 0, 0,\n",
       "        0, 0, 1, 1, 1, 1, 1, 1, 0, 1, 0, 1, 1, 0, 1, 1, 0, 1, 0, 0, 1, 1,\n",
       "        1, 1, 1, 1, 1, 1, 1, 1, 1, 1, 1, 0, 1, 1, 0, 1, 0, 1, 1, 1, 1, 1,\n",
       "        1, 1, 1, 1, 1, 1, 1, 1, 1, 0, 1, 1, 1, 0, 1, 0, 1, 1, 1, 1, 0, 0,\n",
       "        0, 1, 1, 1, 1, 0, 1, 0, 1, 0, 1, 1, 1, 0, 1, 1, 1, 1, 1, 1, 1, 0,\n",
       "        0, 0, 1, 1, 1, 1, 1, 1, 1, 1, 1, 1, 1, 0, 0, 1, 0, 0, 0, 1, 0, 0,\n",
       "        1, 1, 1, 1, 1, 0, 1, 1, 1, 1, 1, 0, 1, 1, 1, 0, 1, 1, 0, 0, 1, 1,\n",
       "        1, 1, 1, 1, 0, 1, 1, 1, 1, 1, 1, 1, 0, 1, 1, 1, 1, 1, 0, 1, 1, 0,\n",
       "        1, 1, 1, 1, 1, 1, 1, 1, 1, 1, 1, 1, 0, 1, 0, 0, 1, 0, 1, 1, 1, 1,\n",
       "        1, 0, 1, 1, 0, 1, 0, 1, 1, 0, 1, 0, 1, 1, 1, 1, 1, 1, 1, 1, 0, 0,\n",
       "        1, 1, 1, 1, 1, 1, 0, 1, 1, 1, 1, 1, 1, 1, 1, 1, 1, 0, 1, 1, 1, 1,\n",
       "        1, 1, 1, 0, 1, 0, 1, 1, 0, 1, 1, 1, 1, 1, 0, 0, 1, 0, 1, 0, 1, 1,\n",
       "        1, 1, 1, 0, 1, 1, 0, 1, 0, 1, 0, 0, 1, 1, 1, 0, 1, 1, 1, 1, 1, 1,\n",
       "        1, 1, 1, 1, 1, 0, 1, 0, 0, 1, 1, 1, 1, 1, 1, 1, 1, 1, 1, 1, 1, 1,\n",
       "        1, 1, 1, 1, 1, 1, 1, 1, 1, 1, 1, 1, 0, 0, 0, 0, 0, 0, 1]),\n",
       " 'frame': None,\n",
       " 'target_names': array(['malignant', 'benign'], dtype='<U9'),\n",
       " 'DESCR': '.. _breast_cancer_dataset:\\n\\nBreast cancer wisconsin (diagnostic) dataset\\n--------------------------------------------\\n\\n**Data Set Characteristics:**\\n\\n:Number of Instances: 569\\n\\n:Number of Attributes: 30 numeric, predictive attributes and the class\\n\\n:Attribute Information:\\n    - radius (mean of distances from center to points on the perimeter)\\n    - texture (standard deviation of gray-scale values)\\n    - perimeter\\n    - area\\n    - smoothness (local variation in radius lengths)\\n    - compactness (perimeter^2 / area - 1.0)\\n    - concavity (severity of concave portions of the contour)\\n    - concave points (number of concave portions of the contour)\\n    - symmetry\\n    - fractal dimension (\"coastline approximation\" - 1)\\n\\n    The mean, standard error, and \"worst\" or largest (mean of the three\\n    worst/largest values) of these features were computed for each image,\\n    resulting in 30 features.  For instance, field 0 is Mean Radius, field\\n    10 is Radius SE, field 20 is Worst Radius.\\n\\n    - class:\\n            - WDBC-Malignant\\n            - WDBC-Benign\\n\\n:Summary Statistics:\\n\\n===================================== ====== ======\\n                                        Min    Max\\n===================================== ====== ======\\nradius (mean):                        6.981  28.11\\ntexture (mean):                       9.71   39.28\\nperimeter (mean):                     43.79  188.5\\narea (mean):                          143.5  2501.0\\nsmoothness (mean):                    0.053  0.163\\ncompactness (mean):                   0.019  0.345\\nconcavity (mean):                     0.0    0.427\\nconcave points (mean):                0.0    0.201\\nsymmetry (mean):                      0.106  0.304\\nfractal dimension (mean):             0.05   0.097\\nradius (standard error):              0.112  2.873\\ntexture (standard error):             0.36   4.885\\nperimeter (standard error):           0.757  21.98\\narea (standard error):                6.802  542.2\\nsmoothness (standard error):          0.002  0.031\\ncompactness (standard error):         0.002  0.135\\nconcavity (standard error):           0.0    0.396\\nconcave points (standard error):      0.0    0.053\\nsymmetry (standard error):            0.008  0.079\\nfractal dimension (standard error):   0.001  0.03\\nradius (worst):                       7.93   36.04\\ntexture (worst):                      12.02  49.54\\nperimeter (worst):                    50.41  251.2\\narea (worst):                         185.2  4254.0\\nsmoothness (worst):                   0.071  0.223\\ncompactness (worst):                  0.027  1.058\\nconcavity (worst):                    0.0    1.252\\nconcave points (worst):               0.0    0.291\\nsymmetry (worst):                     0.156  0.664\\nfractal dimension (worst):            0.055  0.208\\n===================================== ====== ======\\n\\n:Missing Attribute Values: None\\n\\n:Class Distribution: 212 - Malignant, 357 - Benign\\n\\n:Creator:  Dr. William H. Wolberg, W. Nick Street, Olvi L. Mangasarian\\n\\n:Donor: Nick Street\\n\\n:Date: November, 1995\\n\\nThis is a copy of UCI ML Breast Cancer Wisconsin (Diagnostic) datasets.\\nhttps://goo.gl/U2Uwz2\\n\\nFeatures are computed from a digitized image of a fine needle\\naspirate (FNA) of a breast mass.  They describe\\ncharacteristics of the cell nuclei present in the image.\\n\\nSeparating plane described above was obtained using\\nMultisurface Method-Tree (MSM-T) [K. P. Bennett, \"Decision Tree\\nConstruction Via Linear Programming.\" Proceedings of the 4th\\nMidwest Artificial Intelligence and Cognitive Science Society,\\npp. 97-101, 1992], a classification method which uses linear\\nprogramming to construct a decision tree.  Relevant features\\nwere selected using an exhaustive search in the space of 1-4\\nfeatures and 1-3 separating planes.\\n\\nThe actual linear program used to obtain the separating plane\\nin the 3-dimensional space is that described in:\\n[K. P. Bennett and O. L. Mangasarian: \"Robust Linear\\nProgramming Discrimination of Two Linearly Inseparable Sets\",\\nOptimization Methods and Software 1, 1992, 23-34].\\n\\nThis database is also available through the UW CS ftp server:\\n\\nftp ftp.cs.wisc.edu\\ncd math-prog/cpo-dataset/machine-learn/WDBC/\\n\\n|details-start|\\n**References**\\n|details-split|\\n\\n- W.N. Street, W.H. Wolberg and O.L. Mangasarian. Nuclear feature extraction\\n  for breast tumor diagnosis. IS&T/SPIE 1993 International Symposium on\\n  Electronic Imaging: Science and Technology, volume 1905, pages 861-870,\\n  San Jose, CA, 1993.\\n- O.L. Mangasarian, W.N. Street and W.H. Wolberg. Breast cancer diagnosis and\\n  prognosis via linear programming. Operations Research, 43(4), pages 570-577,\\n  July-August 1995.\\n- W.H. Wolberg, W.N. Street, and O.L. Mangasarian. Machine learning techniques\\n  to diagnose breast cancer from fine-needle aspirates. Cancer Letters 77 (1994)\\n  163-171.\\n\\n|details-end|\\n',\n",
       " 'feature_names': array(['mean radius', 'mean texture', 'mean perimeter', 'mean area',\n",
       "        'mean smoothness', 'mean compactness', 'mean concavity',\n",
       "        'mean concave points', 'mean symmetry', 'mean fractal dimension',\n",
       "        'radius error', 'texture error', 'perimeter error', 'area error',\n",
       "        'smoothness error', 'compactness error', 'concavity error',\n",
       "        'concave points error', 'symmetry error',\n",
       "        'fractal dimension error', 'worst radius', 'worst texture',\n",
       "        'worst perimeter', 'worst area', 'worst smoothness',\n",
       "        'worst compactness', 'worst concavity', 'worst concave points',\n",
       "        'worst symmetry', 'worst fractal dimension'], dtype='<U23'),\n",
       " 'filename': 'breast_cancer.csv',\n",
       " 'data_module': 'sklearn.datasets.data'}"
      ]
     },
     "execution_count": 23,
     "metadata": {},
     "output_type": "execute_result"
    }
   ],
   "source": [
    "# Visualiza o objeto\n",
    "temp"
   ]
  },
  {
   "cell_type": "code",
   "execution_count": 24,
   "metadata": {},
   "outputs": [],
   "source": [
    "# Carregamos o dataset\n",
    "dados = pd.DataFrame(columns = load_breast_cancer()[\"feature_names\"], data = load_breast_cancer()[\"data\"])"
   ]
  },
  {
   "cell_type": "code",
   "execution_count": 25,
   "metadata": {},
   "outputs": [
    {
     "data": {
      "text/plain": [
       "(569, 30)"
      ]
     },
     "execution_count": 25,
     "metadata": {},
     "output_type": "execute_result"
    }
   ],
   "source": [
    "# Shape\n",
    "dados.shape"
   ]
  },
  {
   "cell_type": "code",
   "execution_count": 26,
   "metadata": {},
   "outputs": [
    {
     "data": {
      "text/html": [
       "<div>\n",
       "<style scoped>\n",
       "    .dataframe tbody tr th:only-of-type {\n",
       "        vertical-align: middle;\n",
       "    }\n",
       "\n",
       "    .dataframe tbody tr th {\n",
       "        vertical-align: top;\n",
       "    }\n",
       "\n",
       "    .dataframe thead th {\n",
       "        text-align: right;\n",
       "    }\n",
       "</style>\n",
       "<table border=\"1\" class=\"dataframe\">\n",
       "  <thead>\n",
       "    <tr style=\"text-align: right;\">\n",
       "      <th></th>\n",
       "      <th>mean radius</th>\n",
       "      <th>mean texture</th>\n",
       "      <th>mean perimeter</th>\n",
       "      <th>mean area</th>\n",
       "      <th>mean smoothness</th>\n",
       "      <th>mean compactness</th>\n",
       "      <th>mean concavity</th>\n",
       "      <th>mean concave points</th>\n",
       "      <th>mean symmetry</th>\n",
       "      <th>mean fractal dimension</th>\n",
       "      <th>...</th>\n",
       "      <th>worst radius</th>\n",
       "      <th>worst texture</th>\n",
       "      <th>worst perimeter</th>\n",
       "      <th>worst area</th>\n",
       "      <th>worst smoothness</th>\n",
       "      <th>worst compactness</th>\n",
       "      <th>worst concavity</th>\n",
       "      <th>worst concave points</th>\n",
       "      <th>worst symmetry</th>\n",
       "      <th>worst fractal dimension</th>\n",
       "    </tr>\n",
       "  </thead>\n",
       "  <tbody>\n",
       "    <tr>\n",
       "      <th>0</th>\n",
       "      <td>17.99</td>\n",
       "      <td>10.38</td>\n",
       "      <td>122.80</td>\n",
       "      <td>1001.0</td>\n",
       "      <td>0.11840</td>\n",
       "      <td>0.27760</td>\n",
       "      <td>0.3001</td>\n",
       "      <td>0.14710</td>\n",
       "      <td>0.2419</td>\n",
       "      <td>0.07871</td>\n",
       "      <td>...</td>\n",
       "      <td>25.38</td>\n",
       "      <td>17.33</td>\n",
       "      <td>184.60</td>\n",
       "      <td>2019.0</td>\n",
       "      <td>0.1622</td>\n",
       "      <td>0.6656</td>\n",
       "      <td>0.7119</td>\n",
       "      <td>0.2654</td>\n",
       "      <td>0.4601</td>\n",
       "      <td>0.11890</td>\n",
       "    </tr>\n",
       "    <tr>\n",
       "      <th>1</th>\n",
       "      <td>20.57</td>\n",
       "      <td>17.77</td>\n",
       "      <td>132.90</td>\n",
       "      <td>1326.0</td>\n",
       "      <td>0.08474</td>\n",
       "      <td>0.07864</td>\n",
       "      <td>0.0869</td>\n",
       "      <td>0.07017</td>\n",
       "      <td>0.1812</td>\n",
       "      <td>0.05667</td>\n",
       "      <td>...</td>\n",
       "      <td>24.99</td>\n",
       "      <td>23.41</td>\n",
       "      <td>158.80</td>\n",
       "      <td>1956.0</td>\n",
       "      <td>0.1238</td>\n",
       "      <td>0.1866</td>\n",
       "      <td>0.2416</td>\n",
       "      <td>0.1860</td>\n",
       "      <td>0.2750</td>\n",
       "      <td>0.08902</td>\n",
       "    </tr>\n",
       "    <tr>\n",
       "      <th>2</th>\n",
       "      <td>19.69</td>\n",
       "      <td>21.25</td>\n",
       "      <td>130.00</td>\n",
       "      <td>1203.0</td>\n",
       "      <td>0.10960</td>\n",
       "      <td>0.15990</td>\n",
       "      <td>0.1974</td>\n",
       "      <td>0.12790</td>\n",
       "      <td>0.2069</td>\n",
       "      <td>0.05999</td>\n",
       "      <td>...</td>\n",
       "      <td>23.57</td>\n",
       "      <td>25.53</td>\n",
       "      <td>152.50</td>\n",
       "      <td>1709.0</td>\n",
       "      <td>0.1444</td>\n",
       "      <td>0.4245</td>\n",
       "      <td>0.4504</td>\n",
       "      <td>0.2430</td>\n",
       "      <td>0.3613</td>\n",
       "      <td>0.08758</td>\n",
       "    </tr>\n",
       "    <tr>\n",
       "      <th>3</th>\n",
       "      <td>11.42</td>\n",
       "      <td>20.38</td>\n",
       "      <td>77.58</td>\n",
       "      <td>386.1</td>\n",
       "      <td>0.14250</td>\n",
       "      <td>0.28390</td>\n",
       "      <td>0.2414</td>\n",
       "      <td>0.10520</td>\n",
       "      <td>0.2597</td>\n",
       "      <td>0.09744</td>\n",
       "      <td>...</td>\n",
       "      <td>14.91</td>\n",
       "      <td>26.50</td>\n",
       "      <td>98.87</td>\n",
       "      <td>567.7</td>\n",
       "      <td>0.2098</td>\n",
       "      <td>0.8663</td>\n",
       "      <td>0.6869</td>\n",
       "      <td>0.2575</td>\n",
       "      <td>0.6638</td>\n",
       "      <td>0.17300</td>\n",
       "    </tr>\n",
       "    <tr>\n",
       "      <th>4</th>\n",
       "      <td>20.29</td>\n",
       "      <td>14.34</td>\n",
       "      <td>135.10</td>\n",
       "      <td>1297.0</td>\n",
       "      <td>0.10030</td>\n",
       "      <td>0.13280</td>\n",
       "      <td>0.1980</td>\n",
       "      <td>0.10430</td>\n",
       "      <td>0.1809</td>\n",
       "      <td>0.05883</td>\n",
       "      <td>...</td>\n",
       "      <td>22.54</td>\n",
       "      <td>16.67</td>\n",
       "      <td>152.20</td>\n",
       "      <td>1575.0</td>\n",
       "      <td>0.1374</td>\n",
       "      <td>0.2050</td>\n",
       "      <td>0.4000</td>\n",
       "      <td>0.1625</td>\n",
       "      <td>0.2364</td>\n",
       "      <td>0.07678</td>\n",
       "    </tr>\n",
       "  </tbody>\n",
       "</table>\n",
       "<p>5 rows × 30 columns</p>\n",
       "</div>"
      ],
      "text/plain": [
       "   mean radius  mean texture  mean perimeter  mean area  mean smoothness  \\\n",
       "0        17.99         10.38          122.80     1001.0          0.11840   \n",
       "1        20.57         17.77          132.90     1326.0          0.08474   \n",
       "2        19.69         21.25          130.00     1203.0          0.10960   \n",
       "3        11.42         20.38           77.58      386.1          0.14250   \n",
       "4        20.29         14.34          135.10     1297.0          0.10030   \n",
       "\n",
       "   mean compactness  mean concavity  mean concave points  mean symmetry  \\\n",
       "0           0.27760          0.3001              0.14710         0.2419   \n",
       "1           0.07864          0.0869              0.07017         0.1812   \n",
       "2           0.15990          0.1974              0.12790         0.2069   \n",
       "3           0.28390          0.2414              0.10520         0.2597   \n",
       "4           0.13280          0.1980              0.10430         0.1809   \n",
       "\n",
       "   mean fractal dimension  ...  worst radius  worst texture  worst perimeter  \\\n",
       "0                 0.07871  ...         25.38          17.33           184.60   \n",
       "1                 0.05667  ...         24.99          23.41           158.80   \n",
       "2                 0.05999  ...         23.57          25.53           152.50   \n",
       "3                 0.09744  ...         14.91          26.50            98.87   \n",
       "4                 0.05883  ...         22.54          16.67           152.20   \n",
       "\n",
       "   worst area  worst smoothness  worst compactness  worst concavity  \\\n",
       "0      2019.0            0.1622             0.6656           0.7119   \n",
       "1      1956.0            0.1238             0.1866           0.2416   \n",
       "2      1709.0            0.1444             0.4245           0.4504   \n",
       "3       567.7            0.2098             0.8663           0.6869   \n",
       "4      1575.0            0.1374             0.2050           0.4000   \n",
       "\n",
       "   worst concave points  worst symmetry  worst fractal dimension  \n",
       "0                0.2654          0.4601                  0.11890  \n",
       "1                0.1860          0.2750                  0.08902  \n",
       "2                0.2430          0.3613                  0.08758  \n",
       "3                0.2575          0.6638                  0.17300  \n",
       "4                0.1625          0.2364                  0.07678  \n",
       "\n",
       "[5 rows x 30 columns]"
      ]
     },
     "execution_count": 26,
     "metadata": {},
     "output_type": "execute_result"
    }
   ],
   "source": [
    "# Visualiza os dados\n",
    "dados.head()"
   ]
  },
  {
   "cell_type": "code",
   "execution_count": 27,
   "metadata": {},
   "outputs": [
    {
     "data": {
      "text/plain": [
       "mean radius                False\n",
       "mean texture               False\n",
       "mean perimeter             False\n",
       "mean area                  False\n",
       "mean smoothness            False\n",
       "mean compactness           False\n",
       "mean concavity             False\n",
       "mean concave points        False\n",
       "mean symmetry              False\n",
       "mean fractal dimension     False\n",
       "radius error               False\n",
       "texture error              False\n",
       "perimeter error            False\n",
       "area error                 False\n",
       "smoothness error           False\n",
       "compactness error          False\n",
       "concavity error            False\n",
       "concave points error       False\n",
       "symmetry error             False\n",
       "fractal dimension error    False\n",
       "worst radius               False\n",
       "worst texture              False\n",
       "worst perimeter            False\n",
       "worst area                 False\n",
       "worst smoothness           False\n",
       "worst compactness          False\n",
       "worst concavity            False\n",
       "worst concave points       False\n",
       "worst symmetry             False\n",
       "worst fractal dimension    False\n",
       "dtype: bool"
      ]
     },
     "execution_count": 27,
     "metadata": {},
     "output_type": "execute_result"
    }
   ],
   "source": [
    "# Verifica se temos valores ausentes\n",
    "dados.isnull().any()"
   ]
  },
  {
   "cell_type": "code",
   "execution_count": 28,
   "metadata": {},
   "outputs": [],
   "source": [
    "# Separa a variável target\n",
    "target = load_breast_cancer()[\"target\"]"
   ]
  },
  {
   "cell_type": "code",
   "execution_count": 29,
   "metadata": {},
   "outputs": [
    {
     "data": {
      "text/plain": [
       "numpy.ndarray"
      ]
     },
     "execution_count": 29,
     "metadata": {},
     "output_type": "execute_result"
    }
   ],
   "source": [
    "type(target)"
   ]
  },
  {
   "cell_type": "code",
   "execution_count": 30,
   "metadata": {},
   "outputs": [
    {
     "data": {
      "text/plain": [
       "array([0, 0, 0, 0, 0, 0, 0, 0, 0, 0, 0, 0, 0, 0, 0, 0, 0, 0, 0, 1, 1, 1,\n",
       "       0, 0, 0, 0, 0, 0, 0, 0, 0, 0, 0, 0, 0, 0, 0, 1, 0, 0, 0, 0, 0, 0,\n",
       "       0, 0, 1, 0, 1, 1, 1, 1, 1, 0, 0, 1, 0, 0, 1, 1, 1, 1, 0, 1, 0, 0,\n",
       "       1, 1, 1, 1, 0, 1, 0, 0, 1, 0, 1, 0, 0, 1, 1, 1, 0, 0, 1, 0, 0, 0,\n",
       "       1, 1, 1, 0, 1, 1, 0, 0, 1, 1, 1, 0, 0, 1, 1, 1, 1, 0, 1, 1, 0, 1,\n",
       "       1, 1, 1, 1, 1, 1, 1, 0, 0, 0, 1, 0, 0, 1, 1, 1, 0, 0, 1, 0, 1, 0,\n",
       "       0, 1, 0, 0, 1, 1, 0, 1, 1, 0, 1, 1, 1, 1, 0, 1, 1, 1, 1, 1, 1, 1,\n",
       "       1, 1, 0, 1, 1, 1, 1, 0, 0, 1, 0, 1, 1, 0, 0, 1, 1, 0, 0, 1, 1, 1,\n",
       "       1, 0, 1, 1, 0, 0, 0, 1, 0, 1, 0, 1, 1, 1, 0, 1, 1, 0, 0, 1, 0, 0,\n",
       "       0, 0, 1, 0, 0, 0, 1, 0, 1, 0, 1, 1, 0, 1, 0, 0, 0, 0, 1, 1, 0, 0,\n",
       "       1, 1, 1, 0, 1, 1, 1, 1, 1, 0, 0, 1, 1, 0, 1, 1, 0, 0, 1, 0, 1, 1,\n",
       "       1, 1, 0, 1, 1, 1, 1, 1, 0, 1, 0, 0, 0, 0, 0, 0, 0, 0, 0, 0, 0, 0,\n",
       "       0, 0, 1, 1, 1, 1, 1, 1, 0, 1, 0, 1, 1, 0, 1, 1, 0, 1, 0, 0, 1, 1,\n",
       "       1, 1, 1, 1, 1, 1, 1, 1, 1, 1, 1, 0, 1, 1, 0, 1, 0, 1, 1, 1, 1, 1,\n",
       "       1, 1, 1, 1, 1, 1, 1, 1, 1, 0, 1, 1, 1, 0, 1, 0, 1, 1, 1, 1, 0, 0,\n",
       "       0, 1, 1, 1, 1, 0, 1, 0, 1, 0, 1, 1, 1, 0, 1, 1, 1, 1, 1, 1, 1, 0,\n",
       "       0, 0, 1, 1, 1, 1, 1, 1, 1, 1, 1, 1, 1, 0, 0, 1, 0, 0, 0, 1, 0, 0,\n",
       "       1, 1, 1, 1, 1, 0, 1, 1, 1, 1, 1, 0, 1, 1, 1, 0, 1, 1, 0, 0, 1, 1,\n",
       "       1, 1, 1, 1, 0, 1, 1, 1, 1, 1, 1, 1, 0, 1, 1, 1, 1, 1, 0, 1, 1, 0,\n",
       "       1, 1, 1, 1, 1, 1, 1, 1, 1, 1, 1, 1, 0, 1, 0, 0, 1, 0, 1, 1, 1, 1,\n",
       "       1, 0, 1, 1, 0, 1, 0, 1, 1, 0, 1, 0, 1, 1, 1, 1, 1, 1, 1, 1, 0, 0,\n",
       "       1, 1, 1, 1, 1, 1, 0, 1, 1, 1, 1, 1, 1, 1, 1, 1, 1, 0, 1, 1, 1, 1,\n",
       "       1, 1, 1, 0, 1, 0, 1, 1, 0, 1, 1, 1, 1, 1, 0, 0, 1, 0, 1, 0, 1, 1,\n",
       "       1, 1, 1, 0, 1, 1, 0, 1, 0, 1, 0, 0, 1, 1, 1, 0, 1, 1, 1, 1, 1, 1,\n",
       "       1, 1, 1, 1, 1, 0, 1, 0, 0, 1, 1, 1, 1, 1, 1, 1, 1, 1, 1, 1, 1, 1,\n",
       "       1, 1, 1, 1, 1, 1, 1, 1, 1, 1, 1, 1, 0, 0, 0, 0, 0, 0, 1])"
      ]
     },
     "execution_count": 30,
     "metadata": {},
     "output_type": "execute_result"
    }
   ],
   "source": [
    "# Visualiza a variável\n",
    "target"
   ]
  },
  {
   "cell_type": "code",
   "execution_count": 31,
   "metadata": {},
   "outputs": [
    {
     "data": {
      "text/plain": [
       "357"
      ]
     },
     "execution_count": 31,
     "metadata": {},
     "output_type": "execute_result"
    }
   ],
   "source": [
    "# Total de registros por classe - Câncer Benigno\n",
    "np.count_nonzero(target == 1)"
   ]
  },
  {
   "cell_type": "code",
   "execution_count": 32,
   "metadata": {},
   "outputs": [
    {
     "data": {
      "text/plain": [
       "212"
      ]
     },
     "execution_count": 32,
     "metadata": {},
     "output_type": "execute_result"
    }
   ],
   "source": [
    "# Total de registros por classe - Câncer Maligno\n",
    "np.count_nonzero(target == 0)"
   ]
  },
  {
   "cell_type": "code",
   "execution_count": 33,
   "metadata": {},
   "outputs": [],
   "source": [
    "# Vamos extrair os labels\n",
    "\n",
    "# Dicionário para os labels\n",
    "labels = {}\n",
    "\n",
    "# Nomes das classes da variável target\n",
    "target_names = load_breast_cancer()[\"target_names\"]\n",
    "\n",
    "# Mapeamento\n",
    "for i in range(len(target_names)):\n",
    "    labels.update({i:target_names[i]})"
   ]
  },
  {
   "cell_type": "code",
   "execution_count": 34,
   "metadata": {},
   "outputs": [
    {
     "data": {
      "text/plain": [
       "{0: 'malignant', 1: 'benign'}"
      ]
     },
     "execution_count": 34,
     "metadata": {},
     "output_type": "execute_result"
    }
   ],
   "source": [
    "# Visualiza os labels\n",
    "labels"
   ]
  },
  {
   "cell_type": "code",
   "execution_count": 35,
   "metadata": {},
   "outputs": [],
   "source": [
    "# Agora preparamos as variáveis preditoras em X\n",
    "X = np.array(dados)"
   ]
  },
  {
   "cell_type": "code",
   "execution_count": 36,
   "metadata": {},
   "outputs": [
    {
     "data": {
      "text/plain": [
       "array([[1.799e+01, 1.038e+01, 1.228e+02, ..., 2.654e-01, 4.601e-01,\n",
       "        1.189e-01],\n",
       "       [2.057e+01, 1.777e+01, 1.329e+02, ..., 1.860e-01, 2.750e-01,\n",
       "        8.902e-02],\n",
       "       [1.969e+01, 2.125e+01, 1.300e+02, ..., 2.430e-01, 3.613e-01,\n",
       "        8.758e-02],\n",
       "       ...,\n",
       "       [1.660e+01, 2.808e+01, 1.083e+02, ..., 1.418e-01, 2.218e-01,\n",
       "        7.820e-02],\n",
       "       [2.060e+01, 2.933e+01, 1.401e+02, ..., 2.650e-01, 4.087e-01,\n",
       "        1.240e-01],\n",
       "       [7.760e+00, 2.454e+01, 4.792e+01, ..., 0.000e+00, 2.871e-01,\n",
       "        7.039e-02]])"
      ]
     },
     "execution_count": 36,
     "metadata": {},
     "output_type": "execute_result"
    }
   ],
   "source": [
    "# Visualiza os dados de entrada\n",
    "X"
   ]
  },
  {
   "cell_type": "code",
   "execution_count": 37,
   "metadata": {},
   "outputs": [],
   "source": [
    "# Dividimos os dados de entrada e saída em treino e teste\n",
    "X_treino, X_teste, y_treino, y_teste = train_test_split(X, target, test_size = 0.15, shuffle = True)"
   ]
  },
  {
   "cell_type": "code",
   "execution_count": 38,
   "metadata": {},
   "outputs": [
    {
     "name": "stdout",
     "output_type": "stream",
     "text": [
      "(483, 30)\n",
      "(483,)\n"
     ]
    }
   ],
   "source": [
    "# Shape dos dados de treino\n",
    "print(X_treino.shape)\n",
    "print(y_treino.shape)"
   ]
  },
  {
   "cell_type": "code",
   "execution_count": 39,
   "metadata": {},
   "outputs": [
    {
     "name": "stdout",
     "output_type": "stream",
     "text": [
      "(86, 30)\n",
      "(86,)\n"
     ]
    }
   ],
   "source": [
    "# Shape dos dados de teste\n",
    "print(X_teste.shape)\n",
    "print(y_teste.shape)"
   ]
  },
  {
   "cell_type": "code",
   "execution_count": 40,
   "metadata": {},
   "outputs": [],
   "source": [
    "# Ajusta o shape dos dados de entrada\n",
    "X_treino = X_treino.T\n",
    "X_teste = X_teste.T"
   ]
  },
  {
   "cell_type": "code",
   "execution_count": 41,
   "metadata": {},
   "outputs": [
    {
     "name": "stdout",
     "output_type": "stream",
     "text": [
      "(30, 483)\n",
      "(30, 86)\n"
     ]
    }
   ],
   "source": [
    "print(X_treino.shape)\n",
    "print(X_teste.shape)"
   ]
  },
  {
   "cell_type": "code",
   "execution_count": 42,
   "metadata": {},
   "outputs": [],
   "source": [
    "# Precisamos ajustar também os dados de saída\n",
    "y_treino = y_treino.reshape(1, len(y_treino))\n",
    "y_teste = y_teste.reshape(1, len(y_teste))"
   ]
  },
  {
   "cell_type": "code",
   "execution_count": 43,
   "metadata": {},
   "outputs": [
    {
     "name": "stdout",
     "output_type": "stream",
     "text": [
      "(1, 483)\n",
      "(1, 86)\n"
     ]
    }
   ],
   "source": [
    "print(y_treino.shape)\n",
    "print(y_teste.shape)"
   ]
  },
  {
   "cell_type": "code",
   "execution_count": 44,
   "metadata": {},
   "outputs": [],
   "source": [
    "# Variável com as dimensões de entrada para oo número de neurônios \n",
    "dims_camada_entrada = [X_treino.shape[0], 50, 20, 5, 1]"
   ]
  },
  {
   "cell_type": "code",
   "execution_count": 45,
   "metadata": {},
   "outputs": [
    {
     "data": {
      "text/plain": [
       "[30, 50, 20, 5, 1]"
      ]
     },
     "execution_count": 45,
     "metadata": {},
     "output_type": "execute_result"
    }
   ],
   "source": [
    "dims_camada_entrada"
   ]
  },
  {
   "cell_type": "markdown",
   "metadata": {},
   "source": [
    "Após definir todas as funções da rede, precisamos treiná-la. Isso envolve iterar várias vezes sobre os dados, ajustando os pesos para minimizar a função de perda. \n",
    "\n",
    "Durante a avaliação, aplicamos os dados de teste para verificar se a rede generalizou bem ou se está apenas decorando os exemplos de treino."
   ]
  },
  {
   "cell_type": "code",
   "execution_count": 46,
   "metadata": {},
   "outputs": [
    {
     "name": "stdout",
     "output_type": "stream",
     "text": [
      "\n",
      "Iniciando o Treinamento.\n",
      "\n",
      "Custo Após 0 iterações é 0.6930873239687431\n",
      "Custo Após 10 iterações é 0.6918071243753028\n",
      "Custo Após 20 iterações é 0.6905735477060012\n",
      "Custo Após 30 iterações é 0.6893848229245725\n",
      "Custo Após 40 iterações é 0.6882392350715745\n",
      "Custo Após 50 iterações é 0.6871351231052573\n",
      "Custo Após 60 iterações é 0.6860708801401869\n",
      "Custo Após 70 iterações é 0.685044952489835\n",
      "Custo Após 80 iterações é 0.6840558255877406\n",
      "Custo Após 90 iterações é 0.683102040520841\n",
      "Custo Após 100 iterações é 0.6821821746484676\n",
      "Custo Após 110 iterações é 0.681294841502883\n",
      "Custo Após 120 iterações é 0.6804386940237315\n",
      "Custo Após 130 iterações é 0.6796124010306518\n",
      "Custo Após 140 iterações é 0.6788146565668803\n",
      "Custo Após 150 iterações é 0.678044166148206\n",
      "Custo Após 160 iterações é 0.677299653690833\n",
      "Custo Após 170 iterações é 0.6765798662300994\n",
      "Custo Após 180 iterações é 0.6758835322881965\n",
      "Custo Após 190 iterações é 0.6752093660923975\n",
      "Custo Após 200 iterações é 0.6745560483669607\n",
      "Custo Após 210 iterações é 0.6739221919214309\n",
      "Custo Após 220 iterações é 0.6733063778835908\n",
      "Custo Após 230 iterações é 0.6727071249836685\n",
      "Custo Após 240 iterações é 0.6721227628973602\n",
      "Custo Após 250 iterações é 0.6715514154411585\n",
      "Custo Após 260 iterações é 0.6709909818816799\n",
      "Custo Após 270 iterações é 0.6704390580567068\n",
      "Custo Após 280 iterações é 0.6698927850743917\n",
      "Custo Após 290 iterações é 0.6693486260922074\n",
      "Custo Após 300 iterações é 0.6688022714392043\n",
      "Custo Após 310 iterações é 0.6682481558521379\n",
      "Custo Após 320 iterações é 0.6676788817929687\n",
      "Custo Após 330 iterações é 0.6670845427823954\n",
      "Custo Após 340 iterações é 0.6664514767187442\n",
      "Custo Após 350 iterações é 0.6657601791523932\n",
      "Custo Após 360 iterações é 0.6649818168070253\n",
      "Custo Após 370 iterações é 0.6640727436029545\n",
      "Custo Após 380 iterações é 0.6629676174896094\n",
      "Custo Após 390 iterações é 0.6615624215067809\n",
      "Custo Após 400 iterações é 0.6596817613410346\n",
      "Custo Após 410 iterações é 0.6570306803844911\n",
      "Custo Após 420 iterações é 0.653121758071799\n",
      "Custo Após 430 iterações é 0.6472454099560095\n",
      "Custo Após 440 iterações é 0.6388643996561151\n",
      "Custo Após 450 iterações é 0.6291771512329628\n",
      "Custo Após 460 iterações é 0.6216894581491895\n",
      "Custo Após 470 iterações é 0.6173772681787754\n",
      "Custo Após 480 iterações é 0.6142895901146804\n",
      "Custo Após 490 iterações é 0.6113982370375481\n",
      "Custo Após 500 iterações é 0.6085053337181762\n",
      "Custo Após 510 iterações é 0.6055820560830212\n",
      "Custo Após 520 iterações é 0.6026193589515438\n",
      "Custo Após 530 iterações é 0.5996079000248596\n",
      "Custo Após 540 iterações é 0.5965368103407548\n",
      "Custo Após 550 iterações é 0.5933920515721383\n",
      "Custo Após 560 iterações é 0.5901562830445692\n",
      "Custo Após 570 iterações é 0.5868068130912896\n",
      "Custo Após 580 iterações é 0.5833141386103537\n",
      "Custo Após 590 iterações é 0.5796387586124374\n",
      "Custo Após 600 iterações é 0.5757274752286037\n",
      "Custo Após 610 iterações é 0.5715078352630929\n",
      "Custo Após 620 iterações é 0.5668787259666292\n",
      "Custo Após 630 iterações é 0.5616969512486539\n",
      "Custo Após 640 iterações é 0.5557572920379232\n",
      "Custo Após 650 iterações é 0.54875953209148\n",
      "Custo Após 660 iterações é 0.540298281416022\n",
      "Custo Após 670 iterações é 0.5298073421340174\n",
      "Custo Após 680 iterações é 0.5167206701863785\n",
      "Custo Após 690 iterações é 0.5006243899490589\n",
      "Custo Após 700 iterações é 0.480987070525224\n",
      "Custo Após 710 iterações é 0.4603300796114831\n",
      "Custo Após 720 iterações é 0.4422229317198737\n",
      "Custo Após 730 iterações é 0.48986661618238697\n",
      "Custo Após 740 iterações é 0.47335786321746315\n",
      "Custo Após 750 iterações é 0.4635206666942074\n",
      "Custo Após 760 iterações é 0.4545845521026765\n",
      "Custo Após 770 iterações é 0.4453880207353545\n",
      "Custo Após 780 iterações é 0.4374767345027302\n",
      "Custo Após 790 iterações é 0.4310839350456044\n",
      "Custo Após 800 iterações é 0.4232671417406549\n",
      "Custo Após 810 iterações é 0.414759253787118\n",
      "Custo Após 820 iterações é 0.4087054914994678\n",
      "Custo Após 830 iterações é 0.40304255505748465\n",
      "Custo Após 840 iterações é 0.3984459020028445\n",
      "Custo Após 850 iterações é 0.395047439092919\n",
      "Custo Após 860 iterações é 0.38893186706066396\n",
      "Custo Após 870 iterações é 0.3864677829915365\n",
      "Custo Após 880 iterações é 0.3813729228907832\n",
      "Custo Após 890 iterações é 0.37819273311782603\n",
      "Custo Após 900 iterações é 0.37531239940952904\n",
      "Custo Após 910 iterações é 0.37023802025066366\n",
      "Custo Após 920 iterações é 0.3671799512567658\n",
      "Custo Após 930 iterações é 0.36365669277783574\n",
      "Custo Após 940 iterações é 0.3611956154872199\n",
      "Custo Após 950 iterações é 0.35783141504821603\n",
      "Custo Após 960 iterações é 0.3563494133353963\n",
      "Custo Após 970 iterações é 0.35460821539351356\n",
      "Custo Após 980 iterações é 0.35206108726119995\n",
      "Custo Após 990 iterações é 0.35037531284098017\n",
      "Custo Após 1000 iterações é 0.3485043216357261\n",
      "Custo Após 1010 iterações é 0.34580439223545634\n",
      "Custo Após 1020 iterações é 0.3443340255805166\n",
      "Custo Após 1030 iterações é 0.3411771905545788\n",
      "Custo Após 1040 iterações é 0.33757678353336895\n",
      "Custo Após 1050 iterações é 0.33577166550257487\n",
      "Custo Após 1060 iterações é 0.3342209282272141\n",
      "Custo Após 1070 iterações é 0.3336909519719799\n",
      "Custo Após 1080 iterações é 0.33087853846327164\n",
      "Custo Após 1090 iterações é 0.32761730682483875\n",
      "Custo Após 1100 iterações é 0.3277029030143221\n",
      "Custo Após 1110 iterações é 0.32501740926065953\n",
      "Custo Após 1120 iterações é 0.3260076913411922\n",
      "Custo Após 1130 iterações é 0.3220229849284309\n",
      "Custo Após 1140 iterações é 0.32050985733546683\n",
      "Custo Após 1150 iterações é 0.32022535712415773\n",
      "Custo Após 1160 iterações é 0.3171047278982204\n",
      "Custo Após 1170 iterações é 0.31684946081484866\n",
      "Custo Após 1180 iterações é 0.31554312806985374\n",
      "Custo Após 1190 iterações é 0.3130426429366325\n",
      "Custo Após 1200 iterações é 0.31138663635652686\n",
      "Custo Após 1210 iterações é 0.30789171833693163\n",
      "Custo Após 1220 iterações é 0.3089684890363607\n",
      "Custo Após 1230 iterações é 0.30795151075990335\n",
      "Custo Após 1240 iterações é 0.3064394271037619\n",
      "Custo Após 1250 iterações é 0.3061675454790572\n",
      "Custo Após 1260 iterações é 0.3046588104028721\n",
      "Custo Após 1270 iterações é 0.30529192393775306\n",
      "Custo Após 1280 iterações é 0.3014189095843805\n",
      "Custo Após 1290 iterações é 0.29898825798485185\n",
      "Custo Após 1300 iterações é 0.29781351521967914\n",
      "Custo Após 1310 iterações é 0.2965126392935458\n",
      "Custo Após 1320 iterações é 0.2962490909537332\n",
      "Custo Após 1330 iterações é 0.29499775985684573\n",
      "Custo Após 1340 iterações é 0.2937899787706897\n",
      "Custo Após 1350 iterações é 0.29400186304187753\n",
      "Custo Após 1360 iterações é 0.29299372572331994\n",
      "Custo Após 1370 iterações é 0.2903610323757204\n",
      "Custo Após 1380 iterações é 0.2903573662097961\n",
      "Custo Após 1390 iterações é 0.29098170973255116\n",
      "Custo Após 1400 iterações é 0.2879977829720861\n",
      "Custo Após 1410 iterações é 0.2876085986785901\n",
      "Custo Após 1420 iterações é 0.28783469306120457\n",
      "Custo Após 1430 iterações é 0.28736925711479633\n",
      "Custo Após 1440 iterações é 0.286358419234492\n",
      "Custo Após 1450 iterações é 0.2864440892125266\n",
      "Custo Após 1460 iterações é 0.28497198448991307\n",
      "Custo Após 1470 iterações é 0.2838943976403248\n",
      "Custo Após 1480 iterações é 0.28287645512359144\n",
      "Custo Após 1490 iterações é 0.28202009069616185\n",
      "Custo Após 1500 iterações é 0.2812848425366608\n",
      "Custo Após 1510 iterações é 0.28011477978058874\n",
      "Custo Após 1520 iterações é 0.2791590685552617\n",
      "Custo Após 1530 iterações é 0.27841621669539846\n",
      "Custo Após 1540 iterações é 0.2778922280509684\n",
      "Custo Após 1550 iterações é 0.27731352125826475\n",
      "Custo Após 1560 iterações é 0.2767915649393566\n",
      "Custo Após 1570 iterações é 0.27566228546198035\n",
      "Custo Após 1580 iterações é 0.2744863302120375\n",
      "Custo Após 1590 iterações é 0.27467171754771375\n",
      "Custo Após 1600 iterações é 0.2732899736158968\n",
      "Custo Após 1610 iterações é 0.2738013774669168\n",
      "Custo Após 1620 iterações é 0.27262593357773435\n",
      "Custo Após 1630 iterações é 0.2722244229121097\n",
      "Custo Após 1640 iterações é 0.2715964728684183\n",
      "Custo Após 1650 iterações é 0.27245347884816684\n",
      "Custo Após 1660 iterações é 0.2702378846899874\n",
      "Custo Após 1670 iterações é 0.26891680375438815\n",
      "Custo Após 1680 iterações é 0.2694346108274966\n",
      "Custo Após 1690 iterações é 0.2680928605127674\n",
      "Custo Após 1700 iterações é 0.26271982169984803\n",
      "Custo Após 1710 iterações é 0.26138406289469357\n",
      "Custo Após 1720 iterações é 0.2611426322546802\n",
      "Custo Após 1730 iterações é 0.2611840175936894\n",
      "Custo Após 1740 iterações é 0.2607085393408207\n",
      "Custo Após 1750 iterações é 0.25959042364152674\n",
      "Custo Após 1760 iterações é 0.258852739492554\n",
      "Custo Após 1770 iterações é 0.25909187151716717\n",
      "Custo Após 1780 iterações é 0.25794468593056896\n",
      "Custo Após 1790 iterações é 0.2573352451008589\n",
      "Custo Após 1800 iterações é 0.2567970410395163\n",
      "Custo Após 1810 iterações é 0.25640545822954\n",
      "Custo Após 1820 iterações é 0.25637570690378664\n",
      "Custo Após 1830 iterações é 0.25554102472034834\n",
      "Custo Após 1840 iterações é 0.2555481041596942\n",
      "Custo Após 1850 iterações é 0.25458384371507325\n",
      "Custo Após 1860 iterações é 0.25361521841362594\n",
      "Custo Após 1870 iterações é 0.25380164962989826\n",
      "Custo Após 1880 iterações é 0.25286017460365745\n",
      "Custo Após 1890 iterações é 0.2523312306303269\n",
      "Custo Após 1900 iterações é 0.2517378680152688\n",
      "Custo Após 1910 iterações é 0.25215999254586086\n",
      "Custo Após 1920 iterações é 0.2519280454862923\n",
      "Custo Após 1930 iterações é 0.2512761907164439\n",
      "Custo Após 1940 iterações é 0.25067477124018067\n",
      "Custo Após 1950 iterações é 0.251660466630794\n",
      "Custo Após 1960 iterações é 0.2514554203721364\n",
      "Custo Após 1970 iterações é 0.2508210810755303\n",
      "Custo Após 1980 iterações é 0.2505715709766211\n",
      "Custo Após 1990 iterações é 0.2504134595664143\n",
      "Custo Após 2000 iterações é 0.2505056350882616\n",
      "Custo Após 2010 iterações é 0.2502328234380095\n",
      "Custo Após 2020 iterações é 0.24919682601802423\n",
      "Custo Após 2030 iterações é 0.2481343721864976\n",
      "Custo Após 2040 iterações é 0.2471152267941918\n",
      "Custo Após 2050 iterações é 0.24598540278825842\n",
      "Custo Após 2060 iterações é 0.24503268594312747\n",
      "Custo Após 2070 iterações é 0.24359182562934295\n",
      "Custo Após 2080 iterações é 0.2448887493286618\n",
      "Custo Após 2090 iterações é 0.24333024324369967\n",
      "Custo Após 2100 iterações é 0.24302970088947604\n",
      "Custo Após 2110 iterações é 0.2424395377875341\n",
      "Custo Após 2120 iterações é 0.24201969057330236\n",
      "Custo Após 2130 iterações é 0.24164120090587823\n",
      "Custo Após 2140 iterações é 0.2413179091152912\n",
      "Custo Após 2150 iterações é 0.24129656107907968\n",
      "Custo Após 2160 iterações é 0.24102375637657594\n",
      "Custo Após 2170 iterações é 0.24149831933153226\n",
      "Custo Após 2180 iterações é 0.24461683315319616\n",
      "Custo Após 2190 iterações é 0.24396533373607676\n",
      "Custo Após 2200 iterações é 0.2418203896053193\n",
      "Custo Após 2210 iterações é 0.23898812795643584\n",
      "Custo Após 2220 iterações é 0.2379106865211734\n",
      "Custo Após 2230 iterações é 0.23942740257264042\n",
      "Custo Após 2240 iterações é 0.23919677930246017\n",
      "Custo Após 2250 iterações é 0.23861269987137024\n",
      "Custo Após 2260 iterações é 0.23833163527226522\n",
      "Custo Após 2270 iterações é 0.23878983976454937\n",
      "Custo Após 2280 iterações é 0.23703553888041642\n",
      "Custo Após 2290 iterações é 0.23602155138961145\n",
      "Custo Após 2300 iterações é 0.23357026128634725\n",
      "Custo Após 2310 iterações é 0.23342316854336606\n",
      "Custo Após 2320 iterações é 0.23285510143339086\n",
      "Custo Após 2330 iterações é 0.2323855190360746\n",
      "Custo Após 2340 iterações é 0.2316342933344698\n",
      "Custo Após 2350 iterações é 0.23105552078412106\n",
      "Custo Após 2360 iterações é 0.2317715468559477\n",
      "Custo Após 2370 iterações é 0.23091174567174064\n",
      "Custo Após 2380 iterações é 0.23190592701332435\n",
      "Custo Após 2390 iterações é 0.23649135510435326\n",
      "Custo Após 2400 iterações é 0.23532231450095462\n",
      "Custo Após 2410 iterações é 0.2343191056945823\n",
      "Custo Após 2420 iterações é 0.23404770777761047\n",
      "Custo Após 2430 iterações é 0.2322693165949559\n",
      "Custo Após 2440 iterações é 0.23024986151166882\n",
      "Custo Após 2450 iterações é 0.2279061751754796\n",
      "Custo Após 2460 iterações é 0.22976975628568824\n",
      "Custo Após 2470 iterações é 0.22936253562022646\n",
      "Custo Após 2480 iterações é 0.22961518457560517\n",
      "Custo Após 2490 iterações é 0.22894088850158315\n",
      "Custo Após 2500 iterações é 0.22907391646287315\n",
      "Custo Após 2510 iterações é 0.2288780892196056\n",
      "Custo Após 2520 iterações é 0.22936024777992195\n",
      "Custo Após 2530 iterações é 0.22916622721704855\n",
      "Custo Após 2540 iterações é 0.22832823324582374\n",
      "Custo Após 2550 iterações é 0.22936087238189734\n",
      "Custo Após 2560 iterações é 0.23026796658209314\n",
      "Custo Após 2570 iterações é 0.22917359752151545\n",
      "Custo Após 2580 iterações é 0.22877783444164193\n",
      "Custo Após 2590 iterações é 0.22933932728674528\n",
      "Custo Após 2600 iterações é 0.22980822480960167\n",
      "Custo Após 2610 iterações é 0.22864231927776135\n",
      "Custo Após 2620 iterações é 0.224025659521607\n",
      "Custo Após 2630 iterações é 0.2198177579197744\n",
      "Custo Após 2640 iterações é 0.2203467642049576\n",
      "Custo Após 2650 iterações é 0.22482498790993408\n",
      "Custo Após 2660 iterações é 0.22450202254656207\n",
      "Custo Após 2670 iterações é 0.22451348829174886\n",
      "Custo Após 2680 iterações é 0.22391680858340604\n",
      "Custo Após 2690 iterações é 0.2220506604528799\n",
      "Custo Após 2700 iterações é 0.22041361037770713\n",
      "Custo Após 2710 iterações é 0.21728548238379417\n",
      "Custo Após 2720 iterações é 0.21668265807662032\n",
      "Custo Após 2730 iterações é 0.21850851891433162\n",
      "Custo Após 2740 iterações é 0.22259497417159727\n",
      "Custo Após 2750 iterações é 0.22780443456263502\n",
      "Custo Após 2760 iterações é 0.22606131805560822\n",
      "Custo Após 2770 iterações é 0.22400359704452835\n",
      "Custo Após 2780 iterações é 0.224436499920605\n",
      "Custo Após 2790 iterações é 0.22227398350279431\n",
      "Custo Após 2800 iterações é 0.21646853982555256\n",
      "Custo Após 2810 iterações é 0.21480837447699536\n",
      "Custo Após 2820 iterações é 0.21532358422010311\n",
      "Custo Após 2830 iterações é 0.22005893589837294\n",
      "Custo Após 2840 iterações é 0.21858946166005996\n",
      "Custo Após 2850 iterações é 0.22028226964456507\n",
      "Custo Após 2860 iterações é 0.21769896239215356\n",
      "Custo Após 2870 iterações é 0.21972208404346152\n",
      "Custo Após 2880 iterações é 0.21680210566748934\n",
      "Custo Após 2890 iterações é 0.21737116255022987\n",
      "Custo Após 2900 iterações é 0.22281877217068927\n",
      "Custo Após 2910 iterações é 0.22178017869381214\n",
      "Custo Após 2920 iterações é 0.22096167694275454\n",
      "Custo Após 2930 iterações é 0.21493294242751398\n",
      "Custo Após 2940 iterações é 0.2138948051627265\n",
      "Custo Após 2950 iterações é 0.21388081692998476\n",
      "Custo Após 2960 iterações é 0.21452831117794027\n",
      "Custo Após 2970 iterações é 0.21385084134345703\n",
      "Custo Após 2980 iterações é 0.21367895872780607\n",
      "Custo Após 2990 iterações é 0.2118099110677523\n",
      "\n",
      "Treinamento Concluído.\n",
      "\n"
     ]
    }
   ],
   "source": [
    "# Treinamento do modelo\n",
    "\n",
    "print(\"\\nIniciando o Treinamento.\\n\")\n",
    "\n",
    "parametros, custo = modeloNN(X = X_treino, \n",
    "                             Y = y_treino, \n",
    "                             dims_camada_entrada = dims_camada_entrada, \n",
    "                             num_iterations = 3000, \n",
    "                             learning_rate = 0.0075)\n",
    "\n",
    "print(\"\\nTreinamento Concluído.\\n\")"
   ]
  },
  {
   "cell_type": "code",
   "execution_count": 47,
   "metadata": {},
   "outputs": [
    {
     "data": {
      "text/plain": [
       "[<matplotlib.lines.Line2D at 0x1f6b151d880>]"
      ]
     },
     "execution_count": 47,
     "metadata": {},
     "output_type": "execute_result"
    },
    {
     "data": {
      "image/png": "[encoded data removed]",
      "text/plain": [
       "<Figure size 640x480 with 1 Axes>"
      ]
     },
     "metadata": {},
     "output_type": "display_data"
    }
   ],
   "source": [
    "# Plot do erro durante o treinamento\n",
    "plt.plot(custo)"
   ]
  },
  {
   "cell_type": "code",
   "execution_count": 48,
   "metadata": {},
   "outputs": [],
   "source": [
    "# Previsões com os dados de treino\n",
    "y_pred_treino = predict(X_treino, parametros)"
   ]
  },
  {
   "cell_type": "code",
   "execution_count": 49,
   "metadata": {},
   "outputs": [
    {
     "data": {
      "text/plain": [
       "array([[8.89585139e-01, 6.43118381e-02, 8.89585626e-01, 7.24375055e-01,\n",
       "        8.89586262e-01, 1.41477817e-02, 8.66930484e-01, 5.83968893e-01,\n",
       "        5.36559775e-02, 8.89583633e-01, 8.89586917e-01, 8.56200237e-01,\n",
       "        8.89582587e-01, 8.46190906e-01, 8.42899005e-01, 5.79482341e-01,\n",
       "        8.89584730e-01, 1.06908491e-01, 8.21489809e-01, 2.82242369e-05,\n",
       "        1.33295890e-01, 4.21978631e-01, 8.89587065e-01, 8.01869290e-01,\n",
       "        6.16181070e-03, 5.69670100e-01, 8.89593182e-01, 8.89587907e-01,\n",
       "        8.77796119e-01, 8.15058451e-01, 2.09830697e-01, 8.89583459e-01,\n",
       "        6.04390690e-01, 8.89583534e-01, 8.89589857e-01, 2.42824509e-01,\n",
       "        5.67245758e-02, 6.96448964e-01, 8.85582276e-01, 3.36178140e-19,\n",
       "        8.85880995e-01, 8.88122164e-01, 8.70533556e-01, 4.76485211e-06,\n",
       "        8.89585746e-01, 7.18751068e-01, 8.89584292e-01, 5.73647239e-10,\n",
       "        2.14931482e-16, 5.76353334e-01, 8.89585445e-01, 9.15792454e-05,\n",
       "        8.44716198e-01, 7.13401043e-10, 3.77415083e-02, 4.13095440e-05,\n",
       "        6.02074859e-01, 8.09894084e-01, 7.72691429e-06, 7.54437442e-01,\n",
       "        2.03696146e-05, 8.89584222e-01, 6.88606388e-01, 8.89582055e-01,\n",
       "        7.95458786e-01, 4.14334890e-06, 8.71059519e-01, 8.89587253e-01,\n",
       "        8.89583894e-01, 7.43387152e-01, 4.92450381e-02, 8.89581805e-01,\n",
       "        2.33261430e-07, 8.82513939e-01, 8.16871770e-01, 1.59701015e-02,\n",
       "        8.74930051e-01, 2.96266183e-01, 8.89586164e-01, 7.62315779e-01,\n",
       "        3.20917480e-01, 7.74829174e-01, 8.66330615e-01, 5.56335867e-01,\n",
       "        8.94582145e-12, 3.68846466e-14, 2.44439291e-02, 8.84971559e-01,\n",
       "        8.65560982e-01, 3.12466148e-05, 3.55962783e-03, 8.89594528e-01,\n",
       "        7.39392097e-01, 5.90383918e-03, 8.89584046e-01, 8.89596094e-01,\n",
       "        3.67855677e-05, 8.73899319e-01, 8.89587399e-01, 5.78326942e-08,\n",
       "        8.89591882e-01, 8.23921402e-01, 8.89585357e-01, 3.31946880e-06,\n",
       "        8.89583557e-01, 1.68747902e-05, 2.07716983e-08, 8.89586254e-01,\n",
       "        5.21873274e-02, 8.89583717e-01, 8.89592109e-01, 7.80760118e-01,\n",
       "        1.86408068e-01, 1.04975314e-02, 6.34645128e-30, 3.29627406e-09,\n",
       "        8.89582866e-01, 8.89585001e-01, 7.39067327e-04, 8.89583818e-01,\n",
       "        6.47650343e-06, 8.89586567e-01, 8.59737887e-01, 8.89590615e-01,\n",
       "        3.71761809e-02, 8.89586645e-01, 9.95387282e-06, 1.39440241e-04,\n",
       "        6.41348563e-09, 6.38999198e-03, 7.86360554e-01, 8.89583106e-01,\n",
       "        8.47905423e-01, 8.89589771e-01, 8.51039135e-01, 8.89582532e-01,\n",
       "        1.62775302e-06, 8.89585405e-01, 8.89586671e-01, 2.48169867e-06,\n",
       "        1.06428945e-08, 8.89583065e-01, 8.89582738e-01, 4.71511046e-01,\n",
       "        7.49030839e-01, 8.89586312e-01, 7.30112806e-01, 1.72261317e-01,\n",
       "        1.28083282e-01, 6.93112760e-01, 1.24941230e-03, 1.67068131e-06,\n",
       "        3.82314262e-04, 8.89587513e-01, 8.31731699e-01, 8.45598290e-01,\n",
       "        8.89583587e-01, 5.97224884e-11, 8.89585974e-01, 3.73494712e-01,\n",
       "        8.89584731e-01, 8.45473542e-01, 8.89586245e-01, 8.89588267e-01,\n",
       "        8.89586555e-01, 8.89586830e-01, 8.25389902e-01, 1.37743229e-07,\n",
       "        8.89586494e-01, 8.89584108e-01, 7.32728422e-01, 6.80211874e-01,\n",
       "        8.89585445e-01, 8.89585324e-01, 8.89587107e-01, 2.03160345e-02,\n",
       "        6.00094803e-01, 1.19720427e-01, 1.45909134e-03, 8.89585917e-01,\n",
       "        8.89585975e-01, 8.27341646e-06, 8.87382085e-01, 2.38951947e-04,\n",
       "        8.89596144e-01, 1.15476949e-03, 2.01215147e-03, 8.89597136e-01,\n",
       "        6.73231244e-01, 4.51807195e-05, 7.91704845e-01, 6.78634005e-01,\n",
       "        8.85010811e-01, 8.78946660e-01, 8.29851783e-01, 1.43980777e-02,\n",
       "        4.85672746e-25, 8.05684754e-01, 8.89506340e-01, 8.86976253e-01,\n",
       "        2.16498715e-31, 4.00779882e-04, 8.25646553e-01, 8.82452956e-01,\n",
       "        2.12698009e-11, 8.89585596e-01, 4.60144620e-01, 8.89583745e-01,\n",
       "        8.79368505e-05, 8.83256563e-01, 4.14806151e-01, 2.54453966e-03,\n",
       "        7.92866102e-01, 3.50156779e-02, 7.72948792e-01, 1.22827048e-05,\n",
       "        1.90452563e-02, 8.89583859e-01, 8.89584571e-01, 7.30746239e-01,\n",
       "        8.35533592e-01, 2.62182654e-04, 2.93413520e-01, 1.58234618e-02,\n",
       "        8.89585884e-01, 7.62991157e-01, 3.95754645e-02, 8.81802029e-01,\n",
       "        4.76395574e-19, 1.72026464e-01, 8.38155320e-01, 8.89586657e-01,\n",
       "        9.10116709e-02, 8.25129942e-01, 1.04719173e-09, 4.47643244e-01,\n",
       "        8.58984530e-01, 7.27119707e-01, 7.82172586e-01, 8.89585387e-01,\n",
       "        8.89590522e-01, 8.89583127e-01, 6.78379418e-10, 6.54920435e-07,\n",
       "        8.33438503e-01, 5.83518910e-01, 4.65464049e-01, 8.75726738e-01,\n",
       "        8.39800670e-18, 2.61955296e-14, 3.22419538e-01, 7.04449811e-06,\n",
       "        1.94683148e-01, 8.89594555e-01, 8.89558466e-01, 8.89586847e-01,\n",
       "        1.63973007e-16, 8.89584802e-01, 7.00666163e-01, 7.15167801e-01,\n",
       "        7.84121705e-01, 8.01972757e-01, 8.89585131e-01, 2.22234605e-04,\n",
       "        8.73057467e-01, 8.89583258e-01, 1.27440512e-03, 2.36608059e-01,\n",
       "        8.54230554e-01, 7.97354093e-01, 6.70623233e-01, 8.89582144e-01,\n",
       "        8.89586832e-01, 7.77289684e-01, 3.94514464e-01, 7.73256490e-01,\n",
       "        8.71734521e-01, 1.78946213e-01, 1.50113405e-03, 8.89586662e-01,\n",
       "        2.34837697e-06, 1.25991051e-13, 5.24851486e-06, 7.74941644e-01,\n",
       "        9.71804013e-05, 8.68311203e-01, 4.98411842e-09, 8.89586582e-01,\n",
       "        1.91025718e-01, 2.29969310e-04, 4.52155667e-05, 7.48727445e-01,\n",
       "        9.63670236e-06, 8.54215828e-01, 5.32072275e-03, 1.57120949e-01,\n",
       "        8.89585833e-01, 8.80144505e-01, 8.89587028e-01, 8.63866852e-01,\n",
       "        8.89584951e-01, 2.41670249e-18, 8.12267758e-01, 8.89583908e-01,\n",
       "        1.41767943e-01, 8.89587267e-01, 8.89585225e-01, 7.50721336e-12,\n",
       "        9.50394608e-04, 4.97054002e-10, 8.86847214e-05, 8.89583253e-01,\n",
       "        7.30785507e-01, 8.89586950e-01, 6.70222021e-01, 3.71234903e-02,\n",
       "        8.89588219e-01, 8.89583672e-01, 6.73593502e-09, 8.07952077e-01,\n",
       "        8.03813964e-01, 2.77325485e-05, 8.89583984e-01, 9.92063692e-13,\n",
       "        8.89583250e-01, 8.89591553e-01, 8.67989072e-01, 2.00427593e-01,\n",
       "        8.87213368e-01, 1.18876589e-06, 1.11825507e-02, 2.45475806e-01,\n",
       "        7.63507909e-01, 8.89584812e-01, 8.66736897e-01, 8.89594748e-01,\n",
       "        4.84200878e-04, 1.28981441e-10, 1.52423317e-17, 7.76358028e-01,\n",
       "        8.89587491e-01, 8.89585797e-01, 8.89583070e-01, 8.38173700e-01,\n",
       "        8.61916883e-01, 1.27915124e-05, 8.80229420e-01, 7.68473962e-01,\n",
       "        8.89587307e-01, 2.20972323e-10, 4.98864879e-06, 8.89585367e-01,\n",
       "        1.02442649e-01, 8.89584570e-01, 4.21865302e-05, 7.20436349e-01,\n",
       "        8.89584540e-01, 8.89586049e-01, 8.89582942e-01, 8.80601212e-01,\n",
       "        6.36517454e-01, 8.89588495e-01, 8.61478073e-01, 7.78522470e-01,\n",
       "        1.21655311e-03, 3.13207583e-06, 8.89585667e-01, 3.55904331e-06,\n",
       "        4.62445415e-05, 6.31687134e-01, 8.14190838e-11, 6.34776455e-01,\n",
       "        8.84732566e-01, 8.89587392e-01, 6.50249577e-01, 8.89584648e-01,\n",
       "        8.89581917e-01, 5.92674730e-08, 6.99587079e-01, 8.89580168e-01,\n",
       "        8.79462542e-01, 5.85470896e-01, 2.82940274e-02, 8.12281111e-01,\n",
       "        6.57817953e-01, 5.31394143e-06, 8.44793695e-01, 8.89586495e-01,\n",
       "        8.89597417e-01, 8.89591691e-01, 8.33303426e-01, 8.89587039e-01,\n",
       "        8.89590699e-01, 8.28307519e-01, 8.89023326e-01, 8.89587103e-01,\n",
       "        4.20630309e-10, 8.39021738e-01, 8.30950872e-01, 8.78890057e-01,\n",
       "        8.59295834e-01, 8.44904355e-01, 7.52859834e-01, 8.52645374e-01,\n",
       "        6.52349733e-07, 7.41375489e-01, 8.89584777e-01, 3.00086992e-02,\n",
       "        3.86211472e-03, 8.89583219e-01, 7.74155603e-01, 8.89593001e-01,\n",
       "        8.89588043e-01, 7.36861684e-01, 2.50024306e-01, 8.89589959e-01,\n",
       "        8.89584405e-01, 8.70909868e-01, 8.89583163e-01, 8.47873187e-01,\n",
       "        2.51440194e-07, 8.89585678e-01, 7.29477995e-01, 8.89585739e-01,\n",
       "        1.68054727e-18, 8.89584128e-01, 8.89587606e-01, 8.89586204e-01,\n",
       "        7.66592748e-01, 9.39342671e-04, 8.89589640e-01, 1.12776741e-06,\n",
       "        6.73450162e-01, 7.00081865e-05, 8.89586051e-01, 3.54159422e-02,\n",
       "        8.89585651e-01, 1.54719087e-05, 8.10684248e-01, 7.12102566e-03,\n",
       "        8.89591713e-01, 8.89558987e-01, 9.85367862e-07, 2.70569786e-01,\n",
       "        7.09607275e-03, 2.37247084e-06, 8.89584211e-01, 8.89593797e-01,\n",
       "        6.45442808e-01, 8.89583829e-01, 3.50192348e-01, 8.57052645e-01,\n",
       "        4.80805334e-01, 7.79138722e-01, 4.43979815e-01, 7.27629188e-01,\n",
       "        6.14116242e-01, 8.48866218e-01, 1.50097394e-03, 1.82374216e-08,\n",
       "        2.76804659e-01, 2.01666777e-01, 8.38549594e-01, 8.15089457e-01,\n",
       "        1.50885461e-04, 1.91806100e-09, 8.89586405e-01, 8.89590038e-01,\n",
       "        8.40503695e-01, 8.89595827e-01, 8.89582251e-01, 7.33753673e-04,\n",
       "        8.08535495e-01, 8.61323258e-01, 8.31122280e-01, 8.87082879e-01,\n",
       "        7.68802399e-01, 8.32893278e-01, 8.51979534e-01, 4.47543218e-01,\n",
       "        8.81260265e-01, 8.89583049e-01, 7.21047532e-01]])"
      ]
     },
     "execution_count": 49,
     "metadata": {},
     "output_type": "execute_result"
    }
   ],
   "source": [
    "# Visualiza as previsões\n",
    "y_pred_treino"
   ]
  },
  {
   "cell_type": "code",
   "execution_count": 50,
   "metadata": {},
   "outputs": [],
   "source": [
    "# Ajustamos o shape em treino\n",
    "y_pred_treino = y_pred_treino.reshape(-1)\n",
    "y_treino = y_treino.reshape(-1)"
   ]
  },
  {
   "cell_type": "code",
   "execution_count": 51,
   "metadata": {},
   "outputs": [
    {
     "data": {
      "text/plain": [
       "array([ True, False,  True,  True,  True, False,  True,  True, False,\n",
       "        True,  True,  True,  True,  True,  True,  True,  True, False,\n",
       "        True, False, False, False,  True,  True, False,  True,  True,\n",
       "        True,  True,  True, False,  True,  True,  True,  True, False,\n",
       "       False,  True,  True, False,  True,  True,  True, False,  True,\n",
       "        True,  True, False, False,  True,  True, False,  True, False,\n",
       "       False, False,  True,  True, False,  True, False,  True,  True,\n",
       "        True,  True, False,  True,  True,  True,  True, False,  True,\n",
       "       False,  True,  True, False,  True, False,  True,  True, False,\n",
       "        True,  True,  True, False, False, False,  True,  True, False,\n",
       "       False,  True,  True, False,  True,  True, False,  True,  True,\n",
       "       False,  True,  True,  True, False,  True, False, False,  True,\n",
       "       False,  True,  True,  True, False, False, False, False,  True,\n",
       "        True, False,  True, False,  True,  True,  True, False,  True,\n",
       "       False, False, False, False,  True,  True,  True,  True,  True,\n",
       "        True, False,  True,  True, False, False,  True,  True, False,\n",
       "        True,  True,  True, False, False,  True, False, False, False,\n",
       "        True,  True,  True,  True, False,  True, False,  True,  True,\n",
       "        True,  True,  True,  True,  True, False,  True,  True,  True,\n",
       "        True,  True,  True,  True, False,  True, False, False,  True,\n",
       "        True, False,  True, False,  True, False, False,  True,  True,\n",
       "       False,  True,  True,  True,  True,  True, False, False,  True,\n",
       "        True,  True, False, False,  True,  True, False,  True, False,\n",
       "        True, False,  True, False, False,  True, False,  True, False,\n",
       "       False,  True,  True,  True,  True, False, False, False,  True,\n",
       "        True, False,  True, False, False,  True,  True, False,  True,\n",
       "       False, False,  True,  True,  True,  True,  True,  True, False,\n",
       "       False,  True,  True, False,  True, False, False, False, False,\n",
       "       False,  True,  True,  True, False,  True,  True,  True,  True,\n",
       "        True,  True, False,  True,  True, False, False,  True,  True,\n",
       "        True,  True,  True,  True, False,  True,  True, False, False,\n",
       "        True, False, False, False,  True, False,  True, False,  True,\n",
       "       False, False, False,  True, False,  True, False, False,  True,\n",
       "        True,  True,  True,  True, False,  True,  True, False,  True,\n",
       "        True, False, False, False, False,  True,  True,  True,  True,\n",
       "       False,  True,  True, False,  True,  True, False,  True, False,\n",
       "        True,  True,  True, False,  True, False, False, False,  True,\n",
       "        True,  True,  True, False, False, False,  True,  True,  True,\n",
       "        True,  True,  True, False,  True,  True,  True, False, False,\n",
       "        True, False,  True, False,  True,  True,  True,  True,  True,\n",
       "        True,  True,  True,  True, False, False,  True, False, False,\n",
       "        True, False,  True,  True,  True,  True,  True,  True, False,\n",
       "        True,  True,  True,  True, False,  True,  True, False,  True,\n",
       "        True,  True,  True,  True,  True,  True,  True,  True,  True,\n",
       "       False,  True,  True,  True,  True,  True,  True,  True, False,\n",
       "        True,  True, False, False,  True,  True,  True,  True,  True,\n",
       "       False,  True,  True,  True,  True,  True, False,  True,  True,\n",
       "        True, False,  True,  True,  True,  True, False,  True, False,\n",
       "        True, False,  True, False,  True, False,  True, False,  True,\n",
       "        True, False, False, False, False,  True,  True,  True,  True,\n",
       "       False,  True, False,  True, False,  True,  True,  True, False,\n",
       "       False, False, False,  True,  True, False, False,  True,  True,\n",
       "        True,  True,  True, False,  True,  True,  True,  True,  True,\n",
       "        True,  True, False,  True,  True,  True])"
      ]
     },
     "execution_count": 51,
     "metadata": {},
     "output_type": "execute_result"
    }
   ],
   "source": [
    "y_pred_treino > 0.5"
   ]
  },
  {
   "cell_type": "code",
   "execution_count": 52,
   "metadata": {},
   "outputs": [],
   "source": [
    "# Convertemos as previsões para o valor binário de classe \n",
    "# (0 ou 1, usando como threshold o valor de 0.5 da probabilidade)\n",
    "y_pred_treino = 1 * (y_pred_treino > 0.5)"
   ]
  },
  {
   "cell_type": "code",
   "execution_count": 53,
   "metadata": {},
   "outputs": [
    {
     "data": {
      "text/plain": [
       "array([1, 0, 1, 1, 1, 0, 1, 1, 0, 1, 1, 1, 1, 1, 1, 1, 1, 0, 1, 0, 0, 0,\n",
       "       1, 1, 0, 1, 1, 1, 1, 1, 0, 1, 1, 1, 1, 0, 0, 1, 1, 0, 1, 1, 1, 0,\n",
       "       1, 1, 1, 0, 0, 1, 1, 0, 1, 0, 0, 0, 1, 1, 0, 1, 0, 1, 1, 1, 1, 0,\n",
       "       1, 1, 1, 1, 0, 1, 0, 1, 1, 0, 1, 0, 1, 1, 0, 1, 1, 1, 0, 0, 0, 1,\n",
       "       1, 0, 0, 1, 1, 0, 1, 1, 0, 1, 1, 0, 1, 1, 1, 0, 1, 0, 0, 1, 0, 1,\n",
       "       1, 1, 0, 0, 0, 0, 1, 1, 0, 1, 0, 1, 1, 1, 0, 1, 0, 0, 0, 0, 1, 1,\n",
       "       1, 1, 1, 1, 0, 1, 1, 0, 0, 1, 1, 0, 1, 1, 1, 0, 0, 1, 0, 0, 0, 1,\n",
       "       1, 1, 1, 0, 1, 0, 1, 1, 1, 1, 1, 1, 1, 0, 1, 1, 1, 1, 1, 1, 1, 0,\n",
       "       1, 0, 0, 1, 1, 0, 1, 0, 1, 0, 0, 1, 1, 0, 1, 1, 1, 1, 1, 0, 0, 1,\n",
       "       1, 1, 0, 0, 1, 1, 0, 1, 0, 1, 0, 1, 0, 0, 1, 0, 1, 0, 0, 1, 1, 1,\n",
       "       1, 0, 0, 0, 1, 1, 0, 1, 0, 0, 1, 1, 0, 1, 0, 0, 1, 1, 1, 1, 1, 1,\n",
       "       0, 0, 1, 1, 0, 1, 0, 0, 0, 0, 0, 1, 1, 1, 0, 1, 1, 1, 1, 1, 1, 0,\n",
       "       1, 1, 0, 0, 1, 1, 1, 1, 1, 1, 0, 1, 1, 0, 0, 1, 0, 0, 0, 1, 0, 1,\n",
       "       0, 1, 0, 0, 0, 1, 0, 1, 0, 0, 1, 1, 1, 1, 1, 0, 1, 1, 0, 1, 1, 0,\n",
       "       0, 0, 0, 1, 1, 1, 1, 0, 1, 1, 0, 1, 1, 0, 1, 0, 1, 1, 1, 0, 1, 0,\n",
       "       0, 0, 1, 1, 1, 1, 0, 0, 0, 1, 1, 1, 1, 1, 1, 0, 1, 1, 1, 0, 0, 1,\n",
       "       0, 1, 0, 1, 1, 1, 1, 1, 1, 1, 1, 1, 0, 0, 1, 0, 0, 1, 0, 1, 1, 1,\n",
       "       1, 1, 1, 0, 1, 1, 1, 1, 0, 1, 1, 0, 1, 1, 1, 1, 1, 1, 1, 1, 1, 1,\n",
       "       0, 1, 1, 1, 1, 1, 1, 1, 0, 1, 1, 0, 0, 1, 1, 1, 1, 1, 0, 1, 1, 1,\n",
       "       1, 1, 0, 1, 1, 1, 0, 1, 1, 1, 1, 0, 1, 0, 1, 0, 1, 0, 1, 0, 1, 0,\n",
       "       1, 1, 0, 0, 0, 0, 1, 1, 1, 1, 0, 1, 0, 1, 0, 1, 1, 1, 0, 0, 0, 0,\n",
       "       1, 1, 0, 0, 1, 1, 1, 1, 1, 0, 1, 1, 1, 1, 1, 1, 1, 0, 1, 1, 1])"
      ]
     },
     "execution_count": 53,
     "metadata": {},
     "output_type": "execute_result"
    }
   ],
   "source": [
    "y_pred_treino"
   ]
  },
  {
   "cell_type": "code",
   "execution_count": 54,
   "metadata": {},
   "outputs": [],
   "source": [
    "# Calculamos a acurácia comparando valor real com valor previsto\n",
    "acc_treino = sum(1 * (y_pred_treino == y_treino)) / len(y_pred_treino) * 100"
   ]
  },
  {
   "cell_type": "code",
   "execution_count": 55,
   "metadata": {},
   "outputs": [
    {
     "name": "stdout",
     "output_type": "stream",
     "text": [
      "Acurácia nos dados de treino: 92.33954451345755\n"
     ]
    }
   ],
   "source": [
    "print(\"Acurácia nos dados de treino: \" + str(acc_treino))"
   ]
  },
  {
   "cell_type": "code",
   "execution_count": 56,
   "metadata": {},
   "outputs": [
    {
     "name": "stdout",
     "output_type": "stream",
     "text": [
      "              precision    recall  f1-score   support\n",
      "\n",
      "     Maligno       0.90      0.89      0.90       178\n",
      "     Benigno       0.94      0.94      0.94       305\n",
      "\n",
      "    accuracy                           0.92       483\n",
      "   macro avg       0.92      0.92      0.92       483\n",
      "weighted avg       0.92      0.92      0.92       483\n",
      "\n"
     ]
    }
   ],
   "source": [
    "print(classification_report(y_treino, y_pred_treino, target_names = ['Maligno', 'Benigno']))"
   ]
  },
  {
   "cell_type": "code",
   "execution_count": 57,
   "metadata": {},
   "outputs": [],
   "source": [
    "# Previsões com o modelo usando dados de teste\n",
    "y_pred_teste = predict(X_teste, parametros)"
   ]
  },
  {
   "cell_type": "code",
   "execution_count": 58,
   "metadata": {},
   "outputs": [
    {
     "data": {
      "text/plain": [
       "array([[8.89579589e-01, 8.65913618e-01, 8.89593186e-01, 8.44182351e-01,\n",
       "        2.59709664e-03, 5.84103363e-01, 2.52371856e-02, 1.71390898e-01,\n",
       "        8.89599148e-01, 5.43281715e-05, 8.89584467e-01, 4.16826859e-05,\n",
       "        8.89587842e-01, 8.72534542e-01, 8.31620849e-01, 6.81930186e-01,\n",
       "        7.95712159e-01, 8.89582738e-01, 8.68426245e-01, 8.89569306e-01,\n",
       "        6.03208491e-01, 5.73316656e-02, 8.78378985e-01, 8.89580837e-01,\n",
       "        1.10442190e-02, 1.26151002e-07, 8.89596090e-01, 4.35730019e-02,\n",
       "        6.56546404e-01, 1.89700680e-06, 1.35924146e-03, 7.80286359e-01,\n",
       "        8.89594114e-01, 8.62775161e-01, 5.07193426e-01, 4.27516240e-03,\n",
       "        5.12309808e-04, 8.88669255e-01, 3.73463111e-02, 8.89586502e-01,\n",
       "        4.94619788e-01, 2.16286459e-08, 1.66055550e-14, 8.89594543e-01,\n",
       "        8.59633265e-01, 8.47718631e-01, 8.77835380e-01, 8.00048266e-01,\n",
       "        8.89591292e-01, 1.49950812e-03, 7.89733425e-03, 5.37285340e-07,\n",
       "        8.76180180e-01, 7.41720934e-01, 5.15292842e-03, 5.71343073e-01,\n",
       "        8.89587538e-01, 7.94703230e-01, 1.17071547e-01, 8.89587199e-01,\n",
       "        6.42603796e-01, 8.73401181e-01, 7.57594434e-01, 8.89592830e-01,\n",
       "        8.88997279e-01, 1.29454666e-01, 1.79494127e-14, 8.89588069e-01,\n",
       "        8.26793083e-01, 8.89586595e-01, 8.66842180e-03, 8.89585595e-01,\n",
       "        6.12436996e-01, 8.89581649e-01, 8.33211527e-01, 2.17267963e-04,\n",
       "        8.39946124e-01, 1.55123985e-02, 8.89589780e-01, 2.18695422e-02,\n",
       "        8.32468457e-01, 8.89583711e-01, 3.12121946e-07, 4.19886489e-03,\n",
       "        8.84568959e-01, 1.00120639e-06]])"
      ]
     },
     "execution_count": 58,
     "metadata": {},
     "output_type": "execute_result"
    }
   ],
   "source": [
    "# Visualiza os dados\n",
    "y_pred_teste"
   ]
  },
  {
   "cell_type": "code",
   "execution_count": 59,
   "metadata": {},
   "outputs": [],
   "source": [
    "# Ajustamos os shapes\n",
    "y_pred_teste = y_pred_teste.reshape(-1)\n",
    "y_teste = y_teste.reshape(-1)"
   ]
  },
  {
   "cell_type": "code",
   "execution_count": 60,
   "metadata": {},
   "outputs": [],
   "source": [
    "# Convertemos as previsões para o valor binário de classe\n",
    "y_pred_teste = 1 * (y_pred_teste > 0.5)"
   ]
  },
  {
   "cell_type": "code",
   "execution_count": 61,
   "metadata": {},
   "outputs": [
    {
     "data": {
      "text/plain": [
       "array([1, 1, 1, 1, 0, 1, 0, 0, 1, 0, 1, 0, 1, 1, 1, 1, 1, 1, 1, 1, 1, 0,\n",
       "       1, 1, 0, 0, 1, 0, 1, 0, 0, 1, 1, 1, 1, 0, 0, 1, 0, 1, 0, 0, 0, 1,\n",
       "       1, 1, 1, 1, 1, 0, 0, 0, 1, 1, 0, 1, 1, 1, 0, 1, 1, 1, 1, 1, 1, 0,\n",
       "       0, 1, 1, 1, 0, 1, 1, 1, 1, 0, 1, 0, 1, 0, 1, 1, 0, 0, 1, 0])"
      ]
     },
     "execution_count": 61,
     "metadata": {},
     "output_type": "execute_result"
    }
   ],
   "source": [
    "# Visualizamos as previsões\n",
    "y_pred_teste"
   ]
  },
  {
   "cell_type": "code",
   "execution_count": 62,
   "metadata": {},
   "outputs": [],
   "source": [
    "# Calculamos a acurácia\n",
    "acuracia = sum(1 * (y_pred_teste == y_teste)) / len(y_pred_teste) * 100"
   ]
  },
  {
   "cell_type": "code",
   "execution_count": 63,
   "metadata": {},
   "outputs": [
    {
     "name": "stdout",
     "output_type": "stream",
     "text": [
      "Acurácia nos dados de teste: 91.86046511627907\n"
     ]
    }
   ],
   "source": [
    "print(\"Acurácia nos dados de teste: \" + str(acuracia))"
   ]
  },
  {
   "cell_type": "code",
   "execution_count": 64,
   "metadata": {},
   "outputs": [
    {
     "name": "stdout",
     "output_type": "stream",
     "text": [
      "              precision    recall  f1-score   support\n",
      "\n",
      "     Maligno       0.94      0.85      0.89        34\n",
      "     Benigno       0.91      0.96      0.93        52\n",
      "\n",
      "    accuracy                           0.92        86\n",
      "   macro avg       0.92      0.91      0.91        86\n",
      "weighted avg       0.92      0.92      0.92        86\n",
      "\n"
     ]
    }
   ],
   "source": [
    "print(classification_report(y_teste, y_pred_teste, target_names = ['Maligno', 'Benigno']))"
   ]
  },
  {
   "cell_type": "markdown",
   "metadata": {},
   "source": [
    "## Conclusão\n",
    "\n",
    "Neste notebook, implementamos uma rede neural do zero utilizando apenas operações matemáticas e a biblioteca NumPy. Passamos por todas as etapas fundamentais do funcionamento de uma rede neural, incluindo a inicialização dos pesos, forward propagation, cálculo da função de perda, backpropagation e atualização dos pesos com gradiente descendente.\n",
    "\n",
    "Ao construir a rede manualmente, conseguimos visualizar como cada etapa contribui para o aprendizado do modelo, oferecendo uma compreensão mais profunda do que acontece por trás dos frameworks populares como TensorFlow e PyTorch.\n",
    "\n",
    "### Próximos Passos\n",
    "Se quiser expandir este projeto, aqui estão algumas sugestões:\n",
    "\n",
    "- Implementar outras funções de ativação, como Tanh ou Leaky ReLU.\n",
    "- Testar diferentes funções de perda para problemas específicos.\n",
    "- Adicionar suporte para múltiplas camadas ocultas e diferentes quantidades de neurônios.\n",
    "- Explorar técnicas de otimização mais avançadas, como Adam ou RMSprop.\n",
    "\n",
    "Essa abordagem didática permite uma base sólida para quem deseja avançar no estudo de redes neurais e machine learning.\n"
   ]
  },
  {
   "cell_type": "markdown",
   "metadata": {},
   "source": [
    "# Fim"
   ]
  }
 ],
 "metadata": {
  "kernelspec": {
   "display_name": "base",
   "language": "python",
   "name": "python3"
  },
  "language_info": {
   "codemirror_mode": {
    "name": "ipython",
    "version": 3
   },
   "file_extension": ".py",
   "mimetype": "text/x-python",
   "name": "python",
   "nbconvert_exporter": "python",
   "pygments_lexer": "ipython3",
   "version": "3.9.13"
  }
 },
 "nbformat": 4,
 "nbformat_minor": 4
}
